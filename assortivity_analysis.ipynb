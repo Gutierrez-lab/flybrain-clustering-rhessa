{
 "cells": [
  {
   "cell_type": "markdown",
   "metadata": {},
   "source": [
    "# Assortivity Analysis of the oviIN connectome\n",
    "This will need several things:\n",
    "    \n",
    "1. assortivity of the wholebrain data\n",
    "2. assortivity of the oviIN connectome\n",
    "3. filtering and assortivity analysis for each of the clusters at a higher resolution\n",
    "4. plotting a line plot that visibily shows where the different clusters fall (resolutions could be plotted by color?)"
   ]
  },
  {
   "cell_type": "code",
   "execution_count": 8,
   "metadata": {},
   "outputs": [],
   "source": [
    "from util import *\n",
    "import numpy as np\n",
    "import matplotlib.pyplot as plt\n",
    "import pandas as pd\n",
    "import os\n",
    "import networkx as nx"
   ]
  },
  {
   "cell_type": "markdown",
   "metadata": {},
   "source": [
    "## Pulling wholebrain data for assortivity"
   ]
  },
  {
   "cell_type": "code",
   "execution_count": 16,
   "metadata": {},
   "outputs": [
    {
     "name": "stdout",
     "output_type": "stream",
     "text": [
      "2024 02 06 21:09:31  Loading node dataframe\n",
      "2024 02 06 21:09:32  Done!\n"
     ]
    },
    {
     "data": {
      "text/html": [
       "<div>\n",
       "<style scoped>\n",
       "    .dataframe tbody tr th:only-of-type {\n",
       "        vertical-align: middle;\n",
       "    }\n",
       "\n",
       "    .dataframe tbody tr th {\n",
       "        vertical-align: top;\n",
       "    }\n",
       "\n",
       "    .dataframe thead th {\n",
       "        text-align: right;\n",
       "    }\n",
       "</style>\n",
       "<table border=\"1\" class=\"dataframe\">\n",
       "  <thead>\n",
       "    <tr style=\"text-align: right;\">\n",
       "      <th></th>\n",
       "      <th>bodyId_pre</th>\n",
       "      <th>bodyId_post</th>\n",
       "      <th>weight</th>\n",
       "    </tr>\n",
       "  </thead>\n",
       "  <tbody>\n",
       "    <tr>\n",
       "      <th>0</th>\n",
       "      <td>200326126</td>\n",
       "      <td>264083994</td>\n",
       "      <td>3</td>\n",
       "    </tr>\n",
       "    <tr>\n",
       "      <th>1</th>\n",
       "      <td>200326126</td>\n",
       "      <td>295816140</td>\n",
       "      <td>5</td>\n",
       "    </tr>\n",
       "    <tr>\n",
       "      <th>2</th>\n",
       "      <td>200326126</td>\n",
       "      <td>296203440</td>\n",
       "      <td>1</td>\n",
       "    </tr>\n",
       "    <tr>\n",
       "      <th>3</th>\n",
       "      <td>200326126</td>\n",
       "      <td>325122109</td>\n",
       "      <td>2</td>\n",
       "    </tr>\n",
       "    <tr>\n",
       "      <th>4</th>\n",
       "      <td>200326126</td>\n",
       "      <td>326474963</td>\n",
       "      <td>1</td>\n",
       "    </tr>\n",
       "    <tr>\n",
       "      <th>...</th>\n",
       "      <td>...</td>\n",
       "      <td>...</td>\n",
       "      <td>...</td>\n",
       "    </tr>\n",
       "    <tr>\n",
       "      <th>3550398</th>\n",
       "      <td>7112622236</td>\n",
       "      <td>328283521</td>\n",
       "      <td>1</td>\n",
       "    </tr>\n",
       "    <tr>\n",
       "      <th>3550399</th>\n",
       "      <td>7112622236</td>\n",
       "      <td>357932060</td>\n",
       "      <td>1</td>\n",
       "    </tr>\n",
       "    <tr>\n",
       "      <th>3550400</th>\n",
       "      <td>7112622236</td>\n",
       "      <td>357940977</td>\n",
       "      <td>1</td>\n",
       "    </tr>\n",
       "    <tr>\n",
       "      <th>3550401</th>\n",
       "      <td>7112622236</td>\n",
       "      <td>358631450</td>\n",
       "      <td>1</td>\n",
       "    </tr>\n",
       "    <tr>\n",
       "      <th>3550402</th>\n",
       "      <td>7112622236</td>\n",
       "      <td>480672667</td>\n",
       "      <td>1</td>\n",
       "    </tr>\n",
       "  </tbody>\n",
       "</table>\n",
       "<p>3550403 rows × 3 columns</p>\n",
       "</div>"
      ],
      "text/plain": [
       "         bodyId_pre  bodyId_post  weight\n",
       "0         200326126    264083994       3\n",
       "1         200326126    295816140       5\n",
       "2         200326126    296203440       1\n",
       "3         200326126    325122109       2\n",
       "4         200326126    326474963       1\n",
       "...             ...          ...     ...\n",
       "3550398  7112622236    328283521       1\n",
       "3550399  7112622236    357932060       1\n",
       "3550400  7112622236    357940977       1\n",
       "3550401  7112622236    358631450       1\n",
       "3550402  7112622236    480672667       1\n",
       "\n",
       "[3550403 rows x 3 columns]"
      ]
     },
     "execution_count": 16,
     "metadata": {},
     "output_type": "execute_result"
    }
   ],
   "source": [
    "# Import file, create dataframe and create networkx graph\n",
    "hemibrain_version = \"v1.2\"\n",
    "direct = \"exported-traced-adjacencies-v1.2/\"\n",
    "filename = \"traced-roi-connections.csv\"\n",
    "\n",
    "log_msg(\"Loading node dataframe\")\n",
    "wb = pd.read_csv(os.path.join(direct, filename))\n",
    "log_msg(\"Done!\")\n",
    "wb = wb.groupby(['bodyId_pre', 'bodyId_post'], as_index=False)['weight'].sum()\n",
    "wb"
   ]
  },
  {
   "cell_type": "code",
   "execution_count": 17,
   "metadata": {},
   "outputs": [],
   "source": [
    "wbG = nx.from_pandas_edgelist(wb, 'bodyId_pre', 'bodyId_post', edge_attr='weight', create_using=nx.DiGraph())"
   ]
  },
  {
   "cell_type": "code",
   "execution_count": 18,
   "metadata": {},
   "outputs": [
    {
     "data": {
      "text/plain": [
       "-0.022963541372236385"
      ]
     },
     "execution_count": 18,
     "metadata": {},
     "output_type": "execute_result"
    }
   ],
   "source": [
    "nx.degree_assortativity_coefficient(wbG)"
   ]
  },
  {
   "cell_type": "code",
   "execution_count": null,
   "metadata": {},
   "outputs": [],
   "source": []
  }
 ],
 "metadata": {
  "kernelspec": {
   "display_name": "flybrainlab",
   "language": "python",
   "name": "python3"
  },
  "language_info": {
   "codemirror_mode": {
    "name": "ipython",
    "version": 3
   },
   "file_extension": ".py",
   "mimetype": "text/x-python",
   "name": "python",
   "nbconvert_exporter": "python",
   "pygments_lexer": "ipython3",
   "version": "3.11.7"
  }
 },
 "nbformat": 4,
 "nbformat_minor": 2
}
