{
 "cells": [
  {
   "cell_type": "markdown",
   "metadata": {},
   "source": [
    "# Assortivity Analysis of the oviIN connectome\n",
    "This will need several things:\n",
    "    \n",
    "1. assortivity of the wholebrain data\n",
    "2. assortivity of the oviIN connectome\n",
    "3. filtering and assortivity analysis for each of the clusters at a higher resolution\n",
    "4. plotting a line plot that visibily shows where the different clusters fall (resolutions could be plotted by color?)"
   ]
  },
  {
   "cell_type": "code",
   "execution_count": 1,
   "metadata": {},
   "outputs": [
    {
     "name": "stdout",
     "output_type": "stream",
     "text": [
      "Intel MKL WARNING: Support of Intel(R) Streaming SIMD Extensions 4.2 (Intel(R) SSE4.2) enabled only processors has been deprecated. Intel oneAPI Math Kernel Library 2025.0 will require Intel(R) Advanced Vector Extensions (Intel(R) AVX) instructions.\n",
      "Intel MKL WARNING: Support of Intel(R) Streaming SIMD Extensions 4.2 (Intel(R) SSE4.2) enabled only processors has been deprecated. Intel oneAPI Math Kernel Library 2025.0 will require Intel(R) Advanced Vector Extensions (Intel(R) AVX) instructions.\n",
      "Connected to neuprint\n"
     ]
    }
   ],
   "source": [
    "from util import *\n",
    "import numpy as np\n",
    "import matplotlib.pyplot as plt\n",
    "import pandas as pd\n",
    "import os\n",
    "import networkx as nx\n",
    "from neuprint import Client, fetch_adjacencies, NeuronCriteria as NC\n",
    "\n",
    "\n",
    "auth_token_file = open(\"/Users/rhessa/flybrain-clustering/flybrain.auth.txt\", 'r')\n",
    "auth_token = next(auth_token_file).strip()\n",
    "try:\n",
    "    np_client = Client('neuprint.janelia.org', dataset='hemibrain:v1.2.1', token=auth_token)\n",
    "    print(\"Connected to neuprint\")\n",
    "except:\n",
    "    np_client = None"
   ]
  },
  {
   "cell_type": "code",
   "execution_count": 2,
   "metadata": {},
   "outputs": [
    {
     "data": {
      "text/plain": [
       "'/Users/rhessa/flybrain-clustering'"
      ]
     },
     "execution_count": 2,
     "metadata": {},
     "output_type": "execute_result"
    }
   ],
   "source": [
    "pwd"
   ]
  },
  {
   "cell_type": "markdown",
   "metadata": {},
   "source": [
    "## Pulling wholebrain data for assortivity"
   ]
  },
  {
   "cell_type": "code",
   "execution_count": 3,
   "metadata": {},
   "outputs": [
    {
     "name": "stdout",
     "output_type": "stream",
     "text": [
      "2024 03 25 22:14:03  Loading node dataframe\n",
      "2024 03 25 22:14:04  Done!\n"
     ]
    },
    {
     "data": {
      "text/html": [
       "<div>\n",
       "<style scoped>\n",
       "    .dataframe tbody tr th:only-of-type {\n",
       "        vertical-align: middle;\n",
       "    }\n",
       "\n",
       "    .dataframe tbody tr th {\n",
       "        vertical-align: top;\n",
       "    }\n",
       "\n",
       "    .dataframe thead th {\n",
       "        text-align: right;\n",
       "    }\n",
       "</style>\n",
       "<table border=\"1\" class=\"dataframe\">\n",
       "  <thead>\n",
       "    <tr style=\"text-align: right;\">\n",
       "      <th></th>\n",
       "      <th>bodyId_pre</th>\n",
       "      <th>bodyId_post</th>\n",
       "      <th>weight</th>\n",
       "    </tr>\n",
       "  </thead>\n",
       "  <tbody>\n",
       "    <tr>\n",
       "      <th>0</th>\n",
       "      <td>200326126</td>\n",
       "      <td>264083994</td>\n",
       "      <td>3</td>\n",
       "    </tr>\n",
       "    <tr>\n",
       "      <th>1</th>\n",
       "      <td>200326126</td>\n",
       "      <td>295816140</td>\n",
       "      <td>5</td>\n",
       "    </tr>\n",
       "    <tr>\n",
       "      <th>2</th>\n",
       "      <td>200326126</td>\n",
       "      <td>296203440</td>\n",
       "      <td>1</td>\n",
       "    </tr>\n",
       "    <tr>\n",
       "      <th>3</th>\n",
       "      <td>200326126</td>\n",
       "      <td>325122109</td>\n",
       "      <td>2</td>\n",
       "    </tr>\n",
       "    <tr>\n",
       "      <th>4</th>\n",
       "      <td>200326126</td>\n",
       "      <td>326474963</td>\n",
       "      <td>1</td>\n",
       "    </tr>\n",
       "    <tr>\n",
       "      <th>...</th>\n",
       "      <td>...</td>\n",
       "      <td>...</td>\n",
       "      <td>...</td>\n",
       "    </tr>\n",
       "    <tr>\n",
       "      <th>3550398</th>\n",
       "      <td>7112622236</td>\n",
       "      <td>328283521</td>\n",
       "      <td>1</td>\n",
       "    </tr>\n",
       "    <tr>\n",
       "      <th>3550399</th>\n",
       "      <td>7112622236</td>\n",
       "      <td>357932060</td>\n",
       "      <td>1</td>\n",
       "    </tr>\n",
       "    <tr>\n",
       "      <th>3550400</th>\n",
       "      <td>7112622236</td>\n",
       "      <td>357940977</td>\n",
       "      <td>1</td>\n",
       "    </tr>\n",
       "    <tr>\n",
       "      <th>3550401</th>\n",
       "      <td>7112622236</td>\n",
       "      <td>358631450</td>\n",
       "      <td>1</td>\n",
       "    </tr>\n",
       "    <tr>\n",
       "      <th>3550402</th>\n",
       "      <td>7112622236</td>\n",
       "      <td>480672667</td>\n",
       "      <td>1</td>\n",
       "    </tr>\n",
       "  </tbody>\n",
       "</table>\n",
       "<p>3550403 rows × 3 columns</p>\n",
       "</div>"
      ],
      "text/plain": [
       "         bodyId_pre  bodyId_post  weight\n",
       "0         200326126    264083994       3\n",
       "1         200326126    295816140       5\n",
       "2         200326126    296203440       1\n",
       "3         200326126    325122109       2\n",
       "4         200326126    326474963       1\n",
       "...             ...          ...     ...\n",
       "3550398  7112622236    328283521       1\n",
       "3550399  7112622236    357932060       1\n",
       "3550400  7112622236    357940977       1\n",
       "3550401  7112622236    358631450       1\n",
       "3550402  7112622236    480672667       1\n",
       "\n",
       "[3550403 rows x 3 columns]"
      ]
     },
     "execution_count": 3,
     "metadata": {},
     "output_type": "execute_result"
    }
   ],
   "source": [
    "# Import file, create dataframe and create networkx graph\n",
    "hemibrain_version = \"v1.2\"\n",
    "direct = \"exported-traced-adjacencies-v1.2/\"\n",
    "filename = \"traced-roi-connections.csv\"\n",
    "\n",
    "log_msg(\"Loading node dataframe\")\n",
    "wb = pd.read_csv(os.path.join(direct, filename))\n",
    "log_msg(\"Done!\")\n",
    "wb = wb.groupby(['bodyId_pre', 'bodyId_post'], as_index=False)['weight'].sum()\n",
    "wb"
   ]
  },
  {
   "cell_type": "code",
   "execution_count": 4,
   "metadata": {},
   "outputs": [],
   "source": [
    "wbG = nx.from_pandas_edgelist(wb, 'bodyId_pre', 'bodyId_post', edge_attr='weight', create_using=nx.DiGraph())"
   ]
  },
  {
   "cell_type": "code",
   "execution_count": 5,
   "metadata": {},
   "outputs": [],
   "source": [
    "assort_wb = nx.degree_assortativity_coefficient(wbG)"
   ]
  },
  {
   "cell_type": "markdown",
   "metadata": {},
   "source": [
    "# Planning process to do this for each of the clusters\n",
    "1. Seperate per cluster and isolate bodyIDs \\\n",
    "    a. Pull in partition data\\\n",
    "    b. Filter per cluster\\\n",
    "    c. isolate bodyIds\n",
    "2. Use bodyIds to pull adjacencies to and from that list of bodyIds\n",
    "3. Use edgelist to calculate assortivity and add value to dataframe\n",
    "4. Plot values in line plot\n"
   ]
  },
  {
   "cell_type": "code",
   "execution_count": 6,
   "metadata": {},
   "outputs": [],
   "source": [
    "# Pull in full dataframe connectome data\n",
    "full = pd.read_csv(os.path.join('oviIN_combined/preprocessed-v1.2.1/', 'preprocessed_nodes.csv'), index_col=0)"
   ]
  },
  {
   "cell_type": "code",
   "execution_count": 76,
   "metadata": {},
   "outputs": [],
   "source": [
    "# Filter by cluster at 0.0 resolution\n",
    "cluster1 = full[full['0.1'] == 12]\n",
    "cluster2 = full[full['0.0'] == 2]\n",
    "cluster3 = full[full['0.0'] == 3]\n",
    "cluster4 = full[full['0.0'] == 4]\n",
    "cluster5 = full[full['0.0'] == 5]\n",
    "cluster6 = full[full['0.0'] == 6]"
   ]
  },
  {
   "cell_type": "code",
   "execution_count": 80,
   "metadata": {},
   "outputs": [
    {
     "data": {
      "text/plain": [
       "[1013425227]"
      ]
     },
     "execution_count": 80,
     "metadata": {},
     "output_type": "execute_result"
    }
   ],
   "source": [
    "cluster1_ids = cluster1.index.tolist()\n",
    "cluster1_ids"
   ]
  },
  {
   "cell_type": "code",
   "execution_count": 78,
   "metadata": {},
   "outputs": [
    {
     "name": "stdout",
     "output_type": "stream",
     "text": [
      "2024 03 25 23:08:56  Fetching adjacencies\n",
      "2024 03 25 23:08:58  Done!\n"
     ]
    }
   ],
   "source": [
    "# Fetch the adjacencies for the cluster\n",
    "log_msg(\"Fetching adjacencies\")\n",
    "_, edgelist_1 = fetch_adjacencies(NC(bodyId=cluster1_ids))\n",
    "log_msg(\"Done!\")"
   ]
  },
  {
   "cell_type": "code",
   "execution_count": 79,
   "metadata": {},
   "outputs": [
    {
     "data": {
      "text/html": [
       "<div>\n",
       "<style scoped>\n",
       "    .dataframe tbody tr th:only-of-type {\n",
       "        vertical-align: middle;\n",
       "    }\n",
       "\n",
       "    .dataframe tbody tr th {\n",
       "        vertical-align: top;\n",
       "    }\n",
       "\n",
       "    .dataframe thead th {\n",
       "        text-align: right;\n",
       "    }\n",
       "</style>\n",
       "<table border=\"1\" class=\"dataframe\">\n",
       "  <thead>\n",
       "    <tr style=\"text-align: right;\">\n",
       "      <th></th>\n",
       "      <th>bodyId_pre</th>\n",
       "      <th>bodyId_post</th>\n",
       "      <th>roi</th>\n",
       "      <th>weight</th>\n",
       "    </tr>\n",
       "  </thead>\n",
       "  <tbody>\n",
       "  </tbody>\n",
       "</table>\n",
       "</div>"
      ],
      "text/plain": [
       "Empty DataFrame\n",
       "Columns: [bodyId_pre, bodyId_post, roi, weight]\n",
       "Index: []"
      ]
     },
     "execution_count": 79,
     "metadata": {},
     "output_type": "execute_result"
    }
   ],
   "source": [
    "edgelist_1"
   ]
  },
  {
   "cell_type": "code",
   "execution_count": 64,
   "metadata": {},
   "outputs": [
    {
     "name": "stderr",
     "output_type": "stream",
     "text": [
      "/Users/rhessa/miniconda3/envs/flybrainlab/lib/python3.11/site-packages/networkx/algorithms/assortativity/correlation.py:298: RuntimeWarning:\n",
      "\n",
      "invalid value encountered in scalar divide\n",
      "\n"
     ]
    }
   ],
   "source": [
    "# Instantiate nx item\n",
    "cluster1G = nx.from_pandas_edgelist(edgelist_1, 'bodyId_pre', 'bodyId_post', edge_attr='weight', create_using=nx.DiGraph())\n",
    "assort_c1 = nx.degree_assortativity_coefficient(cluster1G)"
   ]
  },
  {
   "cell_type": "code",
   "execution_count": 12,
   "metadata": {},
   "outputs": [
    {
     "data": {
      "text/plain": [
       "-0.2133818498437977"
      ]
     },
     "execution_count": 12,
     "metadata": {},
     "output_type": "execute_result"
    }
   ],
   "source": [
    "assort_c1"
   ]
  },
  {
   "cell_type": "code",
   "execution_count": 13,
   "metadata": {},
   "outputs": [
    {
     "data": {
      "text/html": [
       "<div>\n",
       "<style scoped>\n",
       "    .dataframe tbody tr th:only-of-type {\n",
       "        vertical-align: middle;\n",
       "    }\n",
       "\n",
       "    .dataframe tbody tr th {\n",
       "        vertical-align: top;\n",
       "    }\n",
       "\n",
       "    .dataframe thead th {\n",
       "        text-align: right;\n",
       "    }\n",
       "</style>\n",
       "<table border=\"1\" class=\"dataframe\">\n",
       "  <thead>\n",
       "    <tr style=\"text-align: right;\">\n",
       "      <th></th>\n",
       "      <th>assortativity</th>\n",
       "    </tr>\n",
       "  </thead>\n",
       "  <tbody>\n",
       "    <tr>\n",
       "      <th>whole</th>\n",
       "      <td>-0.022964</td>\n",
       "    </tr>\n",
       "    <tr>\n",
       "      <th>0.0_1</th>\n",
       "      <td>-0.213382</td>\n",
       "    </tr>\n",
       "    <tr>\n",
       "      <th>0.0_2</th>\n",
       "      <td>NaN</td>\n",
       "    </tr>\n",
       "    <tr>\n",
       "      <th>0.0_3</th>\n",
       "      <td>NaN</td>\n",
       "    </tr>\n",
       "    <tr>\n",
       "      <th>0.0_4</th>\n",
       "      <td>NaN</td>\n",
       "    </tr>\n",
       "    <tr>\n",
       "      <th>0.0_5</th>\n",
       "      <td>NaN</td>\n",
       "    </tr>\n",
       "    <tr>\n",
       "      <th>0.0_6</th>\n",
       "      <td>NaN</td>\n",
       "    </tr>\n",
       "  </tbody>\n",
       "</table>\n",
       "</div>"
      ],
      "text/plain": [
       "      assortativity\n",
       "whole     -0.022964\n",
       "0.0_1     -0.213382\n",
       "0.0_2           NaN\n",
       "0.0_3           NaN\n",
       "0.0_4           NaN\n",
       "0.0_5           NaN\n",
       "0.0_6           NaN"
      ]
     },
     "execution_count": 13,
     "metadata": {},
     "output_type": "execute_result"
    }
   ],
   "source": [
    "# Add the degree assortativity to a dataframe that has row names and a column of assortivity values\n",
    "assort_df = pd.DataFrame(columns=['assortativity'], index=['whole', '0.0_1', '0.0_2', '0.0_3', '0.0_4', '0.0_5', '0.0_6'])\n",
    "assort_df.loc['whole'] = assort_wb\n",
    "assort_df.loc['0.0_1'] = assort_c1\n",
    "\n",
    "# Print dataframe\n",
    "assort_df"
   ]
  },
  {
   "cell_type": "code",
   "execution_count": 82,
   "metadata": {},
   "outputs": [],
   "source": [
    "# Create a function out of it to make it easier to run on all clusters\n",
    "def assortativity(cluster, x):\n",
    "    cluster_ids = cluster.index.tolist()\n",
    "    _, edgelist = fetch_adjacencies(NC(bodyId=cluster_ids))\n",
    "    print(x)\n",
    "    if len(edgelist) <= 10:\n",
    "        return np.nan\n",
    "    clusterG = nx.from_pandas_edgelist(edgelist, 'bodyId_pre', 'bodyId_post', edge_attr='weight', create_using=nx.DiGraph())\n",
    "    assort = nx.degree_assortativity_coefficient(clusterG)\n",
    "    return assort\n",
    "\n",
    "# Using this function from jaccard sim to get the right clusters\n",
    "def get_clusters(df, resolution):\n",
    "    cluster_list = df[resolution].unique().tolist()\n",
    "    return cluster_list\n",
    "\n",
    "# Create function that does the whole process of dividing clusters and calculating assortativity\n",
    "def main_assort(df, resolution):\n",
    "    cluster_list = get_clusters(df, resolution)\n",
    "    assort_df = pd.DataFrame(columns=['assortativity'], index=[f'{resolution}_{x}' for x in cluster_list])\n",
    "    for i, x in enumerate(cluster_list):\n",
    "        cluster = df[df[resolution] == x]\n",
    "        assort = assortativity(cluster, x)\n",
    "        assort_df.loc[f'{resolution}_{x}'] = assort\n",
    "    return assort_df\n",
    "\n",
    "                                       "
   ]
  },
  {
   "cell_type": "code",
   "execution_count": 15,
   "metadata": {},
   "outputs": [
    {
     "data": {
      "application/vnd.jupyter.widget-view+json": {
       "model_id": "48c49eff38a54fd1bceb25d71d095100",
       "version_major": 2,
       "version_minor": 0
      },
      "text/plain": [
       "  0%|          | 0/7 [00:00<?, ?it/s]"
      ]
     },
     "metadata": {},
     "output_type": "display_data"
    },
    {
     "data": {
      "application/vnd.jupyter.widget-view+json": {
       "model_id": "a95e1ce09c654b7ea370d7a3ea5f4704",
       "version_major": 2,
       "version_minor": 0
      },
      "text/plain": [
       "  0%|          | 0/4 [00:00<?, ?it/s]"
      ]
     },
     "metadata": {},
     "output_type": "display_data"
    },
    {
     "data": {
      "application/vnd.jupyter.widget-view+json": {
       "model_id": "784d24b098fd405f98d8eab75354a532",
       "version_major": 2,
       "version_minor": 0
      },
      "text/plain": [
       "  0%|          | 0/9 [00:00<?, ?it/s]"
      ]
     },
     "metadata": {},
     "output_type": "display_data"
    },
    {
     "data": {
      "application/vnd.jupyter.widget-view+json": {
       "model_id": "03da3081bfec4562a540dd0e6e1b3c00",
       "version_major": 2,
       "version_minor": 0
      },
      "text/plain": [
       "  0%|          | 0/3 [00:00<?, ?it/s]"
      ]
     },
     "metadata": {},
     "output_type": "display_data"
    },
    {
     "data": {
      "application/vnd.jupyter.widget-view+json": {
       "model_id": "1974b9e3cc0043c09b67e76fd5cfced9",
       "version_major": 2,
       "version_minor": 0
      },
      "text/plain": [
       "  0%|          | 0/5 [00:00<?, ?it/s]"
      ]
     },
     "metadata": {},
     "output_type": "display_data"
    },
    {
     "data": {
      "application/vnd.jupyter.widget-view+json": {
       "model_id": "51131dc3c7254ae185d1807d116cf0a6",
       "version_major": 2,
       "version_minor": 0
      },
      "text/plain": [
       "  0%|          | 0/3 [00:00<?, ?it/s]"
      ]
     },
     "metadata": {},
     "output_type": "display_data"
    },
    {
     "data": {
      "application/vnd.jupyter.widget-view+json": {
       "model_id": "9d7229ce4f2c43b9a58c59690c5ddccf",
       "version_major": 2,
       "version_minor": 0
      },
      "text/plain": [
       "  0%|          | 0/3 [00:00<?, ?it/s]"
      ]
     },
     "metadata": {},
     "output_type": "display_data"
    },
    {
     "data": {
      "application/vnd.jupyter.widget-view+json": {
       "model_id": "0ff547974cf049b894b0d863426178da",
       "version_major": 2,
       "version_minor": 0
      },
      "text/plain": [
       "  0%|          | 0/2 [00:00<?, ?it/s]"
      ]
     },
     "metadata": {},
     "output_type": "display_data"
    },
    {
     "data": {
      "application/vnd.jupyter.widget-view+json": {
       "model_id": "a89bd7a359f24cfca244dc5b1c80dc50",
       "version_major": 2,
       "version_minor": 0
      },
      "text/plain": [
       "  0%|          | 0/5 [00:00<?, ?it/s]"
      ]
     },
     "metadata": {},
     "output_type": "display_data"
    },
    {
     "data": {
      "application/vnd.jupyter.widget-view+json": {
       "model_id": "ade01eb199f548c090bfc38ae6fd99d3",
       "version_major": 2,
       "version_minor": 0
      },
      "text/plain": [
       "  0%|          | 0/3 [00:00<?, ?it/s]"
      ]
     },
     "metadata": {},
     "output_type": "display_data"
    },
    {
     "data": {
      "application/vnd.jupyter.widget-view+json": {
       "model_id": "0eac4bcaefc343878b20cededbfa0a4f",
       "version_major": 2,
       "version_minor": 0
      },
      "text/plain": [
       "  0%|          | 0/6 [00:00<?, ?it/s]"
      ]
     },
     "metadata": {},
     "output_type": "display_data"
    },
    {
     "data": {
      "application/vnd.jupyter.widget-view+json": {
       "model_id": "fb74436da6144b84a37376c3c6701300",
       "version_major": 2,
       "version_minor": 0
      },
      "text/plain": [
       "  0%|          | 0/3 [00:00<?, ?it/s]"
      ]
     },
     "metadata": {},
     "output_type": "display_data"
    }
   ],
   "source": [
    "# Run function for 0.0 resolution and 6 clusters\n",
    "full_df = main_assort(full, '0.0')"
   ]
  },
  {
   "cell_type": "code",
   "execution_count": 16,
   "metadata": {},
   "outputs": [
    {
     "data": {
      "text/html": [
       "<div>\n",
       "<style scoped>\n",
       "    .dataframe tbody tr th:only-of-type {\n",
       "        vertical-align: middle;\n",
       "    }\n",
       "\n",
       "    .dataframe tbody tr th {\n",
       "        vertical-align: top;\n",
       "    }\n",
       "\n",
       "    .dataframe thead th {\n",
       "        text-align: right;\n",
       "    }\n",
       "</style>\n",
       "<table border=\"1\" class=\"dataframe\">\n",
       "  <thead>\n",
       "    <tr style=\"text-align: right;\">\n",
       "      <th></th>\n",
       "      <th>assortativity</th>\n",
       "    </tr>\n",
       "  </thead>\n",
       "  <tbody>\n",
       "    <tr>\n",
       "      <th>whole</th>\n",
       "      <td>-0.022964</td>\n",
       "    </tr>\n",
       "    <tr>\n",
       "      <th>0.0_1</th>\n",
       "      <td>-0.213382</td>\n",
       "    </tr>\n",
       "    <tr>\n",
       "      <th>0.0_2</th>\n",
       "      <td>-0.157566</td>\n",
       "    </tr>\n",
       "    <tr>\n",
       "      <th>0.0_3</th>\n",
       "      <td>-0.181511</td>\n",
       "    </tr>\n",
       "    <tr>\n",
       "      <th>0.0_4</th>\n",
       "      <td>-0.246467</td>\n",
       "    </tr>\n",
       "    <tr>\n",
       "      <th>0.0_5</th>\n",
       "      <td>-0.192219</td>\n",
       "    </tr>\n",
       "    <tr>\n",
       "      <th>0.0_6</th>\n",
       "      <td>-0.176241</td>\n",
       "    </tr>\n",
       "  </tbody>\n",
       "</table>\n",
       "</div>"
      ],
      "text/plain": [
       "      assortativity\n",
       "whole     -0.022964\n",
       "0.0_1     -0.213382\n",
       "0.0_2     -0.157566\n",
       "0.0_3     -0.181511\n",
       "0.0_4     -0.246467\n",
       "0.0_5     -0.192219\n",
       "0.0_6     -0.176241"
      ]
     },
     "execution_count": 16,
     "metadata": {},
     "output_type": "execute_result"
    }
   ],
   "source": [
    "full_df"
   ]
  },
  {
   "cell_type": "code",
   "execution_count": 40,
   "metadata": {},
   "outputs": [],
   "source": []
  },
  {
   "cell_type": "code",
   "execution_count": 42,
   "metadata": {},
   "outputs": [],
   "source": [
    "# Get cluster numbers for 0.1 \n",
    "chi = '0.1'\n",
    "cluster_01 = get_clusters(full, chi)"
   ]
  },
  {
   "cell_type": "code",
   "execution_count": 54,
   "metadata": {},
   "outputs": [
    {
     "data": {
      "application/vnd.jupyter.widget-view+json": {
       "model_id": "cb552fead07a4eec970dc8e7b36e09fa",
       "version_major": 2,
       "version_minor": 0
      },
      "text/plain": [
       "  0%|          | 0/2 [00:00<?, ?it/s]"
      ]
     },
     "metadata": {},
     "output_type": "display_data"
    },
    {
     "data": {
      "application/vnd.jupyter.widget-view+json": {
       "model_id": "254b0e90c6004dfa832d76e405771c39",
       "version_major": 2,
       "version_minor": 0
      },
      "text/plain": [
       "  0%|          | 0/2 [00:00<?, ?it/s]"
      ]
     },
     "metadata": {},
     "output_type": "display_data"
    },
    {
     "name": "stdout",
     "output_type": "stream",
     "text": [
      "1\n"
     ]
    },
    {
     "data": {
      "application/vnd.jupyter.widget-view+json": {
       "model_id": "4f353dadd99a44b0af03f1bfd1f35210",
       "version_major": 2,
       "version_minor": 0
      },
      "text/plain": [
       "  0%|          | 0/4 [00:00<?, ?it/s]"
      ]
     },
     "metadata": {},
     "output_type": "display_data"
    },
    {
     "data": {
      "application/vnd.jupyter.widget-view+json": {
       "model_id": "dfd1e1fa3ec44b2da0dff9020af239f1",
       "version_major": 2,
       "version_minor": 0
      },
      "text/plain": [
       "  0%|          | 0/3 [00:00<?, ?it/s]"
      ]
     },
     "metadata": {},
     "output_type": "display_data"
    },
    {
     "name": "stdout",
     "output_type": "stream",
     "text": [
      "2\n"
     ]
    },
    {
     "data": {
      "application/vnd.jupyter.widget-view+json": {
       "model_id": "bbcbbf75ab3440ac93a363e4b383c715",
       "version_major": 2,
       "version_minor": 0
      },
      "text/plain": [
       "  0%|          | 0/5 [00:00<?, ?it/s]"
      ]
     },
     "metadata": {},
     "output_type": "display_data"
    },
    {
     "data": {
      "application/vnd.jupyter.widget-view+json": {
       "model_id": "7230dd176e5b4aadaae7a0923b81d92d",
       "version_major": 2,
       "version_minor": 0
      },
      "text/plain": [
       "  0%|          | 0/3 [00:00<?, ?it/s]"
      ]
     },
     "metadata": {},
     "output_type": "display_data"
    },
    {
     "name": "stdout",
     "output_type": "stream",
     "text": [
      "3\n"
     ]
    },
    {
     "data": {
      "application/vnd.jupyter.widget-view+json": {
       "model_id": "0bd70a640ec245bebafb6d5f686aaa65",
       "version_major": 2,
       "version_minor": 0
      },
      "text/plain": [
       "  0%|          | 0/4 [00:00<?, ?it/s]"
      ]
     },
     "metadata": {},
     "output_type": "display_data"
    },
    {
     "data": {
      "application/vnd.jupyter.widget-view+json": {
       "model_id": "cb646a2600e643e59f444adcfdaa731c",
       "version_major": 2,
       "version_minor": 0
      },
      "text/plain": [
       "  0%|          | 0/3 [00:00<?, ?it/s]"
      ]
     },
     "metadata": {},
     "output_type": "display_data"
    },
    {
     "name": "stdout",
     "output_type": "stream",
     "text": [
      "4\n"
     ]
    },
    {
     "data": {
      "application/vnd.jupyter.widget-view+json": {
       "model_id": "7de8162115e14dd4b70c6780fd23afb3",
       "version_major": 2,
       "version_minor": 0
      },
      "text/plain": [
       "  0%|          | 0/3 [00:00<?, ?it/s]"
      ]
     },
     "metadata": {},
     "output_type": "display_data"
    },
    {
     "name": "stdout",
     "output_type": "stream",
     "text": [
      "5\n"
     ]
    },
    {
     "data": {
      "application/vnd.jupyter.widget-view+json": {
       "model_id": "2acf74bdf41b4ac7990262312b75f060",
       "version_major": 2,
       "version_minor": 0
      },
      "text/plain": [
       "  0%|          | 0/3 [00:00<?, ?it/s]"
      ]
     },
     "metadata": {},
     "output_type": "display_data"
    },
    {
     "data": {
      "application/vnd.jupyter.widget-view+json": {
       "model_id": "667d7f7bc1d6453ba9b5e1b04ce9f00c",
       "version_major": 2,
       "version_minor": 0
      },
      "text/plain": [
       "  0%|          | 0/2 [00:00<?, ?it/s]"
      ]
     },
     "metadata": {},
     "output_type": "display_data"
    },
    {
     "name": "stdout",
     "output_type": "stream",
     "text": [
      "6\n"
     ]
    },
    {
     "data": {
      "application/vnd.jupyter.widget-view+json": {
       "model_id": "3333b32bc8a14b62b509277c5f2353a5",
       "version_major": 2,
       "version_minor": 0
      },
      "text/plain": [
       "  0%|          | 0/2 [00:00<?, ?it/s]"
      ]
     },
     "metadata": {},
     "output_type": "display_data"
    },
    {
     "name": "stdout",
     "output_type": "stream",
     "text": [
      "7\n",
      "8\n"
     ]
    },
    {
     "data": {
      "application/vnd.jupyter.widget-view+json": {
       "model_id": "ecd0c3dd0cf94023ac489e7c2d9007f0",
       "version_major": 2,
       "version_minor": 0
      },
      "text/plain": [
       "  0%|          | 0/4 [00:00<?, ?it/s]"
      ]
     },
     "metadata": {},
     "output_type": "display_data"
    },
    {
     "data": {
      "application/vnd.jupyter.widget-view+json": {
       "model_id": "384167d0c43f4261a0a5a2ff217f75d9",
       "version_major": 2,
       "version_minor": 0
      },
      "text/plain": [
       "  0%|          | 0/3 [00:00<?, ?it/s]"
      ]
     },
     "metadata": {},
     "output_type": "display_data"
    },
    {
     "name": "stdout",
     "output_type": "stream",
     "text": [
      "9\n"
     ]
    }
   ],
   "source": [
    "df_full01 = main_assort(full, chi, cluster_01[:9])"
   ]
  },
  {
   "cell_type": "code",
   "execution_count": 83,
   "metadata": {},
   "outputs": [
    {
     "ename": "TypeError",
     "evalue": "main_assort() takes 2 positional arguments but 3 were given",
     "output_type": "error",
     "traceback": [
      "\u001b[0;31m---------------------------------------------------------------------------\u001b[0m",
      "\u001b[0;31mTypeError\u001b[0m                                 Traceback (most recent call last)",
      "Cell \u001b[0;32mIn[83], line 1\u001b[0m\n\u001b[0;32m----> 1\u001b[0m df_full01_1 \u001b[38;5;241m=\u001b[39m main_assort(full, chi, cluster_01[\u001b[38;5;241m10\u001b[39m:\u001b[38;5;241m19\u001b[39m])\n",
      "\u001b[0;31mTypeError\u001b[0m: main_assort() takes 2 positional arguments but 3 were given"
     ]
    }
   ],
   "source": [
    "df_full01_1 = main_assort(full, chi)"
   ]
  },
  {
   "cell_type": "code",
   "execution_count": 71,
   "metadata": {},
   "outputs": [],
   "source": [
    "full_df = pd.concat([full_df, df_full01, df_full01_1])"
   ]
  },
  {
   "cell_type": "code",
   "execution_count": 73,
   "metadata": {},
   "outputs": [
    {
     "data": {
      "text/html": [
       "<div>\n",
       "<style scoped>\n",
       "    .dataframe tbody tr th:only-of-type {\n",
       "        vertical-align: middle;\n",
       "    }\n",
       "\n",
       "    .dataframe tbody tr th {\n",
       "        vertical-align: top;\n",
       "    }\n",
       "\n",
       "    .dataframe thead th {\n",
       "        text-align: right;\n",
       "    }\n",
       "</style>\n",
       "<table border=\"1\" class=\"dataframe\">\n",
       "  <thead>\n",
       "    <tr style=\"text-align: right;\">\n",
       "      <th></th>\n",
       "      <th>assortativity</th>\n",
       "    </tr>\n",
       "  </thead>\n",
       "  <tbody>\n",
       "    <tr>\n",
       "      <th>whole</th>\n",
       "      <td>-0.022964</td>\n",
       "    </tr>\n",
       "    <tr>\n",
       "      <th>0.0_1</th>\n",
       "      <td>-0.213382</td>\n",
       "    </tr>\n",
       "    <tr>\n",
       "      <th>0.0_2</th>\n",
       "      <td>-0.157566</td>\n",
       "    </tr>\n",
       "    <tr>\n",
       "      <th>0.0_3</th>\n",
       "      <td>-0.181511</td>\n",
       "    </tr>\n",
       "    <tr>\n",
       "      <th>0.0_4</th>\n",
       "      <td>-0.246467</td>\n",
       "    </tr>\n",
       "    <tr>\n",
       "      <th>0.0_5</th>\n",
       "      <td>-0.192219</td>\n",
       "    </tr>\n",
       "    <tr>\n",
       "      <th>0.0_6</th>\n",
       "      <td>-0.176241</td>\n",
       "    </tr>\n",
       "    <tr>\n",
       "      <th>0.1_1</th>\n",
       "      <td>-0.213161</td>\n",
       "    </tr>\n",
       "    <tr>\n",
       "      <th>0.1_2</th>\n",
       "      <td>-0.230055</td>\n",
       "    </tr>\n",
       "    <tr>\n",
       "      <th>0.1_3</th>\n",
       "      <td>-0.159883</td>\n",
       "    </tr>\n",
       "    <tr>\n",
       "      <th>0.1_4</th>\n",
       "      <td>-0.211859</td>\n",
       "    </tr>\n",
       "    <tr>\n",
       "      <th>0.1_5</th>\n",
       "      <td>-0.147539</td>\n",
       "    </tr>\n",
       "    <tr>\n",
       "      <th>0.1_6</th>\n",
       "      <td>-0.26637</td>\n",
       "    </tr>\n",
       "    <tr>\n",
       "      <th>0.1_7</th>\n",
       "      <td>-0.202893</td>\n",
       "    </tr>\n",
       "    <tr>\n",
       "      <th>0.1_8</th>\n",
       "      <td>-0.401327</td>\n",
       "    </tr>\n",
       "    <tr>\n",
       "      <th>0.1_9</th>\n",
       "      <td>-0.213561</td>\n",
       "    </tr>\n",
       "    <tr>\n",
       "      <th>0.1_10</th>\n",
       "      <td>NaN</td>\n",
       "    </tr>\n",
       "    <tr>\n",
       "      <th>0.1_1</th>\n",
       "      <td>-0.213161</td>\n",
       "    </tr>\n",
       "    <tr>\n",
       "      <th>0.1_2</th>\n",
       "      <td>-0.230055</td>\n",
       "    </tr>\n",
       "    <tr>\n",
       "      <th>0.1_3</th>\n",
       "      <td>-0.159883</td>\n",
       "    </tr>\n",
       "    <tr>\n",
       "      <th>0.1_4</th>\n",
       "      <td>-0.211859</td>\n",
       "    </tr>\n",
       "    <tr>\n",
       "      <th>0.1_5</th>\n",
       "      <td>-0.147539</td>\n",
       "    </tr>\n",
       "    <tr>\n",
       "      <th>0.1_6</th>\n",
       "      <td>-0.26637</td>\n",
       "    </tr>\n",
       "    <tr>\n",
       "      <th>0.1_7</th>\n",
       "      <td>-0.202893</td>\n",
       "    </tr>\n",
       "    <tr>\n",
       "      <th>0.1_8</th>\n",
       "      <td>-0.401327</td>\n",
       "    </tr>\n",
       "    <tr>\n",
       "      <th>0.1_9</th>\n",
       "      <td>-0.213561</td>\n",
       "    </tr>\n",
       "    <tr>\n",
       "      <th>0.1_11</th>\n",
       "      <td>NaN</td>\n",
       "    </tr>\n",
       "    <tr>\n",
       "      <th>0.1_12</th>\n",
       "      <td>NaN</td>\n",
       "    </tr>\n",
       "    <tr>\n",
       "      <th>0.1_13</th>\n",
       "      <td>-0.181557</td>\n",
       "    </tr>\n",
       "    <tr>\n",
       "      <th>0.1_14</th>\n",
       "      <td>-0.209965</td>\n",
       "    </tr>\n",
       "    <tr>\n",
       "      <th>0.1_15</th>\n",
       "      <td>NaN</td>\n",
       "    </tr>\n",
       "    <tr>\n",
       "      <th>0.1_16</th>\n",
       "      <td>NaN</td>\n",
       "    </tr>\n",
       "    <tr>\n",
       "      <th>0.1_17</th>\n",
       "      <td>NaN</td>\n",
       "    </tr>\n",
       "    <tr>\n",
       "      <th>0.1_18</th>\n",
       "      <td>NaN</td>\n",
       "    </tr>\n",
       "    <tr>\n",
       "      <th>0.1_19</th>\n",
       "      <td>-0.417617</td>\n",
       "    </tr>\n",
       "  </tbody>\n",
       "</table>\n",
       "</div>"
      ],
      "text/plain": [
       "       assortativity\n",
       "whole      -0.022964\n",
       "0.0_1      -0.213382\n",
       "0.0_2      -0.157566\n",
       "0.0_3      -0.181511\n",
       "0.0_4      -0.246467\n",
       "0.0_5      -0.192219\n",
       "0.0_6      -0.176241\n",
       "0.1_1      -0.213161\n",
       "0.1_2      -0.230055\n",
       "0.1_3      -0.159883\n",
       "0.1_4      -0.211859\n",
       "0.1_5      -0.147539\n",
       "0.1_6       -0.26637\n",
       "0.1_7      -0.202893\n",
       "0.1_8      -0.401327\n",
       "0.1_9      -0.213561\n",
       "0.1_10           NaN\n",
       "0.1_1      -0.213161\n",
       "0.1_2      -0.230055\n",
       "0.1_3      -0.159883\n",
       "0.1_4      -0.211859\n",
       "0.1_5      -0.147539\n",
       "0.1_6       -0.26637\n",
       "0.1_7      -0.202893\n",
       "0.1_8      -0.401327\n",
       "0.1_9      -0.213561\n",
       "0.1_11           NaN\n",
       "0.1_12           NaN\n",
       "0.1_13     -0.181557\n",
       "0.1_14     -0.209965\n",
       "0.1_15           NaN\n",
       "0.1_16           NaN\n",
       "0.1_17           NaN\n",
       "0.1_18           NaN\n",
       "0.1_19     -0.417617"
      ]
     },
     "execution_count": 73,
     "metadata": {},
     "output_type": "execute_result"
    }
   ],
   "source": [
    "full_df"
   ]
  },
  {
   "cell_type": "code",
   "execution_count": 72,
   "metadata": {},
   "outputs": [
    {
     "data": {
      "application/vnd.plotly.v1+json": {
       "config": {
        "plotlyServerURL": "https://plot.ly"
       },
       "data": [
        {
         "marker": {
          "size": 5
         },
         "mode": "markers",
         "name": "whole",
         "type": "scatter",
         "x": [
          -0.022963541372236385
         ],
         "y": [
          0
         ]
        },
        {
         "marker": {
          "size": 5
         },
         "mode": "markers",
         "name": "0.0_1",
         "type": "scatter",
         "x": [
          -0.2133818498437977
         ],
         "y": [
          0
         ]
        },
        {
         "marker": {
          "size": 5
         },
         "mode": "markers",
         "name": "0.0_2",
         "type": "scatter",
         "x": [
          -0.1575661853461221
         ],
         "y": [
          0
         ]
        },
        {
         "marker": {
          "size": 5
         },
         "mode": "markers",
         "name": "0.0_3",
         "type": "scatter",
         "x": [
          -0.18151093616713085
         ],
         "y": [
          0
         ]
        },
        {
         "marker": {
          "size": 5
         },
         "mode": "markers",
         "name": "0.0_4",
         "type": "scatter",
         "x": [
          -0.2464669577255776
         ],
         "y": [
          0
         ]
        },
        {
         "marker": {
          "size": 5
         },
         "mode": "markers",
         "name": "0.0_5",
         "type": "scatter",
         "x": [
          -0.19221882695937784
         ],
         "y": [
          0
         ]
        },
        {
         "marker": {
          "size": 5
         },
         "mode": "markers",
         "name": "0.0_6",
         "type": "scatter",
         "x": [
          -0.17624146235874594
         ],
         "y": [
          0
         ]
        },
        {
         "marker": {
          "size": 5
         },
         "mode": "markers",
         "name": "0.1_1",
         "type": "scatter",
         "x": [
          -0.21316071994606628
         ],
         "y": [
          0
         ]
        },
        {
         "marker": {
          "size": 5
         },
         "mode": "markers",
         "name": "0.1_2",
         "type": "scatter",
         "x": [
          -0.23005487791147097
         ],
         "y": [
          0
         ]
        },
        {
         "marker": {
          "size": 5
         },
         "mode": "markers",
         "name": "0.1_3",
         "type": "scatter",
         "x": [
          -0.15988264730720145
         ],
         "y": [
          0
         ]
        },
        {
         "marker": {
          "size": 5
         },
         "mode": "markers",
         "name": "0.1_4",
         "type": "scatter",
         "x": [
          -0.21185874173554298
         ],
         "y": [
          0
         ]
        },
        {
         "marker": {
          "size": 5
         },
         "mode": "markers",
         "name": "0.1_5",
         "type": "scatter",
         "x": [
          -0.1475393085334287
         ],
         "y": [
          0
         ]
        },
        {
         "marker": {
          "size": 5
         },
         "mode": "markers",
         "name": "0.1_6",
         "type": "scatter",
         "x": [
          -0.26637038430721116
         ],
         "y": [
          0
         ]
        },
        {
         "marker": {
          "size": 5
         },
         "mode": "markers",
         "name": "0.1_7",
         "type": "scatter",
         "x": [
          -0.2028928245369332
         ],
         "y": [
          0
         ]
        },
        {
         "marker": {
          "size": 5
         },
         "mode": "markers",
         "name": "0.1_8",
         "type": "scatter",
         "x": [
          -0.4013266645948367
         ],
         "y": [
          0
         ]
        },
        {
         "marker": {
          "size": 5
         },
         "mode": "markers",
         "name": "0.1_9",
         "type": "scatter",
         "x": [
          -0.213560603746007
         ],
         "y": [
          0
         ]
        },
        {
         "marker": {
          "size": 5
         },
         "mode": "markers",
         "name": "0.1_10",
         "type": "scatter",
         "x": [
          null
         ],
         "y": [
          0
         ]
        },
        {
         "marker": {
          "size": 5
         },
         "mode": "markers",
         "name": "0.1_1",
         "type": "scatter",
         "x": [
          -0.21316071994606628
         ],
         "y": [
          0
         ]
        },
        {
         "marker": {
          "size": 5
         },
         "mode": "markers",
         "name": "0.1_2",
         "type": "scatter",
         "x": [
          -0.23005487791147097
         ],
         "y": [
          0
         ]
        },
        {
         "marker": {
          "size": 5
         },
         "mode": "markers",
         "name": "0.1_3",
         "type": "scatter",
         "x": [
          -0.15988264730720145
         ],
         "y": [
          0
         ]
        },
        {
         "marker": {
          "size": 5
         },
         "mode": "markers",
         "name": "0.1_4",
         "type": "scatter",
         "x": [
          -0.21185874173554298
         ],
         "y": [
          0
         ]
        },
        {
         "marker": {
          "size": 5
         },
         "mode": "markers",
         "name": "0.1_5",
         "type": "scatter",
         "x": [
          -0.1475393085334287
         ],
         "y": [
          0
         ]
        },
        {
         "marker": {
          "size": 5
         },
         "mode": "markers",
         "name": "0.1_6",
         "type": "scatter",
         "x": [
          -0.26637038430721116
         ],
         "y": [
          0
         ]
        },
        {
         "marker": {
          "size": 5
         },
         "mode": "markers",
         "name": "0.1_7",
         "type": "scatter",
         "x": [
          -0.2028928245369332
         ],
         "y": [
          0
         ]
        },
        {
         "marker": {
          "size": 5
         },
         "mode": "markers",
         "name": "0.1_8",
         "type": "scatter",
         "x": [
          -0.4013266645948367
         ],
         "y": [
          0
         ]
        },
        {
         "marker": {
          "size": 5
         },
         "mode": "markers",
         "name": "0.1_9",
         "type": "scatter",
         "x": [
          -0.213560603746007
         ],
         "y": [
          0
         ]
        },
        {
         "marker": {
          "size": 5
         },
         "mode": "markers",
         "name": "0.1_11",
         "type": "scatter",
         "x": [
          null
         ],
         "y": [
          0
         ]
        },
        {
         "marker": {
          "size": 5
         },
         "mode": "markers",
         "name": "0.1_12",
         "type": "scatter",
         "x": [
          null
         ],
         "y": [
          0
         ]
        },
        {
         "marker": {
          "size": 5
         },
         "mode": "markers",
         "name": "0.1_13",
         "type": "scatter",
         "x": [
          -0.181556510157072
         ],
         "y": [
          0
         ]
        },
        {
         "marker": {
          "size": 5
         },
         "mode": "markers",
         "name": "0.1_14",
         "type": "scatter",
         "x": [
          -0.20996517915676813
         ],
         "y": [
          0
         ]
        },
        {
         "marker": {
          "size": 5
         },
         "mode": "markers",
         "name": "0.1_15",
         "type": "scatter",
         "x": [
          null
         ],
         "y": [
          0
         ]
        },
        {
         "marker": {
          "size": 5
         },
         "mode": "markers",
         "name": "0.1_16",
         "type": "scatter",
         "x": [
          null
         ],
         "y": [
          0
         ]
        },
        {
         "marker": {
          "size": 5
         },
         "mode": "markers",
         "name": "0.1_17",
         "type": "scatter",
         "x": [
          null
         ],
         "y": [
          0
         ]
        },
        {
         "marker": {
          "size": 5
         },
         "mode": "markers",
         "name": "0.1_18",
         "type": "scatter",
         "x": [
          null
         ],
         "y": [
          0
         ]
        },
        {
         "marker": {
          "size": 5
         },
         "mode": "markers",
         "name": "0.1_19",
         "type": "scatter",
         "x": [
          -0.4176166947138357
         ],
         "y": [
          0
         ]
        }
       ],
       "layout": {
        "template": {
         "data": {
          "bar": [
           {
            "error_x": {
             "color": "#2a3f5f"
            },
            "error_y": {
             "color": "#2a3f5f"
            },
            "marker": {
             "line": {
              "color": "#E5ECF6",
              "width": 0.5
             },
             "pattern": {
              "fillmode": "overlay",
              "size": 10,
              "solidity": 0.2
             }
            },
            "type": "bar"
           }
          ],
          "barpolar": [
           {
            "marker": {
             "line": {
              "color": "#E5ECF6",
              "width": 0.5
             },
             "pattern": {
              "fillmode": "overlay",
              "size": 10,
              "solidity": 0.2
             }
            },
            "type": "barpolar"
           }
          ],
          "carpet": [
           {
            "aaxis": {
             "endlinecolor": "#2a3f5f",
             "gridcolor": "white",
             "linecolor": "white",
             "minorgridcolor": "white",
             "startlinecolor": "#2a3f5f"
            },
            "baxis": {
             "endlinecolor": "#2a3f5f",
             "gridcolor": "white",
             "linecolor": "white",
             "minorgridcolor": "white",
             "startlinecolor": "#2a3f5f"
            },
            "type": "carpet"
           }
          ],
          "choropleth": [
           {
            "colorbar": {
             "outlinewidth": 0,
             "ticks": ""
            },
            "type": "choropleth"
           }
          ],
          "contour": [
           {
            "colorbar": {
             "outlinewidth": 0,
             "ticks": ""
            },
            "colorscale": [
             [
              0,
              "#0d0887"
             ],
             [
              0.1111111111111111,
              "#46039f"
             ],
             [
              0.2222222222222222,
              "#7201a8"
             ],
             [
              0.3333333333333333,
              "#9c179e"
             ],
             [
              0.4444444444444444,
              "#bd3786"
             ],
             [
              0.5555555555555556,
              "#d8576b"
             ],
             [
              0.6666666666666666,
              "#ed7953"
             ],
             [
              0.7777777777777778,
              "#fb9f3a"
             ],
             [
              0.8888888888888888,
              "#fdca26"
             ],
             [
              1,
              "#f0f921"
             ]
            ],
            "type": "contour"
           }
          ],
          "contourcarpet": [
           {
            "colorbar": {
             "outlinewidth": 0,
             "ticks": ""
            },
            "type": "contourcarpet"
           }
          ],
          "heatmap": [
           {
            "colorbar": {
             "outlinewidth": 0,
             "ticks": ""
            },
            "colorscale": [
             [
              0,
              "#0d0887"
             ],
             [
              0.1111111111111111,
              "#46039f"
             ],
             [
              0.2222222222222222,
              "#7201a8"
             ],
             [
              0.3333333333333333,
              "#9c179e"
             ],
             [
              0.4444444444444444,
              "#bd3786"
             ],
             [
              0.5555555555555556,
              "#d8576b"
             ],
             [
              0.6666666666666666,
              "#ed7953"
             ],
             [
              0.7777777777777778,
              "#fb9f3a"
             ],
             [
              0.8888888888888888,
              "#fdca26"
             ],
             [
              1,
              "#f0f921"
             ]
            ],
            "type": "heatmap"
           }
          ],
          "heatmapgl": [
           {
            "colorbar": {
             "outlinewidth": 0,
             "ticks": ""
            },
            "colorscale": [
             [
              0,
              "#0d0887"
             ],
             [
              0.1111111111111111,
              "#46039f"
             ],
             [
              0.2222222222222222,
              "#7201a8"
             ],
             [
              0.3333333333333333,
              "#9c179e"
             ],
             [
              0.4444444444444444,
              "#bd3786"
             ],
             [
              0.5555555555555556,
              "#d8576b"
             ],
             [
              0.6666666666666666,
              "#ed7953"
             ],
             [
              0.7777777777777778,
              "#fb9f3a"
             ],
             [
              0.8888888888888888,
              "#fdca26"
             ],
             [
              1,
              "#f0f921"
             ]
            ],
            "type": "heatmapgl"
           }
          ],
          "histogram": [
           {
            "marker": {
             "pattern": {
              "fillmode": "overlay",
              "size": 10,
              "solidity": 0.2
             }
            },
            "type": "histogram"
           }
          ],
          "histogram2d": [
           {
            "colorbar": {
             "outlinewidth": 0,
             "ticks": ""
            },
            "colorscale": [
             [
              0,
              "#0d0887"
             ],
             [
              0.1111111111111111,
              "#46039f"
             ],
             [
              0.2222222222222222,
              "#7201a8"
             ],
             [
              0.3333333333333333,
              "#9c179e"
             ],
             [
              0.4444444444444444,
              "#bd3786"
             ],
             [
              0.5555555555555556,
              "#d8576b"
             ],
             [
              0.6666666666666666,
              "#ed7953"
             ],
             [
              0.7777777777777778,
              "#fb9f3a"
             ],
             [
              0.8888888888888888,
              "#fdca26"
             ],
             [
              1,
              "#f0f921"
             ]
            ],
            "type": "histogram2d"
           }
          ],
          "histogram2dcontour": [
           {
            "colorbar": {
             "outlinewidth": 0,
             "ticks": ""
            },
            "colorscale": [
             [
              0,
              "#0d0887"
             ],
             [
              0.1111111111111111,
              "#46039f"
             ],
             [
              0.2222222222222222,
              "#7201a8"
             ],
             [
              0.3333333333333333,
              "#9c179e"
             ],
             [
              0.4444444444444444,
              "#bd3786"
             ],
             [
              0.5555555555555556,
              "#d8576b"
             ],
             [
              0.6666666666666666,
              "#ed7953"
             ],
             [
              0.7777777777777778,
              "#fb9f3a"
             ],
             [
              0.8888888888888888,
              "#fdca26"
             ],
             [
              1,
              "#f0f921"
             ]
            ],
            "type": "histogram2dcontour"
           }
          ],
          "mesh3d": [
           {
            "colorbar": {
             "outlinewidth": 0,
             "ticks": ""
            },
            "type": "mesh3d"
           }
          ],
          "parcoords": [
           {
            "line": {
             "colorbar": {
              "outlinewidth": 0,
              "ticks": ""
             }
            },
            "type": "parcoords"
           }
          ],
          "pie": [
           {
            "automargin": true,
            "type": "pie"
           }
          ],
          "scatter": [
           {
            "fillpattern": {
             "fillmode": "overlay",
             "size": 10,
             "solidity": 0.2
            },
            "type": "scatter"
           }
          ],
          "scatter3d": [
           {
            "line": {
             "colorbar": {
              "outlinewidth": 0,
              "ticks": ""
             }
            },
            "marker": {
             "colorbar": {
              "outlinewidth": 0,
              "ticks": ""
             }
            },
            "type": "scatter3d"
           }
          ],
          "scattercarpet": [
           {
            "marker": {
             "colorbar": {
              "outlinewidth": 0,
              "ticks": ""
             }
            },
            "type": "scattercarpet"
           }
          ],
          "scattergeo": [
           {
            "marker": {
             "colorbar": {
              "outlinewidth": 0,
              "ticks": ""
             }
            },
            "type": "scattergeo"
           }
          ],
          "scattergl": [
           {
            "marker": {
             "colorbar": {
              "outlinewidth": 0,
              "ticks": ""
             }
            },
            "type": "scattergl"
           }
          ],
          "scattermapbox": [
           {
            "marker": {
             "colorbar": {
              "outlinewidth": 0,
              "ticks": ""
             }
            },
            "type": "scattermapbox"
           }
          ],
          "scatterpolar": [
           {
            "marker": {
             "colorbar": {
              "outlinewidth": 0,
              "ticks": ""
             }
            },
            "type": "scatterpolar"
           }
          ],
          "scatterpolargl": [
           {
            "marker": {
             "colorbar": {
              "outlinewidth": 0,
              "ticks": ""
             }
            },
            "type": "scatterpolargl"
           }
          ],
          "scatterternary": [
           {
            "marker": {
             "colorbar": {
              "outlinewidth": 0,
              "ticks": ""
             }
            },
            "type": "scatterternary"
           }
          ],
          "surface": [
           {
            "colorbar": {
             "outlinewidth": 0,
             "ticks": ""
            },
            "colorscale": [
             [
              0,
              "#0d0887"
             ],
             [
              0.1111111111111111,
              "#46039f"
             ],
             [
              0.2222222222222222,
              "#7201a8"
             ],
             [
              0.3333333333333333,
              "#9c179e"
             ],
             [
              0.4444444444444444,
              "#bd3786"
             ],
             [
              0.5555555555555556,
              "#d8576b"
             ],
             [
              0.6666666666666666,
              "#ed7953"
             ],
             [
              0.7777777777777778,
              "#fb9f3a"
             ],
             [
              0.8888888888888888,
              "#fdca26"
             ],
             [
              1,
              "#f0f921"
             ]
            ],
            "type": "surface"
           }
          ],
          "table": [
           {
            "cells": {
             "fill": {
              "color": "#EBF0F8"
             },
             "line": {
              "color": "white"
             }
            },
            "header": {
             "fill": {
              "color": "#C8D4E3"
             },
             "line": {
              "color": "white"
             }
            },
            "type": "table"
           }
          ]
         },
         "layout": {
          "annotationdefaults": {
           "arrowcolor": "#2a3f5f",
           "arrowhead": 0,
           "arrowwidth": 1
          },
          "autotypenumbers": "strict",
          "coloraxis": {
           "colorbar": {
            "outlinewidth": 0,
            "ticks": ""
           }
          },
          "colorscale": {
           "diverging": [
            [
             0,
             "#8e0152"
            ],
            [
             0.1,
             "#c51b7d"
            ],
            [
             0.2,
             "#de77ae"
            ],
            [
             0.3,
             "#f1b6da"
            ],
            [
             0.4,
             "#fde0ef"
            ],
            [
             0.5,
             "#f7f7f7"
            ],
            [
             0.6,
             "#e6f5d0"
            ],
            [
             0.7,
             "#b8e186"
            ],
            [
             0.8,
             "#7fbc41"
            ],
            [
             0.9,
             "#4d9221"
            ],
            [
             1,
             "#276419"
            ]
           ],
           "sequential": [
            [
             0,
             "#0d0887"
            ],
            [
             0.1111111111111111,
             "#46039f"
            ],
            [
             0.2222222222222222,
             "#7201a8"
            ],
            [
             0.3333333333333333,
             "#9c179e"
            ],
            [
             0.4444444444444444,
             "#bd3786"
            ],
            [
             0.5555555555555556,
             "#d8576b"
            ],
            [
             0.6666666666666666,
             "#ed7953"
            ],
            [
             0.7777777777777778,
             "#fb9f3a"
            ],
            [
             0.8888888888888888,
             "#fdca26"
            ],
            [
             1,
             "#f0f921"
            ]
           ],
           "sequentialminus": [
            [
             0,
             "#0d0887"
            ],
            [
             0.1111111111111111,
             "#46039f"
            ],
            [
             0.2222222222222222,
             "#7201a8"
            ],
            [
             0.3333333333333333,
             "#9c179e"
            ],
            [
             0.4444444444444444,
             "#bd3786"
            ],
            [
             0.5555555555555556,
             "#d8576b"
            ],
            [
             0.6666666666666666,
             "#ed7953"
            ],
            [
             0.7777777777777778,
             "#fb9f3a"
            ],
            [
             0.8888888888888888,
             "#fdca26"
            ],
            [
             1,
             "#f0f921"
            ]
           ]
          },
          "colorway": [
           "#636efa",
           "#EF553B",
           "#00cc96",
           "#ab63fa",
           "#FFA15A",
           "#19d3f3",
           "#FF6692",
           "#B6E880",
           "#FF97FF",
           "#FECB52"
          ],
          "font": {
           "color": "#2a3f5f"
          },
          "geo": {
           "bgcolor": "white",
           "lakecolor": "white",
           "landcolor": "#E5ECF6",
           "showlakes": true,
           "showland": true,
           "subunitcolor": "white"
          },
          "hoverlabel": {
           "align": "left"
          },
          "hovermode": "closest",
          "mapbox": {
           "style": "light"
          },
          "paper_bgcolor": "white",
          "plot_bgcolor": "#E5ECF6",
          "polar": {
           "angularaxis": {
            "gridcolor": "white",
            "linecolor": "white",
            "ticks": ""
           },
           "bgcolor": "#E5ECF6",
           "radialaxis": {
            "gridcolor": "white",
            "linecolor": "white",
            "ticks": ""
           }
          },
          "scene": {
           "xaxis": {
            "backgroundcolor": "#E5ECF6",
            "gridcolor": "white",
            "gridwidth": 2,
            "linecolor": "white",
            "showbackground": true,
            "ticks": "",
            "zerolinecolor": "white"
           },
           "yaxis": {
            "backgroundcolor": "#E5ECF6",
            "gridcolor": "white",
            "gridwidth": 2,
            "linecolor": "white",
            "showbackground": true,
            "ticks": "",
            "zerolinecolor": "white"
           },
           "zaxis": {
            "backgroundcolor": "#E5ECF6",
            "gridcolor": "white",
            "gridwidth": 2,
            "linecolor": "white",
            "showbackground": true,
            "ticks": "",
            "zerolinecolor": "white"
           }
          },
          "shapedefaults": {
           "line": {
            "color": "#2a3f5f"
           }
          },
          "ternary": {
           "aaxis": {
            "gridcolor": "white",
            "linecolor": "white",
            "ticks": ""
           },
           "baxis": {
            "gridcolor": "white",
            "linecolor": "white",
            "ticks": ""
           },
           "bgcolor": "#E5ECF6",
           "caxis": {
            "gridcolor": "white",
            "linecolor": "white",
            "ticks": ""
           }
          },
          "title": {
           "x": 0.05
          },
          "xaxis": {
           "automargin": true,
           "gridcolor": "white",
           "linecolor": "white",
           "ticks": "",
           "title": {
            "standoff": 15
           },
           "zerolinecolor": "white",
           "zerolinewidth": 2
          },
          "yaxis": {
           "automargin": true,
           "gridcolor": "white",
           "linecolor": "white",
           "ticks": "",
           "title": {
            "standoff": 15
           },
           "zerolinecolor": "white",
           "zerolinewidth": 2
          }
         }
        },
        "title": {
         "text": "Assortativity Numberline Plot"
        },
        "xaxis": {
         "range": [
          -1.2,
          1.2
         ],
         "showgrid": false,
         "showticklabels": true,
         "ticks": "inside",
         "tickwidth": 10,
         "title": {
          "text": "Assortativity"
         },
         "zeroline": false
        },
        "yaxis": {
         "range": [
          -0.2,
          0.3
         ],
         "showgrid": false,
         "showticklabels": false,
         "zeroline": true,
         "zerolinecolor": "black",
         "zerolinewidth": 2
        }
       }
      }
     },
     "metadata": {},
     "output_type": "display_data"
    }
   ],
   "source": [
    "# Create a numberline plot for the values using plotly\n",
    "import plotly.graph_objects as go\n",
    "\n",
    "fig = go.Figure()\n",
    "# Set layout\n",
    "fig.update_layout(\n",
    "    title='Assortativity Numberline Plot',\n",
    "    yaxis=dict(\n",
    "        showgrid=False,\n",
    "        showticklabels=False,\n",
    "        zeroline=True,\n",
    "        zerolinewidth=2,\n",
    "        zerolinecolor='black',\n",
    "    ),\n",
    "    xaxis=dict(\n",
    "        title='Assortativity',\n",
    "        showgrid=False,\n",
    "        zeroline=False,\n",
    "        showticklabels=True,\n",
    "        tickwidth=10,\n",
    "        range=[-1.2, 1.2],\n",
    "    ),\n",
    "    \n",
    ")\n",
    "fig.update_yaxes(range=[-0.2, 0.3])\n",
    "fig.update_xaxes(ticks='inside')\n",
    "\n",
    "# Add the values to the plot\n",
    "for i in range(len(full_df)):\n",
    "    fig.add_trace(go.Scatter(x=[full_df.iloc[i, 0]], y=[0], mode='markers', marker=dict(size=5), name=full_df.index[i]))\n",
    "\n",
    "# Show the plot\n",
    "fig.show()\n",
    "\n"
   ]
  }
 ],
 "metadata": {
  "kernelspec": {
   "display_name": "flybrainlab",
   "language": "python",
   "name": "python3"
  },
  "language_info": {
   "codemirror_mode": {
    "name": "ipython",
    "version": 3
   },
   "file_extension": ".py",
   "mimetype": "text/x-python",
   "name": "python",
   "nbconvert_exporter": "python",
   "pygments_lexer": "ipython3",
   "version": "3.11.7"
  }
 },
 "nbformat": 4,
 "nbformat_minor": 2
}
