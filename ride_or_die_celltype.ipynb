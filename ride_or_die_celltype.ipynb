{
 "cells": [
  {
   "cell_type": "markdown",
   "metadata": {},
   "source": [
    "# Ride or die neurons in the Celltype connectome\n",
    "This notebook uses the ride_or_die.ipynb notebook written by Dr. Gabrielle J Gutierrez as a basis. The goal is the find the \"ride or die\" celltypes in the oviINs connectome of celltypes. These are the celltypes that stick together throughout all the modularity resolutions.\n",
    "\n",
    "1. Set the maximum resolution to use to asses wether neurons stuck together or not\n",
    "2. Within each module at the maximum resolution, find which neurons traveled together consistently through the same modules at lower resolutions. \\\n",
    "    a. If yes, they are \"ride or die\" celltype. \\\n",
    "    b. if no, the whole module is discarded.\n",
    "3. Plot a sankey of the ride or die contigent to check results"
   ]
  },
  {
   "cell_type": "code",
   "execution_count": 3,
   "metadata": {},
   "outputs": [],
   "source": [
    "import numpy as np\n",
    "import pandas as pd\n",
    "import matplotlib.pyplot as plt\n",
    "import os\n",
    "import plotly.graph_objects as go"
   ]
  },
  {
   "cell_type": "code",
   "execution_count": 2,
   "metadata": {},
   "outputs": [],
   "source": [
    "# Use on lab computer\n",
    "#ovi_cell  = pd.read_csv('/Users/rw2822/Documents/GitHub/flybrain-clustering/oviIN_celltype/oviIN_combined/full/preprocessed-v1.2.1/preprocessed_nodes.csv')\n",
    "\n",
    "# Use on personal computer\n",
    "ovi_cell  = pd.read_csv('/Users/rhessa/flybrain-clustering/oviIN_celltype/oviIN_combined/full/preprocessed-v1.2.1/preprocessed_nodes.csv')"
   ]
  },
  {
   "cell_type": "markdown",
   "metadata": {},
   "source": [
    "## Sankey function that accepts in a dataframe and a list of chi values\n",
    "\n",
    "This is a simple function tested in sankey_sandbox.ipynb!"
   ]
  },
  {
   "cell_type": "code",
   "execution_count": 18,
   "metadata": {},
   "outputs": [],
   "source": [
    "# Function for creating the sankey diagram\n",
    "def create_sankey(df,  prominent=False, prom_types=None, width = None, height = None, title=None):\n",
    "    \"\"\"This function creates a sankey diagram from the data in the dataframe df.\n",
    "    The columns to be used are in the list chis. If prominent is True, then only \n",
    "    the prominent types are used.\n",
    "    \n",
    "    df: dataframe with partition data\n",
    "    prominent: boolean, whether to use only prominent types\n",
    "    prom_types: dataframe of prominent types and their weights, columns are 'type_pre' and 'weight'\n",
    "    FigSize: int of figure size\n",
    "\n",
    "    Returns: Sankey Figure\n",
    "    \"\"\"\n",
    "\n",
    "    # Columns to be used\n",
    "    chis = df.columns\n",
    "\n",
    "    # prominent types only option:\n",
    "    if prominent:\n",
    "        ovi_chunk_df = df[df['celltype'].isin(prom_types['type_pre'])]\n",
    "\n",
    "        # Take only the columns that are needed\n",
    "        ovi_chunk_df = ovi_chunk_df[chis]\n",
    "    \n",
    "    else:\n",
    "        ovi_chunk_df = df[chis]\n",
    "\n",
    "    # Append correct _r values to the columns\n",
    "    for i, x in enumerate(chis):\n",
    "        ovi_chunk_df[x] = ovi_chunk_df[x].astype(str) + '_r' + str(x)\n",
    "\n",
    "    # add a column of ones to ovi_HB_chunk\n",
    "    ovi_chunk_df['counts'] = 1\n",
    "    \n",
    "    # find all the unique nodes\n",
    "    nodes = []\n",
    "    for chi in chis:    \n",
    "        nodes += ovi_chunk_df[chi].unique().tolist()\n",
    "\n",
    "\n",
    "    # Finding the links and putting it into a dataframe\n",
    "    links = pd.DataFrame()\n",
    "    for i in range(len(chis)-1):\n",
    "        df = ovi_chunk_df.groupby([chis[i],chis[i+1]])['counts'].count().reset_index().rename(columns={chis[i]:'source',chis[i+1]:'target','counts':'value'})\n",
    "        links = pd.concat([links, df], axis=0)\n",
    "\n",
    "    # create a mapping dictionary\n",
    "    mapping_dict = {k: v for v, k in enumerate(nodes)}\n",
    "\n",
    "    # replace source and target with mapping dictionary\n",
    "    links['source'] = links['source'].map(mapping_dict)\n",
    "    links['target'] = links['target'].map(mapping_dict)\n",
    "\n",
    "    # turn this table into a dictionary for making the sankey diagram\n",
    "    links_dict = links.to_dict(orient='list')\n",
    "\n",
    "    fig = go.Figure(data=[go.Sankey(\n",
    "        node = dict(\n",
    "            pad = 15,\n",
    "            thickness=20,\n",
    "            line=dict(width=0.5),\n",
    "            label = nodes,\n",
    "        ),\n",
    "        link = dict(\n",
    "            source= links_dict['source'],\n",
    "            target = links_dict['target'],\n",
    "            value = links_dict['value']\n",
    "        )\n",
    "        )\n",
    "    ])\n",
    "    # make figure larger\n",
    "    fig.update_layout(height = height, width= width, title=title)\n",
    "    fig.show()"
   ]
  },
  {
   "cell_type": "code",
   "execution_count": 19,
   "metadata": {},
   "outputs": [
    {
     "data": {
      "application/vnd.plotly.v1+json": {
       "config": {
        "plotlyServerURL": "https://plot.ly"
       },
       "data": [
        {
         "link": {
          "source": [
           0,
           0,
           0,
           1,
           1,
           1,
           1,
           2,
           2,
           2,
           2,
           2,
           2,
           2,
           3,
           3,
           3,
           4,
           4,
           4,
           4,
           4,
           5,
           5,
           15,
           16,
           17,
           18,
           19,
           6,
           6,
           6,
           6,
           6,
           6,
           6,
           7,
           7,
           7,
           7,
           7,
           7,
           7,
           7,
           7,
           7,
           8,
           8,
           8,
           8,
           8,
           8,
           8,
           8,
           8,
           8,
           9,
           9,
           9,
           9,
           9,
           9,
           9,
           9,
           9,
           9,
           9,
           9,
           9,
           9,
           9,
           10,
           10,
           10,
           10,
           10,
           10,
           10,
           11,
           11,
           11,
           11,
           11,
           12,
           12,
           12,
           12,
           12,
           13,
           14
          ],
          "target": [
           19,
           6,
           12,
           15,
           7,
           12,
           13,
           16,
           17,
           18,
           7,
           8,
           9,
           14,
           7,
           9,
           12,
           6,
           7,
           8,
           9,
           10,
           11,
           12,
           39,
           26,
           38,
           44,
           39,
           20,
           39,
           45,
           21,
           22,
           26,
           27,
           29,
           20,
           39,
           46,
           21,
           22,
           25,
           26,
           27,
           28,
           29,
           20,
           39,
           41,
           42,
           22,
           23,
           26,
           27,
           28,
           30,
           31,
           34,
           36,
           38,
           39,
           43,
           47,
           49,
           22,
           23,
           24,
           25,
           26,
           28,
           31,
           32,
           20,
           22,
           26,
           27,
           28,
           32,
           33,
           20,
           22,
           26,
           35,
           39,
           40,
           48,
           22,
           22,
           37
          ],
          "value": [
           1,
           305,
           1,
           1,
           448,
           2,
           2,
           1,
           1,
           1,
           1,
           233,
           3,
           1,
           1,
           154,
           1,
           1,
           2,
           1,
           1,
           181,
           119,
           1,
           1,
           1,
           1,
           1,
           1,
           250,
           1,
           2,
           39,
           8,
           4,
           2,
           3,
           1,
           2,
           1,
           231,
           145,
           4,
           41,
           23,
           1,
           208,
           4,
           2,
           3,
           1,
           1,
           1,
           12,
           1,
           1,
           1,
           1,
           1,
           1,
           3,
           1,
           2,
           1,
           1,
           5,
           1,
           1,
           135,
           3,
           1,
           4,
           1,
           2,
           1,
           7,
           1,
           165,
           108,
           1,
           1,
           6,
           3,
           1,
           1,
           1,
           1,
           1,
           2,
           1
          ]
         },
         "node": {
          "label": [
           "1_r0.0",
           "2_r0.0",
           "3_r0.0",
           "4_r0.0",
           "5_r0.0",
           "6_r0.0",
           "1_r0.05",
           "2_r0.05",
           "3_r0.05",
           "4_r0.05",
           "5_r0.05",
           "6_r0.05",
           "7_r0.05",
           "8_r0.05",
           "9_r0.05",
           "10_r0.05",
           "11_r0.05",
           "12_r0.05",
           "13_r0.05",
           "14_r0.05",
           "1_r0.1",
           "2_r0.1",
           "3_r0.1",
           "4_r0.1",
           "5_r0.1",
           "6_r0.1",
           "7_r0.1",
           "8_r0.1",
           "9_r0.1",
           "10_r0.1",
           "11_r0.1",
           "12_r0.1",
           "13_r0.1",
           "14_r0.1",
           "15_r0.1",
           "16_r0.1",
           "17_r0.1",
           "18_r0.1",
           "19_r0.1",
           "20_r0.1",
           "21_r0.1",
           "22_r0.1",
           "23_r0.1",
           "24_r0.1",
           "25_r0.1",
           "26_r0.1",
           "27_r0.1",
           "28_r0.1",
           "29_r0.1",
           "30_r0.1"
          ],
          "line": {
           "width": 0.5
          },
          "pad": 15,
          "thickness": 20
         },
         "type": "sankey"
        }
       ],
       "layout": {
        "height": 800,
        "template": {
         "data": {
          "bar": [
           {
            "error_x": {
             "color": "#2a3f5f"
            },
            "error_y": {
             "color": "#2a3f5f"
            },
            "marker": {
             "line": {
              "color": "#E5ECF6",
              "width": 0.5
             },
             "pattern": {
              "fillmode": "overlay",
              "size": 10,
              "solidity": 0.2
             }
            },
            "type": "bar"
           }
          ],
          "barpolar": [
           {
            "marker": {
             "line": {
              "color": "#E5ECF6",
              "width": 0.5
             },
             "pattern": {
              "fillmode": "overlay",
              "size": 10,
              "solidity": 0.2
             }
            },
            "type": "barpolar"
           }
          ],
          "carpet": [
           {
            "aaxis": {
             "endlinecolor": "#2a3f5f",
             "gridcolor": "white",
             "linecolor": "white",
             "minorgridcolor": "white",
             "startlinecolor": "#2a3f5f"
            },
            "baxis": {
             "endlinecolor": "#2a3f5f",
             "gridcolor": "white",
             "linecolor": "white",
             "minorgridcolor": "white",
             "startlinecolor": "#2a3f5f"
            },
            "type": "carpet"
           }
          ],
          "choropleth": [
           {
            "colorbar": {
             "outlinewidth": 0,
             "ticks": ""
            },
            "type": "choropleth"
           }
          ],
          "contour": [
           {
            "colorbar": {
             "outlinewidth": 0,
             "ticks": ""
            },
            "colorscale": [
             [
              0,
              "#0d0887"
             ],
             [
              0.1111111111111111,
              "#46039f"
             ],
             [
              0.2222222222222222,
              "#7201a8"
             ],
             [
              0.3333333333333333,
              "#9c179e"
             ],
             [
              0.4444444444444444,
              "#bd3786"
             ],
             [
              0.5555555555555556,
              "#d8576b"
             ],
             [
              0.6666666666666666,
              "#ed7953"
             ],
             [
              0.7777777777777778,
              "#fb9f3a"
             ],
             [
              0.8888888888888888,
              "#fdca26"
             ],
             [
              1,
              "#f0f921"
             ]
            ],
            "type": "contour"
           }
          ],
          "contourcarpet": [
           {
            "colorbar": {
             "outlinewidth": 0,
             "ticks": ""
            },
            "type": "contourcarpet"
           }
          ],
          "heatmap": [
           {
            "colorbar": {
             "outlinewidth": 0,
             "ticks": ""
            },
            "colorscale": [
             [
              0,
              "#0d0887"
             ],
             [
              0.1111111111111111,
              "#46039f"
             ],
             [
              0.2222222222222222,
              "#7201a8"
             ],
             [
              0.3333333333333333,
              "#9c179e"
             ],
             [
              0.4444444444444444,
              "#bd3786"
             ],
             [
              0.5555555555555556,
              "#d8576b"
             ],
             [
              0.6666666666666666,
              "#ed7953"
             ],
             [
              0.7777777777777778,
              "#fb9f3a"
             ],
             [
              0.8888888888888888,
              "#fdca26"
             ],
             [
              1,
              "#f0f921"
             ]
            ],
            "type": "heatmap"
           }
          ],
          "heatmapgl": [
           {
            "colorbar": {
             "outlinewidth": 0,
             "ticks": ""
            },
            "colorscale": [
             [
              0,
              "#0d0887"
             ],
             [
              0.1111111111111111,
              "#46039f"
             ],
             [
              0.2222222222222222,
              "#7201a8"
             ],
             [
              0.3333333333333333,
              "#9c179e"
             ],
             [
              0.4444444444444444,
              "#bd3786"
             ],
             [
              0.5555555555555556,
              "#d8576b"
             ],
             [
              0.6666666666666666,
              "#ed7953"
             ],
             [
              0.7777777777777778,
              "#fb9f3a"
             ],
             [
              0.8888888888888888,
              "#fdca26"
             ],
             [
              1,
              "#f0f921"
             ]
            ],
            "type": "heatmapgl"
           }
          ],
          "histogram": [
           {
            "marker": {
             "pattern": {
              "fillmode": "overlay",
              "size": 10,
              "solidity": 0.2
             }
            },
            "type": "histogram"
           }
          ],
          "histogram2d": [
           {
            "colorbar": {
             "outlinewidth": 0,
             "ticks": ""
            },
            "colorscale": [
             [
              0,
              "#0d0887"
             ],
             [
              0.1111111111111111,
              "#46039f"
             ],
             [
              0.2222222222222222,
              "#7201a8"
             ],
             [
              0.3333333333333333,
              "#9c179e"
             ],
             [
              0.4444444444444444,
              "#bd3786"
             ],
             [
              0.5555555555555556,
              "#d8576b"
             ],
             [
              0.6666666666666666,
              "#ed7953"
             ],
             [
              0.7777777777777778,
              "#fb9f3a"
             ],
             [
              0.8888888888888888,
              "#fdca26"
             ],
             [
              1,
              "#f0f921"
             ]
            ],
            "type": "histogram2d"
           }
          ],
          "histogram2dcontour": [
           {
            "colorbar": {
             "outlinewidth": 0,
             "ticks": ""
            },
            "colorscale": [
             [
              0,
              "#0d0887"
             ],
             [
              0.1111111111111111,
              "#46039f"
             ],
             [
              0.2222222222222222,
              "#7201a8"
             ],
             [
              0.3333333333333333,
              "#9c179e"
             ],
             [
              0.4444444444444444,
              "#bd3786"
             ],
             [
              0.5555555555555556,
              "#d8576b"
             ],
             [
              0.6666666666666666,
              "#ed7953"
             ],
             [
              0.7777777777777778,
              "#fb9f3a"
             ],
             [
              0.8888888888888888,
              "#fdca26"
             ],
             [
              1,
              "#f0f921"
             ]
            ],
            "type": "histogram2dcontour"
           }
          ],
          "mesh3d": [
           {
            "colorbar": {
             "outlinewidth": 0,
             "ticks": ""
            },
            "type": "mesh3d"
           }
          ],
          "parcoords": [
           {
            "line": {
             "colorbar": {
              "outlinewidth": 0,
              "ticks": ""
             }
            },
            "type": "parcoords"
           }
          ],
          "pie": [
           {
            "automargin": true,
            "type": "pie"
           }
          ],
          "scatter": [
           {
            "fillpattern": {
             "fillmode": "overlay",
             "size": 10,
             "solidity": 0.2
            },
            "type": "scatter"
           }
          ],
          "scatter3d": [
           {
            "line": {
             "colorbar": {
              "outlinewidth": 0,
              "ticks": ""
             }
            },
            "marker": {
             "colorbar": {
              "outlinewidth": 0,
              "ticks": ""
             }
            },
            "type": "scatter3d"
           }
          ],
          "scattercarpet": [
           {
            "marker": {
             "colorbar": {
              "outlinewidth": 0,
              "ticks": ""
             }
            },
            "type": "scattercarpet"
           }
          ],
          "scattergeo": [
           {
            "marker": {
             "colorbar": {
              "outlinewidth": 0,
              "ticks": ""
             }
            },
            "type": "scattergeo"
           }
          ],
          "scattergl": [
           {
            "marker": {
             "colorbar": {
              "outlinewidth": 0,
              "ticks": ""
             }
            },
            "type": "scattergl"
           }
          ],
          "scattermapbox": [
           {
            "marker": {
             "colorbar": {
              "outlinewidth": 0,
              "ticks": ""
             }
            },
            "type": "scattermapbox"
           }
          ],
          "scatterpolar": [
           {
            "marker": {
             "colorbar": {
              "outlinewidth": 0,
              "ticks": ""
             }
            },
            "type": "scatterpolar"
           }
          ],
          "scatterpolargl": [
           {
            "marker": {
             "colorbar": {
              "outlinewidth": 0,
              "ticks": ""
             }
            },
            "type": "scatterpolargl"
           }
          ],
          "scatterternary": [
           {
            "marker": {
             "colorbar": {
              "outlinewidth": 0,
              "ticks": ""
             }
            },
            "type": "scatterternary"
           }
          ],
          "surface": [
           {
            "colorbar": {
             "outlinewidth": 0,
             "ticks": ""
            },
            "colorscale": [
             [
              0,
              "#0d0887"
             ],
             [
              0.1111111111111111,
              "#46039f"
             ],
             [
              0.2222222222222222,
              "#7201a8"
             ],
             [
              0.3333333333333333,
              "#9c179e"
             ],
             [
              0.4444444444444444,
              "#bd3786"
             ],
             [
              0.5555555555555556,
              "#d8576b"
             ],
             [
              0.6666666666666666,
              "#ed7953"
             ],
             [
              0.7777777777777778,
              "#fb9f3a"
             ],
             [
              0.8888888888888888,
              "#fdca26"
             ],
             [
              1,
              "#f0f921"
             ]
            ],
            "type": "surface"
           }
          ],
          "table": [
           {
            "cells": {
             "fill": {
              "color": "#EBF0F8"
             },
             "line": {
              "color": "white"
             }
            },
            "header": {
             "fill": {
              "color": "#C8D4E3"
             },
             "line": {
              "color": "white"
             }
            },
            "type": "table"
           }
          ]
         },
         "layout": {
          "annotationdefaults": {
           "arrowcolor": "#2a3f5f",
           "arrowhead": 0,
           "arrowwidth": 1
          },
          "autotypenumbers": "strict",
          "coloraxis": {
           "colorbar": {
            "outlinewidth": 0,
            "ticks": ""
           }
          },
          "colorscale": {
           "diverging": [
            [
             0,
             "#8e0152"
            ],
            [
             0.1,
             "#c51b7d"
            ],
            [
             0.2,
             "#de77ae"
            ],
            [
             0.3,
             "#f1b6da"
            ],
            [
             0.4,
             "#fde0ef"
            ],
            [
             0.5,
             "#f7f7f7"
            ],
            [
             0.6,
             "#e6f5d0"
            ],
            [
             0.7,
             "#b8e186"
            ],
            [
             0.8,
             "#7fbc41"
            ],
            [
             0.9,
             "#4d9221"
            ],
            [
             1,
             "#276419"
            ]
           ],
           "sequential": [
            [
             0,
             "#0d0887"
            ],
            [
             0.1111111111111111,
             "#46039f"
            ],
            [
             0.2222222222222222,
             "#7201a8"
            ],
            [
             0.3333333333333333,
             "#9c179e"
            ],
            [
             0.4444444444444444,
             "#bd3786"
            ],
            [
             0.5555555555555556,
             "#d8576b"
            ],
            [
             0.6666666666666666,
             "#ed7953"
            ],
            [
             0.7777777777777778,
             "#fb9f3a"
            ],
            [
             0.8888888888888888,
             "#fdca26"
            ],
            [
             1,
             "#f0f921"
            ]
           ],
           "sequentialminus": [
            [
             0,
             "#0d0887"
            ],
            [
             0.1111111111111111,
             "#46039f"
            ],
            [
             0.2222222222222222,
             "#7201a8"
            ],
            [
             0.3333333333333333,
             "#9c179e"
            ],
            [
             0.4444444444444444,
             "#bd3786"
            ],
            [
             0.5555555555555556,
             "#d8576b"
            ],
            [
             0.6666666666666666,
             "#ed7953"
            ],
            [
             0.7777777777777778,
             "#fb9f3a"
            ],
            [
             0.8888888888888888,
             "#fdca26"
            ],
            [
             1,
             "#f0f921"
            ]
           ]
          },
          "colorway": [
           "#636efa",
           "#EF553B",
           "#00cc96",
           "#ab63fa",
           "#FFA15A",
           "#19d3f3",
           "#FF6692",
           "#B6E880",
           "#FF97FF",
           "#FECB52"
          ],
          "font": {
           "color": "#2a3f5f"
          },
          "geo": {
           "bgcolor": "white",
           "lakecolor": "white",
           "landcolor": "#E5ECF6",
           "showlakes": true,
           "showland": true,
           "subunitcolor": "white"
          },
          "hoverlabel": {
           "align": "left"
          },
          "hovermode": "closest",
          "mapbox": {
           "style": "light"
          },
          "paper_bgcolor": "white",
          "plot_bgcolor": "#E5ECF6",
          "polar": {
           "angularaxis": {
            "gridcolor": "white",
            "linecolor": "white",
            "ticks": ""
           },
           "bgcolor": "#E5ECF6",
           "radialaxis": {
            "gridcolor": "white",
            "linecolor": "white",
            "ticks": ""
           }
          },
          "scene": {
           "xaxis": {
            "backgroundcolor": "#E5ECF6",
            "gridcolor": "white",
            "gridwidth": 2,
            "linecolor": "white",
            "showbackground": true,
            "ticks": "",
            "zerolinecolor": "white"
           },
           "yaxis": {
            "backgroundcolor": "#E5ECF6",
            "gridcolor": "white",
            "gridwidth": 2,
            "linecolor": "white",
            "showbackground": true,
            "ticks": "",
            "zerolinecolor": "white"
           },
           "zaxis": {
            "backgroundcolor": "#E5ECF6",
            "gridcolor": "white",
            "gridwidth": 2,
            "linecolor": "white",
            "showbackground": true,
            "ticks": "",
            "zerolinecolor": "white"
           }
          },
          "shapedefaults": {
           "line": {
            "color": "#2a3f5f"
           }
          },
          "ternary": {
           "aaxis": {
            "gridcolor": "white",
            "linecolor": "white",
            "ticks": ""
           },
           "baxis": {
            "gridcolor": "white",
            "linecolor": "white",
            "ticks": ""
           },
           "bgcolor": "#E5ECF6",
           "caxis": {
            "gridcolor": "white",
            "linecolor": "white",
            "ticks": ""
           }
          },
          "title": {
           "x": 0.05
          },
          "xaxis": {
           "automargin": true,
           "gridcolor": "white",
           "linecolor": "white",
           "ticks": "",
           "title": {
            "standoff": 15
           },
           "zerolinecolor": "white",
           "zerolinewidth": 2
          },
          "yaxis": {
           "automargin": true,
           "gridcolor": "white",
           "linecolor": "white",
           "ticks": "",
           "title": {
            "standoff": 15
           },
           "zerolinecolor": "white",
           "zerolinewidth": 2
          }
         }
        },
        "title": {
         "text": "Ovi Cell Types"
        },
        "width": 800
       }
      }
     },
     "metadata": {},
     "output_type": "display_data"
    }
   ],
   "source": [
    "ovi_cell_chunk = ovi_cell[['0.0', '0.05', '0.1']].copy()\n",
    "create_sankey(ovi_cell_chunk, width=800, height=800, title='Ovi Cell Types')"
   ]
  },
  {
   "cell_type": "markdown",
   "metadata": {},
   "source": [
    "## Ride or die from 0.1 max res for celltypes"
   ]
  },
  {
   "cell_type": "code",
   "execution_count": 20,
   "metadata": {},
   "outputs": [],
   "source": [
    "# max res to use\n",
    "max_res = '0.1'\n",
    "\n",
    "# df to use\n",
    "cell_test = ovi_cell[[\"0.0\",\"0.05\", max_res]].copy()\n",
    "\n",
    "# Get list of module ids\n",
    "module_ids = cell_test[max_res].unique().tolist()"
   ]
  },
  {
   "cell_type": "code",
   "execution_count": 21,
   "metadata": {},
   "outputs": [
    {
     "data": {
      "text/html": [
       "<div>\n",
       "<style scoped>\n",
       "    .dataframe tbody tr th:only-of-type {\n",
       "        vertical-align: middle;\n",
       "    }\n",
       "\n",
       "    .dataframe tbody tr th {\n",
       "        vertical-align: top;\n",
       "    }\n",
       "\n",
       "    .dataframe thead th {\n",
       "        text-align: right;\n",
       "    }\n",
       "</style>\n",
       "<table border=\"1\" class=\"dataframe\">\n",
       "  <thead>\n",
       "    <tr style=\"text-align: right;\">\n",
       "      <th></th>\n",
       "      <th>Unnamed: 0</th>\n",
       "      <th>celltype</th>\n",
       "      <th>key</th>\n",
       "      <th>0.75</th>\n",
       "      <th>0.05</th>\n",
       "      <th>0.1</th>\n",
       "      <th>0.25</th>\n",
       "      <th>0.5</th>\n",
       "      <th>1.0</th>\n",
       "      <th>0.0</th>\n",
       "    </tr>\n",
       "  </thead>\n",
       "  <tbody>\n",
       "    <tr>\n",
       "      <th>661</th>\n",
       "      <td>661</td>\n",
       "      <td>PAM04_a</td>\n",
       "      <td>662</td>\n",
       "      <td>326</td>\n",
       "      <td>3</td>\n",
       "      <td>22</td>\n",
       "      <td>62</td>\n",
       "      <td>254</td>\n",
       "      <td>375</td>\n",
       "      <td>3</td>\n",
       "    </tr>\n",
       "    <tr>\n",
       "      <th>662</th>\n",
       "      <td>662</td>\n",
       "      <td>PAM04_b</td>\n",
       "      <td>663</td>\n",
       "      <td>327</td>\n",
       "      <td>3</td>\n",
       "      <td>22</td>\n",
       "      <td>26</td>\n",
       "      <td>255</td>\n",
       "      <td>376</td>\n",
       "      <td>3</td>\n",
       "    </tr>\n",
       "    <tr>\n",
       "      <th>719</th>\n",
       "      <td>719</td>\n",
       "      <td>PS098</td>\n",
       "      <td>720</td>\n",
       "      <td>346</td>\n",
       "      <td>4</td>\n",
       "      <td>24</td>\n",
       "      <td>67</td>\n",
       "      <td>268</td>\n",
       "      <td>397</td>\n",
       "      <td>4</td>\n",
       "    </tr>\n",
       "    <tr>\n",
       "      <th>724</th>\n",
       "      <td>724</td>\n",
       "      <td>PS127</td>\n",
       "      <td>725</td>\n",
       "      <td>346</td>\n",
       "      <td>4</td>\n",
       "      <td>24</td>\n",
       "      <td>67</td>\n",
       "      <td>268</td>\n",
       "      <td>397</td>\n",
       "      <td>4</td>\n",
       "    </tr>\n",
       "    <tr>\n",
       "      <th>750</th>\n",
       "      <td>750</td>\n",
       "      <td>SIFa</td>\n",
       "      <td>751</td>\n",
       "      <td>326</td>\n",
       "      <td>3</td>\n",
       "      <td>22</td>\n",
       "      <td>62</td>\n",
       "      <td>254</td>\n",
       "      <td>375</td>\n",
       "      <td>3</td>\n",
       "    </tr>\n",
       "    <tr>\n",
       "      <th>817</th>\n",
       "      <td>817</td>\n",
       "      <td>SLP009</td>\n",
       "      <td>818</td>\n",
       "      <td>375</td>\n",
       "      <td>1</td>\n",
       "      <td>26</td>\n",
       "      <td>74</td>\n",
       "      <td>285</td>\n",
       "      <td>428</td>\n",
       "      <td>1</td>\n",
       "    </tr>\n",
       "    <tr>\n",
       "      <th>1258</th>\n",
       "      <td>1258</td>\n",
       "      <td>SMP431</td>\n",
       "      <td>1259</td>\n",
       "      <td>498</td>\n",
       "      <td>1</td>\n",
       "      <td>26</td>\n",
       "      <td>74</td>\n",
       "      <td>335</td>\n",
       "      <td>574</td>\n",
       "      <td>1</td>\n",
       "    </tr>\n",
       "  </tbody>\n",
       "</table>\n",
       "</div>"
      ],
      "text/plain": [
       "      Unnamed: 0 celltype   key  0.75  0.05  0.1  0.25  0.5  1.0  0.0\n",
       "661          661  PAM04_a   662   326     3   22    62  254  375    3\n",
       "662          662  PAM04_b   663   327     3   22    26  255  376    3\n",
       "719          719    PS098   720   346     4   24    67  268  397    4\n",
       "724          724    PS127   725   346     4   24    67  268  397    4\n",
       "750          750     SIFa   751   326     3   22    62  254  375    3\n",
       "817          817   SLP009   818   375     1   26    74  285  428    1\n",
       "1258        1258   SMP431  1259   498     1   26    74  335  574    1"
      ]
     },
     "execution_count": 21,
     "metadata": {},
     "output_type": "execute_result"
    }
   ],
   "source": [
    "# create an empty list to store mod ids of riders\n",
    "the_homies = []\n",
    "\n",
    "# loop through each module id\n",
    "for i in module_ids:\n",
    "    # Grab the roes that have module id \n",
    "    temp_df = cell_test[cell_test[max_res] == i]\n",
    "\n",
    "    # test whether there ismore than one row since singletons dont count\n",
    "    if temp_df.shape[0] > 1:\n",
    "        \n",
    "        # test for number of unique rows\n",
    "        if temp_df.drop_duplicates().shape[0] == 1:\n",
    "            the_homies.append(i)\n",
    "# Retrieve rows of the original dataframe that have ride or die modules\n",
    "ride_or_die = ovi_cell[ovi_cell[max_res].isin(the_homies)]\n",
    "ride_or_die"
   ]
  },
  {
   "cell_type": "code",
   "execution_count": 22,
   "metadata": {},
   "outputs": [
    {
     "data": {
      "text/plain": [
       "[22, 24, 26]"
      ]
     },
     "execution_count": 22,
     "metadata": {},
     "output_type": "execute_result"
    }
   ],
   "source": [
    "the_homies"
   ]
  },
  {
   "cell_type": "code",
   "execution_count": null,
   "metadata": {},
   "outputs": [],
   "source": []
  }
 ],
 "metadata": {
  "kernelspec": {
   "display_name": "flybrainlab",
   "language": "python",
   "name": "python3"
  },
  "language_info": {
   "codemirror_mode": {
    "name": "ipython",
    "version": 3
   },
   "file_extension": ".py",
   "mimetype": "text/x-python",
   "name": "python",
   "nbconvert_exporter": "python",
   "pygments_lexer": "ipython3",
   "version": "3.11.7"
  }
 },
 "nbformat": 4,
 "nbformat_minor": 2
}
