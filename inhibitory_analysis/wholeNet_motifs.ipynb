{
 "cells": [
  {
   "cell_type": "markdown",
   "metadata": {},
   "source": [
    "# Creating a motif finder: A test file\n",
    "This file will go through the steps of producing a motif finder that isolates all 120U triads in a given network.\n",
    "1. Import data and create edgelist\n",
    "2. Add edges to a networkx graph object\n",
    "3. Use the .succesors() functions to find what each individual node is connected to\n",
    "4. Check what formations are used\n",
    "5. Isolate the reciprocal pair of nodes from the convergent node\n"
   ]
  },
  {
   "cell_type": "code",
   "execution_count": 39,
   "metadata": {},
   "outputs": [],
   "source": [
    "import os\n",
    "import pandas as pd\n",
    "import numpy as np\n",
    "import networkx as nx\n",
    "import pickle\n",
    "from itertools import combinations, permutations\n",
    "from collections import defaultdict\n",
    "import matplotlib.pyplot as plt\n",
    "import unittest\n",
    "# only allow 100 rows to display pandas\n",
    "pd.set_option('display.max_rows', 100)"
   ]
  },
  {
   "cell_type": "code",
   "execution_count": 3,
   "metadata": {},
   "outputs": [
    {
     "data": {
      "text/html": [
       "<div>\n",
       "<style scoped>\n",
       "    .dataframe tbody tr th:only-of-type {\n",
       "        vertical-align: middle;\n",
       "    }\n",
       "\n",
       "    .dataframe tbody tr th {\n",
       "        vertical-align: top;\n",
       "    }\n",
       "\n",
       "    .dataframe thead th {\n",
       "        text-align: right;\n",
       "    }\n",
       "</style>\n",
       "<table border=\"1\" class=\"dataframe\">\n",
       "  <thead>\n",
       "    <tr style=\"text-align: right;\">\n",
       "      <th></th>\n",
       "      <th>pre_root_id</th>\n",
       "      <th>post_root_id</th>\n",
       "      <th>neuropil</th>\n",
       "      <th>syn_count</th>\n",
       "      <th>nt_type</th>\n",
       "    </tr>\n",
       "  </thead>\n",
       "  <tbody>\n",
       "    <tr>\n",
       "      <th>0</th>\n",
       "      <td>720575940629970489</td>\n",
       "      <td>720575940631267655</td>\n",
       "      <td>AVLP_R</td>\n",
       "      <td>7</td>\n",
       "      <td>GABA</td>\n",
       "    </tr>\n",
       "    <tr>\n",
       "      <th>1</th>\n",
       "      <td>720575940605876866</td>\n",
       "      <td>720575940606514878</td>\n",
       "      <td>LAL_R</td>\n",
       "      <td>15</td>\n",
       "      <td>GABA</td>\n",
       "    </tr>\n",
       "    <tr>\n",
       "      <th>2</th>\n",
       "      <td>720575940627737365</td>\n",
       "      <td>720575940628914436</td>\n",
       "      <td>AL_L</td>\n",
       "      <td>32</td>\n",
       "      <td>ACH</td>\n",
       "    </tr>\n",
       "    <tr>\n",
       "      <th>3</th>\n",
       "      <td>720575940633587552</td>\n",
       "      <td>720575940626452879</td>\n",
       "      <td>SMP_R</td>\n",
       "      <td>15</td>\n",
       "      <td>ACH</td>\n",
       "    </tr>\n",
       "    <tr>\n",
       "      <th>4</th>\n",
       "      <td>720575940616871878</td>\n",
       "      <td>720575940621203973</td>\n",
       "      <td>AVLP_L</td>\n",
       "      <td>13</td>\n",
       "      <td>GABA</td>\n",
       "    </tr>\n",
       "    <tr>\n",
       "      <th>...</th>\n",
       "      <td>...</td>\n",
       "      <td>...</td>\n",
       "      <td>...</td>\n",
       "      <td>...</td>\n",
       "      <td>...</td>\n",
       "    </tr>\n",
       "    <tr>\n",
       "      <th>3869873</th>\n",
       "      <td>720575940621773517</td>\n",
       "      <td>720575940611139733</td>\n",
       "      <td>PVLP_R</td>\n",
       "      <td>1</td>\n",
       "      <td>ACH</td>\n",
       "    </tr>\n",
       "    <tr>\n",
       "      <th>3869874</th>\n",
       "      <td>720575940622734576</td>\n",
       "      <td>720575940609171395</td>\n",
       "      <td>ICL_L</td>\n",
       "      <td>2</td>\n",
       "      <td>ACH</td>\n",
       "    </tr>\n",
       "    <tr>\n",
       "      <th>3869875</th>\n",
       "      <td>720575940638466367</td>\n",
       "      <td>720575940627036426</td>\n",
       "      <td>LO_L</td>\n",
       "      <td>5</td>\n",
       "      <td>ACH</td>\n",
       "    </tr>\n",
       "    <tr>\n",
       "      <th>3869876</th>\n",
       "      <td>720575940629789660</td>\n",
       "      <td>720575940631553603</td>\n",
       "      <td>GOR_R</td>\n",
       "      <td>3</td>\n",
       "      <td>ACH</td>\n",
       "    </tr>\n",
       "    <tr>\n",
       "      <th>3869877</th>\n",
       "      <td>720575940624054792</td>\n",
       "      <td>720575940634431935</td>\n",
       "      <td>ICL_L</td>\n",
       "      <td>5</td>\n",
       "      <td>ACH</td>\n",
       "    </tr>\n",
       "  </tbody>\n",
       "</table>\n",
       "<p>3869878 rows × 5 columns</p>\n",
       "</div>"
      ],
      "text/plain": [
       "                pre_root_id        post_root_id neuropil  syn_count nt_type\n",
       "0        720575940629970489  720575940631267655   AVLP_R          7    GABA\n",
       "1        720575940605876866  720575940606514878    LAL_R         15    GABA\n",
       "2        720575940627737365  720575940628914436     AL_L         32     ACH\n",
       "3        720575940633587552  720575940626452879    SMP_R         15     ACH\n",
       "4        720575940616871878  720575940621203973   AVLP_L         13    GABA\n",
       "...                     ...                 ...      ...        ...     ...\n",
       "3869873  720575940621773517  720575940611139733   PVLP_R          1     ACH\n",
       "3869874  720575940622734576  720575940609171395    ICL_L          2     ACH\n",
       "3869875  720575940638466367  720575940627036426     LO_L          5     ACH\n",
       "3869876  720575940629789660  720575940631553603    GOR_R          3     ACH\n",
       "3869877  720575940624054792  720575940634431935    ICL_L          5     ACH\n",
       "\n",
       "[3869878 rows x 5 columns]"
      ]
     },
     "execution_count": 3,
     "metadata": {},
     "output_type": "execute_result"
    }
   ],
   "source": [
    "# Import data\n",
    "syn_table = pd.read_csv('/Users/rweberla/Downloads/connections.csv')\n",
    "syn_table"
   ]
  },
  {
   "cell_type": "code",
   "execution_count": 5,
   "metadata": {},
   "outputs": [
    {
     "data": {
      "text/html": [
       "<div>\n",
       "<style scoped>\n",
       "    .dataframe tbody tr th:only-of-type {\n",
       "        vertical-align: middle;\n",
       "    }\n",
       "\n",
       "    .dataframe tbody tr th {\n",
       "        vertical-align: top;\n",
       "    }\n",
       "\n",
       "    .dataframe thead th {\n",
       "        text-align: right;\n",
       "    }\n",
       "</style>\n",
       "<table border=\"1\" class=\"dataframe\">\n",
       "  <thead>\n",
       "    <tr style=\"text-align: right;\">\n",
       "      <th></th>\n",
       "      <th>pre_root_id</th>\n",
       "      <th>post_root_id</th>\n",
       "    </tr>\n",
       "  </thead>\n",
       "  <tbody>\n",
       "    <tr>\n",
       "      <th>0</th>\n",
       "      <td>720575940629970489</td>\n",
       "      <td>720575940631267655</td>\n",
       "    </tr>\n",
       "    <tr>\n",
       "      <th>1</th>\n",
       "      <td>720575940605876866</td>\n",
       "      <td>720575940606514878</td>\n",
       "    </tr>\n",
       "    <tr>\n",
       "      <th>2</th>\n",
       "      <td>720575940627737365</td>\n",
       "      <td>720575940628914436</td>\n",
       "    </tr>\n",
       "    <tr>\n",
       "      <th>3</th>\n",
       "      <td>720575940633587552</td>\n",
       "      <td>720575940626452879</td>\n",
       "    </tr>\n",
       "    <tr>\n",
       "      <th>4</th>\n",
       "      <td>720575940616871878</td>\n",
       "      <td>720575940621203973</td>\n",
       "    </tr>\n",
       "    <tr>\n",
       "      <th>...</th>\n",
       "      <td>...</td>\n",
       "      <td>...</td>\n",
       "    </tr>\n",
       "    <tr>\n",
       "      <th>3869873</th>\n",
       "      <td>720575940621773517</td>\n",
       "      <td>720575940611139733</td>\n",
       "    </tr>\n",
       "    <tr>\n",
       "      <th>3869874</th>\n",
       "      <td>720575940622734576</td>\n",
       "      <td>720575940609171395</td>\n",
       "    </tr>\n",
       "    <tr>\n",
       "      <th>3869875</th>\n",
       "      <td>720575940638466367</td>\n",
       "      <td>720575940627036426</td>\n",
       "    </tr>\n",
       "    <tr>\n",
       "      <th>3869876</th>\n",
       "      <td>720575940629789660</td>\n",
       "      <td>720575940631553603</td>\n",
       "    </tr>\n",
       "    <tr>\n",
       "      <th>3869877</th>\n",
       "      <td>720575940624054792</td>\n",
       "      <td>720575940634431935</td>\n",
       "    </tr>\n",
       "  </tbody>\n",
       "</table>\n",
       "<p>3869878 rows × 2 columns</p>\n",
       "</div>"
      ],
      "text/plain": [
       "                pre_root_id        post_root_id\n",
       "0        720575940629970489  720575940631267655\n",
       "1        720575940605876866  720575940606514878\n",
       "2        720575940627737365  720575940628914436\n",
       "3        720575940633587552  720575940626452879\n",
       "4        720575940616871878  720575940621203973\n",
       "...                     ...                 ...\n",
       "3869873  720575940621773517  720575940611139733\n",
       "3869874  720575940622734576  720575940609171395\n",
       "3869875  720575940638466367  720575940627036426\n",
       "3869876  720575940629789660  720575940631553603\n",
       "3869877  720575940624054792  720575940634431935\n",
       "\n",
       "[3869878 rows x 2 columns]"
      ]
     },
     "execution_count": 5,
     "metadata": {},
     "output_type": "execute_result"
    }
   ],
   "source": [
    "# Create edgelist\n",
    "syn_table_limit_test = syn_table[[\"pre_root_id\", \"post_root_id\"]]\n",
    "syn_table_limit_test "
   ]
  },
  {
   "cell_type": "markdown",
   "metadata": {},
   "source": [
    "### Found this function called succesors in networkx!\n",
    "This allows you to create a directed graph and find all triads in this reference:\n",
    "- Snijders, T. (2012). “Transitivity and triads.” University of Oxford. https://web.archive.org/web/20170830032057/http://www.stats.ox.ac.uk/~snijders/Trans_Triads_ha.pdf\n",
    "\n",
    "Our motif is the \"120U\". We will probably need to use the HPC to do the whole connectome. \n",
    "\n",
    "This method was developed with help from co-pilot. The testing was done with df_test"
   ]
  },
  {
   "cell_type": "code",
   "execution_count": 7,
   "metadata": {},
   "outputs": [
    {
     "data": {
      "text/html": [
       "<div>\n",
       "<style scoped>\n",
       "    .dataframe tbody tr th:only-of-type {\n",
       "        vertical-align: middle;\n",
       "    }\n",
       "\n",
       "    .dataframe tbody tr th {\n",
       "        vertical-align: top;\n",
       "    }\n",
       "\n",
       "    .dataframe thead th {\n",
       "        text-align: right;\n",
       "    }\n",
       "</style>\n",
       "<table border=\"1\" class=\"dataframe\">\n",
       "  <thead>\n",
       "    <tr style=\"text-align: right;\">\n",
       "      <th></th>\n",
       "      <th>s</th>\n",
       "      <th>t</th>\n",
       "    </tr>\n",
       "  </thead>\n",
       "  <tbody>\n",
       "    <tr>\n",
       "      <th>0</th>\n",
       "      <td>10</td>\n",
       "      <td>21</td>\n",
       "    </tr>\n",
       "    <tr>\n",
       "      <th>1</th>\n",
       "      <td>21</td>\n",
       "      <td>10</td>\n",
       "    </tr>\n",
       "    <tr>\n",
       "      <th>2</th>\n",
       "      <td>21</td>\n",
       "      <td>11</td>\n",
       "    </tr>\n",
       "    <tr>\n",
       "      <th>3</th>\n",
       "      <td>10</td>\n",
       "      <td>11</td>\n",
       "    </tr>\n",
       "  </tbody>\n",
       "</table>\n",
       "</div>"
      ],
      "text/plain": [
       "    s   t\n",
       "0  10  21\n",
       "1  21  10\n",
       "2  21  11\n",
       "3  10  11"
      ]
     },
     "execution_count": 7,
     "metadata": {},
     "output_type": "execute_result"
    }
   ],
   "source": [
    "# Isolated test for exact motif we want\n",
    "e_test= [(10,21), (21,10), (21,11), (10,11)]\n",
    "df_test = pd.DataFrame(columns=[\"s\", \"t\"], data = e_test)\n",
    "df_test"
   ]
  },
  {
   "cell_type": "code",
   "execution_count": 58,
   "metadata": {},
   "outputs": [
    {
     "data": {
      "image/png": "[encoded data removed]",
      "text/plain": [
       "<Figure size 640x480 with 1 Axes>"
      ]
     },
     "metadata": {},
     "output_type": "display_data"
    }
   ],
   "source": [
    "G = nx.DiGraph()\n",
    "G.add_edges_from([(0, 1), (1, 0), (2, 0), (2, 1), (1, 2)])\n",
    "nx.draw(G, with_labels=True)"
   ]
  },
  {
   "cell_type": "code",
   "execution_count": 59,
   "metadata": {},
   "outputs": [
    {
     "name": "stdout",
     "output_type": "stream",
     "text": [
      "0\n",
      "1\n",
      "2\n"
     ]
    }
   ],
   "source": [
    "# How does successors work?\n",
    "# This seems to access the nodes that the parameterized node points to\n",
    "for i, a in enumerate(G.nodes()):\n",
    "    print(a)"
   ]
  },
  {
   "cell_type": "code",
   "execution_count": 64,
   "metadata": {},
   "outputs": [
    {
     "name": "stdout",
     "output_type": "stream",
     "text": [
      "\n",
      "\n",
      "a 0\n",
      "successor of a 1\n",
      "successor of a2 1\n",
      "\n",
      "\n",
      "a 1\n",
      "successor of a 0\n",
      "successor of a2 0\n",
      "successor of a2 2\n",
      "successor of a 2\n",
      "successor of a2 0\n",
      "successor of a2 2\n",
      "\n",
      "\n",
      "a 2\n",
      "successor of a 0\n",
      "successor of a2 0\n",
      "successor of a2 1\n",
      "successor of a 1\n",
      "successor of a2 0\n",
      "successor of a2 1\n"
     ]
    }
   ],
   "source": [
    "# Now I want to see if we can get the successors of the successors\n",
    "# This is the same as the neighbors function\n",
    "for i, a in enumerate(G.nodes()):\n",
    "    print(\"\\n\")\n",
    "    print(\"a\", a)\n",
    "    for b in G.successors(a):\n",
    "        print(\"successor of a\", b)\n",
    "        for c in G.successors(a):\n",
    "            print(\"successor of a2\", c)\n",
    "            "
   ]
  },
  {
   "cell_type": "code",
   "execution_count": 29,
   "metadata": {},
   "outputs": [
    {
     "name": "stdout",
     "output_type": "stream",
     "text": [
      "\n",
      "\n",
      "a 10\n",
      "successor of a 21\n",
      "successor of i 21\n",
      "successor of i 11\n",
      "successor of a 11\n",
      "successor of i 21\n",
      "11 21 10\n",
      "True\n",
      "successor of i 11\n",
      "\n",
      "\n",
      "a 21\n",
      "successor of a 10\n",
      "successor of i 10\n",
      "successor of i 11\n",
      "successor of a 11\n",
      "successor of i 10\n",
      "11 10 21\n",
      "True\n",
      "successor of i 11\n",
      "\n",
      "\n",
      "a 11\n"
     ]
    }
   ],
   "source": [
    "# Now I want to check for our triad with the data we have\n",
    "for i, a in enumerate(G.nodes()):\n",
    "    print(\"\\n\")\n",
    "    print(\"a\", a)\n",
    "    for i in G.successors(a):\n",
    "        print(\"successor of a\", i)\n",
    "        for j in G.successors(a):\n",
    "            print(\"successor of i\", j)\n",
    "            if i != j and G.has_edge(j, a) and G.has_edge(j, i):\n",
    "                print(i, j, a)\n",
    "                print(\"True\")"
   ]
  },
  {
   "cell_type": "code",
   "execution_count": 32,
   "metadata": {},
   "outputs": [
    {
     "name": "stdout",
     "output_type": "stream",
     "text": [
      "\n",
      "\n",
      "a 10\n",
      "successor of a 21\n",
      "successor of i 21\n",
      "successor of i 11\n",
      "successor of a 11\n",
      "successor of i 21\n",
      "10 21\n",
      "successor of i 11\n",
      "\n",
      "\n",
      "a 21\n",
      "successor of a 10\n",
      "successor of i 10\n",
      "successor of i 11\n",
      "successor of a 11\n",
      "successor of i 10\n",
      "21 10\n",
      "successor of i 11\n",
      "\n",
      "\n",
      "a 11\n"
     ]
    }
   ],
   "source": [
    "# checking for reciprocal edges\n",
    "for i, a in enumerate(G.nodes()):\n",
    "    print(\"\\n\")\n",
    "    print(\"a\", a)\n",
    "    for i in G.successors(a):\n",
    "        print(\"successor of a\", i)\n",
    "        for j in G.successors(a):\n",
    "            print(\"successor of i\", j)\n",
    "            if i != j and G.has_edge(j, a) and G.has_edge(j, i):\n",
    "                    # Checks which nodes are reciprocal and sets the third node as the remaining node\n",
    "                    if G.has_edge(a, i) and G.has_edge(i, a):\n",
    "                        print(a, i)\n",
    "                        reciprocal_nodes = (a, i)\n",
    "                        third_node = j\n",
    "                    elif G.has_edge(a, j) and G.has_edge(j,a):\n",
    "                        print(a, j)\n",
    "                        reciprocal_nodes = (a, j)\n",
    "                        third_node = i\n",
    "                    elif G.has_edge(i, j) and G.has_edge(j, i):\n",
    "                        print(i, j)\n",
    "                        reciprocal_nodes = (i, j)\n",
    "                        third_node = a"
   ]
  },
  {
   "cell_type": "code",
   "execution_count": 87,
   "metadata": {},
   "outputs": [],
   "source": [
    "# Put it all together with a counter\n",
    "def count_triads(G):\n",
    "    num_120U_triads = 0\n",
    "    tri_by_type = defaultdict(list)\n",
    "    unique_triads = set()\n",
    "\n",
    "    print(\"Starting to count triads\")\n",
    "    for i, A in enumerate(G.nodes()):\n",
    "        # Find all successors of A\n",
    "        for B in G.successors(A):\n",
    "            for C in G.successors(A):\n",
    "                if B != C and G.has_edge(C, A) and G.has_edge(C, B):\n",
    "                    # Sort the nodes to ensure consistency\n",
    "                    triad = tuple(sorted([A, B, C]))\n",
    "                    if triad not in unique_triads:\n",
    "                        unique_triads.add(triad)\n",
    "                        # Identify the reciprocal nodes and the third node\n",
    "                        if G.has_edge(A, B) and G.has_edge(B, A) and not G.has_edge(C, A) and not G.has_edge(C, B):\n",
    "                            reciprocal_nodes = (A, B)\n",
    "                            third_node = C\n",
    "                        elif G.has_edge(A, C) and G.has_edge(C, A) and not G.has_edge(B, A) and not G.has_edge(B, C):\n",
    "                            reciprocal_nodes = (A, C)\n",
    "                            third_node = B\n",
    "                        elif G.has_edge(B, C) and G.has_edge(C, B) and not G.has_edge(A, B) and not G.has_edge(A, C):\n",
    "                            reciprocal_nodes = (B, C)\n",
    "                            third_node = A\n",
    "                        else:\n",
    "                            continue\n",
    "                        tri_by_type[\"120U\"].append([reciprocal_nodes,third_node])\n",
    "                        num_120U_triads += 1\n",
    "\n",
    "        if (i+1)%10000 == 0:\n",
    "            print(f\"Processed {i} nodes\")\n",
    "            print(f\"Found {num_120U_triads} 120U triads\")\n",
    "    return num_120U_triads, tri_by_type"
   ]
  },
  {
   "cell_type": "markdown",
   "metadata": {},
   "source": [
    "## Testing the function\n",
    "This will be 4 parts:\n",
    "- testing how it acts if there aren't any triads to find\n",
    "- testing how the functions acts if there is a more complex motif that includes the 120U motif\n",
    "- testing how the functions acts if there are multiple motifs\n",
    "- testing that there are no false positives"
   ]
  },
  {
   "cell_type": "markdown",
   "metadata": {},
   "source": [
    "### No motifs"
   ]
  },
  {
   "cell_type": "code",
   "execution_count": 88,
   "metadata": {},
   "outputs": [
    {
     "name": "stdout",
     "output_type": "stream",
     "text": [
      "Starting to count triads\n"
     ]
    },
    {
     "data": {
      "image/png": "[encoded data removed]",
      "text/plain": [
       "<Figure size 640x480 with 1 Axes>"
      ]
     },
     "metadata": {},
     "output_type": "display_data"
    }
   ],
   "source": [
    "G = nx.DiGraph()\n",
    "G.add_edges_from([(0, 1), (2, 1), (2, 0)])\n",
    "nx.draw(G, with_labels=True)\n",
    "num_120U_triads, tri_by_type = count_triads(G)\n",
    "# assert equal to zero\n",
    "assert num_120U_triads == 0"
   ]
  },
  {
   "cell_type": "markdown",
   "metadata": {},
   "source": [
    "### More complex motif in graph including 120U motif\n",
    "The question here is if we want this motif to be included here, as our motif is technically in here but also have more edges"
   ]
  },
  {
   "cell_type": "code",
   "execution_count": 89,
   "metadata": {},
   "outputs": [
    {
     "name": "stdout",
     "output_type": "stream",
     "text": [
      "Starting to count triads\n"
     ]
    },
    {
     "data": {
      "image/png": "[encoded data removed]",
      "text/plain": [
       "<Figure size 640x480 with 1 Axes>"
      ]
     },
     "metadata": {},
     "output_type": "display_data"
    }
   ],
   "source": [
    "G = nx.DiGraph()\n",
    "G.add_edges_from([(0, 1), (1, 0), (0, 2), (2, 0), (2, 1), (1, 2)])\n",
    "nx.draw(G, with_labels=True)\n",
    "num_120U_triads, tri_by_type = count_triads(G)\n",
    "assert num_120U_triads == 0\n"
   ]
  },
  {
   "cell_type": "code",
   "execution_count": 90,
   "metadata": {},
   "outputs": [
    {
     "name": "stdout",
     "output_type": "stream",
     "text": [
      "Starting to count triads\n",
      "defaultdict(<class 'list'>, {})\n"
     ]
    },
    {
     "data": {
      "image/png": "[encoded data removed]",
      "text/plain": [
       "<Figure size 640x480 with 1 Axes>"
      ]
     },
     "metadata": {},
     "output_type": "display_data"
    }
   ],
   "source": [
    "G = nx.DiGraph()\n",
    "G.add_edges_from([(0, 1), (1, 0), (2, 0), (1, 2)])\n",
    "nx.draw(G, with_labels=True)\n",
    "num_120U_triads, tri_by_type = count_triads(G)\n",
    "assert num_120U_triads == 0\n",
    "print(tri_by_type)\n"
   ]
  },
  {
   "cell_type": "markdown",
   "metadata": {},
   "source": [
    "### No false positives"
   ]
  },
  {
   "cell_type": "code",
   "execution_count": 95,
   "metadata": {},
   "outputs": [
    {
     "name": "stdout",
     "output_type": "stream",
     "text": [
      "Starting to count triads\n",
      "2\n"
     ]
    },
    {
     "data": {
      "image/png": "[encoded data removed]",
      "text/plain": [
       "<Figure size 640x480 with 1 Axes>"
      ]
     },
     "metadata": {},
     "output_type": "display_data"
    }
   ],
   "source": [
    "G = nx.DiGraph()\n",
    "G.add_edges_from([(0, 1), (1, 0), (0, 2), (2, 0), (2, 1), (1, 2), (4, 3), (5, 3), (5, 4), (4, 5), (5, 1), (4,1)])\n",
    "nx.draw(G, with_labels=True)\n",
    "num_120U_triads, tri_by_type = count_triads(G)\n",
    "print(num_120U_triads)\n",
    "assert num_120U_triads == 2"
   ]
  },
  {
   "cell_type": "markdown",
   "metadata": {},
   "source": [
    "## Running function on our data"
   ]
  },
  {
   "cell_type": "code",
   "execution_count": 96,
   "metadata": {},
   "outputs": [
    {
     "name": "stdout",
     "output_type": "stream",
     "text": [
      "Starting to count triads\n",
      "Processed 9999 nodes\n",
      "Found 337632 120U triads\n",
      "Processed 19999 nodes\n",
      "Found 570772 120U triads\n",
      "Processed 29999 nodes\n",
      "Found 654686 120U triads\n",
      "Processed 39999 nodes\n",
      "Found 695687 120U triads\n",
      "Processed 49999 nodes\n",
      "Found 718999 120U triads\n",
      "Processed 59999 nodes\n",
      "Found 732711 120U triads\n",
      "Processed 69999 nodes\n",
      "Found 741112 120U triads\n",
      "Processed 79999 nodes\n",
      "Found 745916 120U triads\n",
      "Processed 89999 nodes\n",
      "Found 748660 120U triads\n",
      "Processed 99999 nodes\n",
      "Found 750061 120U triads\n",
      "Processed 109999 nodes\n",
      "Found 750592 120U triads\n",
      "Processed 119999 nodes\n",
      "Found 750714 120U triads\n",
      "Processed 129999 nodes\n",
      "Found 750733 120U triads\n"
     ]
    }
   ],
   "source": [
    "# Run on the full dataset (takes a minute)\n",
    "G = nx.DiGraph()\n",
    "# Add the edges to the graph from dataframe\n",
    "G.add_edges_from(syn_table_limit_test.values)\n",
    "\n",
    "# Count the number of 120U triads\n",
    "num_120U_triads, tri_by_type = count_triads(G)"
   ]
  },
  {
   "cell_type": "code",
   "execution_count": 97,
   "metadata": {},
   "outputs": [],
   "source": [
    "# Save tri_by_type to a txt file, /Users/rweberla/Downloads/wholeNet_120U_triads.txt\n",
    "with open('/Users/rweberla/Downloads/wholeNet_120U_triads.txt', 'w') as f:\n",
    "    for item in tri_by_type[\"120U\"]:\n",
    "        f.write(\"%s\\n\" % item)\n"
   ]
  },
  {
   "cell_type": "code",
   "execution_count": 38,
   "metadata": {},
   "outputs": [
    {
     "data": {
      "text/plain": [
       "1506182"
      ]
     },
     "execution_count": 38,
     "metadata": {},
     "output_type": "execute_result"
    }
   ],
   "source": [
    "num_120U_triads"
   ]
  },
  {
   "cell_type": "markdown",
   "metadata": {},
   "source": [
    "This next part will be \n",
    "1. a for loop that iterates through the triads of df_found \n",
    "2. syn_table_f is filtered for just the edges in that triad (all possible combos)\n",
    "3. those rows (plus all columns) will be attached to df_triad_final\n",
    "4. the triad index will be the triad index from the df_found, for example for each connection that makes up the triad in the first row of df_found (index=0), their indexes will be 0 in the df_traid_final dataframe, so around 4 of them should be 0 since they are all 120U"
   ]
  },
  {
   "cell_type": "code",
   "execution_count": 80,
   "metadata": {},
   "outputs": [],
   "source": [
    "# Create a dataframe wtih multiIndex and populate traid column to 286724 rows all with 0\n",
    "# a for loop that iterates through the rows of df_found\n",
    "def triad_info(df):\n",
    "    df_new = pd.DataFrame(columns=[\"pre_root_id\", \"post_root_id\", \"neuropil\", \"syn_count\", 'nt_type', 'triad'])\n",
    "    for index, row in df.iterrows():\n",
    "        # For large set runs:\n",
    "        if (index+1)%10000 == 0:\n",
    "            print(\"10000 done!\")\n",
    "        \n",
    "        # Find the pre_root_id and post_root_id of the edge1, edge2, and edge3\n",
    "        id_1 = int(row[\"reciprocal1\"])\n",
    "        id_2 = int(row[\"reciprocal2\"])\n",
    "        id_3 = int(row[\"nid\"])\n",
    "        \n",
    "        # Find connections in the syn_table_f that match the combinations of id_1, id_2, and id_3\n",
    "        # use combinations to find all possible combinations of the 3 ids\n",
    "        for comb in permutations([id_1, id_2, id_3], 2):\n",
    "\n",
    "            # Find the rows that match the combinations\n",
    "            rows = syn_table[(syn_table[\"pre_root_id\"] == comb[0]) & (syn_table[\"post_root_id\"] == comb[1])]\n",
    "            \n",
    "            # If there are rows that match the combinations\n",
    "            if not rows.empty:\n",
    "                # Add the triad value to the rows\n",
    "                rows[\"triad\"] = index+1\n",
    "                # Add the rows to the df_new dataframe\n",
    "                df_new = pd.concat([df_new, rows]).reset_index(drop=True)\n",
    "\n",
    "    return df_new"
   ]
  }
 ],
 "metadata": {
  "kernelspec": {
   "display_name": "fbl",
   "language": "python",
   "name": "python3"
  },
  "language_info": {
   "codemirror_mode": {
    "name": "ipython",
    "version": 3
   },
   "file_extension": ".py",
   "mimetype": "text/x-python",
   "name": "python",
   "nbconvert_exporter": "python",
   "pygments_lexer": "ipython3",
   "version": "3.12.2"
  }
 },
 "nbformat": 4,
 "nbformat_minor": 2
}
