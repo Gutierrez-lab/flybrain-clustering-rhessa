{
 "cells": [
  {
   "cell_type": "code",
   "execution_count": 35,
   "metadata": {},
   "outputs": [],
   "source": [
    "import pandas as pd\n",
    "import numpy as np\n",
    "import matplotlib.pyplot as plt"
   ]
  },
  {
   "cell_type": "code",
   "execution_count": 23,
   "metadata": {},
   "outputs": [],
   "source": [
    "# import excel file\n",
    "df_test = pd.read_excel('sampledata_communitypillars.xlsx', )"
   ]
  },
  {
   "cell_type": "code",
   "execution_count": 28,
   "metadata": {},
   "outputs": [],
   "source": [
    "df_test = df_test.rename(columns={0: '0.0', 0.5:'0.5', 1:'1.0'})"
   ]
  },
  {
   "cell_type": "code",
   "execution_count": 55,
   "metadata": {},
   "outputs": [
    {
     "data": {
      "text/html": [
       "<div>\n",
       "<style scoped>\n",
       "    .dataframe tbody tr th:only-of-type {\n",
       "        vertical-align: middle;\n",
       "    }\n",
       "\n",
       "    .dataframe tbody tr th {\n",
       "        vertical-align: top;\n",
       "    }\n",
       "\n",
       "    .dataframe thead th {\n",
       "        text-align: right;\n",
       "    }\n",
       "</style>\n",
       "<table border=\"1\" class=\"dataframe\">\n",
       "  <thead>\n",
       "    <tr style=\"text-align: right;\">\n",
       "      <th></th>\n",
       "      <th>0.0</th>\n",
       "      <th>0.5</th>\n",
       "      <th>1.0</th>\n",
       "    </tr>\n",
       "    <tr>\n",
       "      <th>id</th>\n",
       "      <th></th>\n",
       "      <th></th>\n",
       "      <th></th>\n",
       "    </tr>\n",
       "  </thead>\n",
       "  <tbody>\n",
       "    <tr>\n",
       "      <th>1000</th>\n",
       "      <td>1</td>\n",
       "      <td>1</td>\n",
       "      <td>1</td>\n",
       "    </tr>\n",
       "    <tr>\n",
       "      <th>2000</th>\n",
       "      <td>1</td>\n",
       "      <td>1</td>\n",
       "      <td>2</td>\n",
       "    </tr>\n",
       "    <tr>\n",
       "      <th>3000</th>\n",
       "      <td>1</td>\n",
       "      <td>1</td>\n",
       "      <td>3</td>\n",
       "    </tr>\n",
       "    <tr>\n",
       "      <th>4000</th>\n",
       "      <td>1</td>\n",
       "      <td>2</td>\n",
       "      <td>4</td>\n",
       "    </tr>\n",
       "    <tr>\n",
       "      <th>5000</th>\n",
       "      <td>1</td>\n",
       "      <td>2</td>\n",
       "      <td>5</td>\n",
       "    </tr>\n",
       "    <tr>\n",
       "      <th>6000</th>\n",
       "      <td>2</td>\n",
       "      <td>2</td>\n",
       "      <td>6</td>\n",
       "    </tr>\n",
       "    <tr>\n",
       "      <th>7000</th>\n",
       "      <td>2</td>\n",
       "      <td>2</td>\n",
       "      <td>5</td>\n",
       "    </tr>\n",
       "    <tr>\n",
       "      <th>8000</th>\n",
       "      <td>2</td>\n",
       "      <td>3</td>\n",
       "      <td>7</td>\n",
       "    </tr>\n",
       "  </tbody>\n",
       "</table>\n",
       "</div>"
      ],
      "text/plain": [
       "      0.0  0.5  1.0\n",
       "id                 \n",
       "1000    1    1    1\n",
       "2000    1    1    2\n",
       "3000    1    1    3\n",
       "4000    1    2    4\n",
       "5000    1    2    5\n",
       "6000    2    2    6\n",
       "7000    2    2    5\n",
       "8000    2    3    7"
      ]
     },
     "execution_count": 55,
     "metadata": {},
     "output_type": "execute_result"
    }
   ],
   "source": [
    "# make id column the index\n",
    "df_test = df_test.set_index('id')\n",
    "df_test"
   ]
  },
  {
   "cell_type": "code",
   "execution_count": 56,
   "metadata": {},
   "outputs": [],
   "source": [
    "# create a function that takes in two lists of id numbers and returns the jaccard sim of the two lists\n",
    "def calculate_difference(list1, list2):\n",
    "    set1 = set(list1)\n",
    "    set2 = set(list2)\n",
    "\n",
    "    unique_1 = set1-set2\n",
    "    unique_2 = set2-set1\n",
    "\n",
    "    # Union of set1 and set 2\n",
    "    union_1_2 = set1 | set2\n",
    "    common = set1.intersection(set2)\n",
    "    jaccard_sim = len(common) / len(union_1_2)\n",
    "\n",
    "    return unique_1, unique_2, common, jaccard_sim\n",
    "\n",
    "# function that takes in a partition dataframe, the modules at the base resolution, and the chi value at which to compare\n",
    "def get_body_ids(df, coarse_modules, chi):\n",
    "    \"\"\" This function takes in a partition dataframe, the modules at the base resolution, and the chi value at which to compare. \n",
    "    It returns a dictionary of body IDs for each cluster number at the resolution and a dictionary of body IDs for each cluster \n",
    "    number at the base resolution.\"\"\"\n",
    "    # Need bodyIds at zero resolution for each cluster number\n",
    "    dict_zero = {1: [], 2: [],}\n",
    "    for key, value in dict_zero.items():\n",
    "        dict_zero[key] = df[df['0.0']==key].index.tolist()\n",
    "\n",
    "    # Gets cluster numbers for resolution\n",
    "    chi_values = [chi]\n",
    "    cluster_all = np.zeros((len(coarse_modules),len(chi_values), 800))\n",
    "    for i, x in enumerate(coarse_modules):\n",
    "        df_test = df[df['0.0']==x]\n",
    "        for f, y in enumerate(chi_values):\n",
    "            cluster = df_test[y].unique()\n",
    "            cluster_all[i,f, :len(cluster)] = cluster\n",
    "\n",
    "    # move everything to a dictionary\n",
    "    dict = {}\n",
    "    for i, x in enumerate(coarse_modules):\n",
    "        dict[coarse_modules[i]] = cluster_all[i,0]\n",
    "    \n",
    "    # Remove the zeros from the array\n",
    "    for key, value in dict.items():\n",
    "        dict[key] = value[value != 0]\n",
    "        dict[key] = np.array(value, dtype='int64')\n",
    "    \n",
    "    # Get bodyIDs for each cluster number in the resolution\n",
    "    dict_new = {1: [], 2: []}\n",
    "    for key, value in dict.items():\n",
    "        body_ids = []\n",
    "        for i, x in enumerate(value):\n",
    "            body_ids.extend(df[df[chi]==x].index.tolist())\n",
    "        dict_new[key] = body_ids\n",
    "\n",
    "    return dict_new, dict_zero\n",
    "    \n",
    "# Function that takes in partition dataframe, the modules at the base resolution, and the chi value at which to compare\n",
    "def main_jaccard(df, coarse_modules, chi):\n",
    "    \"\"\" This function takes in a partition dataframe, the modules at the base resolution, and the chi \n",
    "    value at which to compare. It returns a dataframe of the jaccard similarities between the resolutions at each cluster\"\"\"\n",
    "\n",
    "    # Get the body IDs for each cluster number at the resolution and the base resolution\n",
    "    dict_new, dict_zero = get_body_ids(df, coarse_modules, chi)\n",
    "\n",
    "    # Create a dictionary to store the jaccard similarities\n",
    "    jaccard_dict = {}\n",
    "    for key, value in dict_new.items():\n",
    "        jaccard_dict[key] = []\n",
    "        unique_1, unique_2, common, jaccard_sim = calculate_difference(dict_new[key], dict_zero[key])\n",
    "        jaccard_dict[key].append(jaccard_sim)\n",
    "    \n",
    "    # Create a dataframe to store the jaccard similarities\n",
    "    df_jaccard = pd.DataFrame(jaccard_dict)\n",
    "    df_jaccard.index = np.arange(1, len(df_jaccard)+1)\n",
    "    \n",
    "    return df_jaccard, dict_new, dict_zero"
   ]
  },
  {
   "cell_type": "code",
   "execution_count": 57,
   "metadata": {},
   "outputs": [],
   "source": [
    "coarse_modules = [1, 2]\n",
    "jaccard_values, dict_new, dict_zero = main_jaccard(df_test, coarse_modules, '0.5')"
   ]
  },
  {
   "cell_type": "code",
   "execution_count": 58,
   "metadata": {},
   "outputs": [],
   "source": [
    "jaccard_values1, dict_new1, dict_zero1 = main_jaccard(df_test, coarse_modules, '1.0')"
   ]
  },
  {
   "cell_type": "code",
   "execution_count": 59,
   "metadata": {},
   "outputs": [
    {
     "data": {
      "text/html": [
       "<div>\n",
       "<style scoped>\n",
       "    .dataframe tbody tr th:only-of-type {\n",
       "        vertical-align: middle;\n",
       "    }\n",
       "\n",
       "    .dataframe tbody tr th {\n",
       "        vertical-align: top;\n",
       "    }\n",
       "\n",
       "    .dataframe thead th {\n",
       "        text-align: right;\n",
       "    }\n",
       "</style>\n",
       "<table border=\"1\" class=\"dataframe\">\n",
       "  <thead>\n",
       "    <tr style=\"text-align: right;\">\n",
       "      <th></th>\n",
       "      <th>0.5</th>\n",
       "      <th>1.0</th>\n",
       "    </tr>\n",
       "  </thead>\n",
       "  <tbody>\n",
       "    <tr>\n",
       "      <th>1</th>\n",
       "      <td>0.714286</td>\n",
       "      <td>0.833333</td>\n",
       "    </tr>\n",
       "    <tr>\n",
       "      <th>2</th>\n",
       "      <td>0.600000</td>\n",
       "      <td>0.750000</td>\n",
       "    </tr>\n",
       "  </tbody>\n",
       "</table>\n",
       "</div>"
      ],
      "text/plain": [
       "        0.5       1.0\n",
       "1  0.714286  0.833333\n",
       "2  0.600000  0.750000"
      ]
     },
     "execution_count": 59,
     "metadata": {},
     "output_type": "execute_result"
    }
   ],
   "source": [
    "jaccard_values = jaccard_values._append(jaccard_values1)\n",
    "jaccard_values = jaccard_values.T\n",
    "jaccard_values.columns = ['0.5','1.0']\n",
    "jaccard_values"
   ]
  },
  {
   "cell_type": "code",
   "execution_count": 60,
   "metadata": {},
   "outputs": [
    {
     "data": {
      "text/plain": [
       "Text(0.5, 1.0, 'Jaccard Similarity between 0.0 and 0.1, 0.25')"
      ]
     },
     "execution_count": 60,
     "metadata": {},
     "output_type": "execute_result"
    },
    {
     "data": {
      "image/png": "[encoded data removed]",
      "text/plain": [
       "<Figure size 640x480 with 1 Axes>"
      ]
     },
     "metadata": {},
     "output_type": "display_data"
    }
   ],
   "source": [
    "fig, ax  = plt.subplots()\n",
    "jaccard_values.plot(kind='bar', ax=ax)\n",
    "\n",
    "# annotate with value of each bar from jaccard_values dataframe\n",
    "for i, v in enumerate(jaccard_values['0.5']):\n",
    "    ax.text(i-0.2, v+.02, round(v, 2), color='black', ha='center', rotation=90)\n",
    "for i, v in enumerate(jaccard_values['1.0']):\n",
    "    ax.text(i+0.05, v+.02, round(v, 2), color='black', ha='center', rotation=90)\n",
    "ax.set_ylim(0, 1)\n",
    "ax.set_xticklabels(['1', '2'], rotation=0)\n",
    "ax.set_xlabel('Cluster Number')\n",
    "ax.set_ylabel('Jaccard Similarity')\n",
    "ax.set_title('Jaccard Similarity between 0.0 and 0.1, 0.25')"
   ]
  },
  {
   "cell_type": "code",
   "execution_count": 61,
   "metadata": {},
   "outputs": [
    {
     "data": {
      "text/plain": [
       "({1: [1000, 2000, 3000, 4000, 5000], 2: [6000, 7000, 8000]},\n",
       " {1: [1000, 2000, 3000, 4000, 5000, 6000, 7000],\n",
       "  2: [4000, 5000, 6000, 7000, 8000]})"
      ]
     },
     "execution_count": 61,
     "metadata": {},
     "output_type": "execute_result"
    }
   ],
   "source": [
    "dict_zero, dict_new"
   ]
  },
  {
   "cell_type": "code",
   "execution_count": 62,
   "metadata": {},
   "outputs": [
    {
     "data": {
      "text/plain": [
       "({1: [1000, 2000, 3000, 4000, 5000], 2: [6000, 7000, 8000]},\n",
       " {1: [1000, 2000, 3000, 4000, 5000, 7000], 2: [6000, 5000, 7000, 8000]})"
      ]
     },
     "execution_count": 62,
     "metadata": {},
     "output_type": "execute_result"
    }
   ],
   "source": [
    "dict_zero1, dict_new1"
   ]
  },
  {
   "cell_type": "code",
   "execution_count": 63,
   "metadata": {},
   "outputs": [
    {
     "name": "stdout",
     "output_type": "stream",
     "text": [
      "Cluster Number: 1\n",
      "Resolution: [1000, 2000, 3000, 4000, 5000, 6000, 7000]\n",
      "Base Resolution: [1000, 2000, 3000, 4000, 5000]\n",
      "Jaccard Similarity: 0.7142857142857143\n",
      "\n",
      "\n",
      "Cluster Number: 2\n",
      "Resolution: [4000, 5000, 6000, 7000, 8000]\n",
      "Base Resolution: [6000, 7000, 8000]\n",
      "Jaccard Similarity: 0.6\n",
      "\n",
      "\n"
     ]
    }
   ],
   "source": [
    "# check if an id has 1 in 0.0 \n",
    "list_to_check"
   ]
  },
  {
   "cell_type": "code",
   "execution_count": null,
   "metadata": {},
   "outputs": [],
   "source": []
  }
 ],
 "metadata": {
  "kernelspec": {
   "display_name": "flybrainlab",
   "language": "python",
   "name": "python3"
  },
  "language_info": {
   "codemirror_mode": {
    "name": "ipython",
    "version": 3
   },
   "file_extension": ".py",
   "mimetype": "text/x-python",
   "name": "python",
   "nbconvert_exporter": "python",
   "pygments_lexer": "ipython3",
   "version": "3.11.7"
  }
 },
 "nbformat": 4,
 "nbformat_minor": 2
}
