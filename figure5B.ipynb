{
 "cells": [
  {
   "cell_type": "markdown",
   "metadata": {},
   "source": [
    "# Figure 5B Joint Marginal Analysis that compares the Whole brain modularity data created by Kunin et al. to our oviIN modularity data. \n",
    "This figure was created by using a basic joint marginal function written by Kunin et al. The steps for this were:\n",
    "1. Pull in modularity data for the inputs and the whole brain\n",
    "2. Define the base modularity (0.0) and the suffixes for each modularity group\n",
    "3. Use the modularity merge function to compare where each neuron id ends up in each modularity data\n",
    "4. Each neuron is tagged with the correct suffix and the plots are created based on module breakdown \n",
    "\n",
    "The file was written by Rhessa Weber Langstaff \n"
   ]
  },
  {
   "cell_type": "code",
   "execution_count": 9,
   "metadata": {},
   "outputs": [
    {
     "data": {
      "text/html": [
       "    <style>\n",
       "        .bk-notebook-logo {\n",
       "            display: block;\n",
       "            width: 20px;\n",
       "            height: 20px;\n",
       "            background-image: url(data:image/png;base64,iVBORw0KGgoAAAANSUhEUgAAABQAAAAUCAYAAACNiR0NAAAABHNCSVQICAgIfAhkiAAAAAlwSFlzAAALEgAACxIB0t1+/AAAABx0RVh0U29mdHdhcmUAQWRvYmUgRmlyZXdvcmtzIENTNui8sowAAAOkSURBVDiNjZRtaJVlGMd/1/08zzln5zjP1LWcU9N0NkN8m2CYjpgQYQXqSs0I84OLIC0hkEKoPtiH3gmKoiJDU7QpLgoLjLIQCpEsNJ1vqUOdO7ppbuec5+V+rj4ctwzd8IIbbi6u+8f1539dt3A78eXC7QizUF7gyV1fD1Yqg4JWz84yffhm0qkFqBogB9rM8tZdtwVsPUhWhGcFJngGeWrPzHm5oaMmkfEg1usvLFyc8jLRqDOMru7AyC8saQr7GG7f5fvDeH7Ej8CM66nIF+8yngt6HWaKh7k49Soy9nXurCi1o3qUbS3zWfrYeQDTB/Qj6kX6Ybhw4B+bOYoLKCC9H3Nu/leUTZ1JdRWkkn2ldcCamzrcf47KKXdAJllSlxAOkRgyHsGC/zRday5Qld9DyoM4/q/rUoy/CXh3jzOu3bHUVZeU+DEn8FInkPBFlu3+nW3Nw0mk6vCDiWg8CeJaxEwuHS3+z5RgY+YBR6V1Z1nxSOfoaPa4LASWxxdNp+VWTk7+4vzaou8v8PN+xo+KY2xsw6une2frhw05CTYOmQvsEhjhWjn0bmXPjpE1+kplmmkP3suftwTubK9Vq22qKmrBhpY4jvd5afdRA3wGjFAgcnTK2s4hY0/GPNIb0nErGMCRxWOOX64Z8RAC4oCXdklmEvcL8o0BfkNK4lUg9HTl+oPlQxdNo3Mg4Nv175e/1LDGzZen30MEjRUtmXSfiTVu1kK8W4txyV6BMKlbgk3lMwYCiusNy9fVfvvwMxv8Ynl6vxoByANLTWplvuj/nF9m2+PDtt1eiHPBr1oIfhCChQMBw6Aw0UulqTKZdfVvfG7VcfIqLG9bcldL/+pdWTLxLUy8Qq38heUIjh4XlzZxzQm19lLFlr8vdQ97rjZVOLf8nclzckbcD4wxXMidpX30sFd37Fv/GtwwhzhxGVAprjbg0gCAEeIgwCZyTV2Z1REEW8O4py0wsjeloKoMr6iCY6dP92H6Vw/oTyICIthibxjm/DfN9lVz8IqtqKYLUXfoKVMVQVVJOElGjrnnUt9T9wbgp8AyYKaGlqingHZU/uG2NTZSVqwHQTWkx9hxjkpWDaCg6Ckj5qebgBVbT3V3NNXMSiWSDdGV3hrtzla7J+duwPOToIg42ChPQOQjspnSlp1V+Gjdged7+8UN5CRAV7a5EdFNwCjEaBR27b3W890TE7g24NAP/mMDXRWrGoFPQI9ls/MWO2dWFAar/xcOIImbbpA3zgAAAABJRU5ErkJggg==);\n",
       "        }\n",
       "    </style>\n",
       "    <div>\n",
       "        <a href=\"https://bokeh.org\" target=\"_blank\" class=\"bk-notebook-logo\"></a>\n",
       "        <span id=\"eb8ce79f-75c5-432f-b8e4-a8134a5aa560\">Loading BokehJS ...</span>\n",
       "    </div>\n"
      ]
     },
     "metadata": {},
     "output_type": "display_data"
    },
    {
     "data": {
      "application/javascript": "'use strict';\n(function(root) {\n  function now() {\n    return new Date();\n  }\n\n  const force = true;\n\n  if (typeof root._bokeh_onload_callbacks === \"undefined\" || force === true) {\n    root._bokeh_onload_callbacks = [];\n    root._bokeh_is_loading = undefined;\n  }\n\nconst JS_MIME_TYPE = 'application/javascript';\n  const HTML_MIME_TYPE = 'text/html';\n  const EXEC_MIME_TYPE = 'application/vnd.bokehjs_exec.v0+json';\n  const CLASS_NAME = 'output_bokeh rendered_html';\n\n  /**\n   * Render data to the DOM node\n   */\n  function render(props, node) {\n    const script = document.createElement(\"script\");\n    node.appendChild(script);\n  }\n\n  /**\n   * Handle when an output is cleared or removed\n   */\n  function handleClearOutput(event, handle) {\n    function drop(id) {\n      const view = Bokeh.index.get_by_id(id)\n      if (view != null) {\n        view.model.document.clear()\n        Bokeh.index.delete(view)\n      }\n    }\n\n    const cell = handle.cell;\n\n    const id = cell.output_area._bokeh_element_id;\n    const server_id = cell.output_area._bokeh_server_id;\n\n    // Clean up Bokeh references\n    if (id != null) {\n      drop(id)\n    }\n\n    if (server_id !== undefined) {\n      // Clean up Bokeh references\n      const cmd_clean = \"from bokeh.io.state import curstate; print(curstate().uuid_to_server['\" + server_id + \"'].get_sessions()[0].document.roots[0]._id)\";\n      cell.notebook.kernel.execute(cmd_clean, {\n        iopub: {\n          output: function(msg) {\n            const id = msg.content.text.trim()\n            drop(id)\n          }\n        }\n      });\n      // Destroy server and session\n      const cmd_destroy = \"import bokeh.io.notebook as ion; ion.destroy_server('\" + server_id + \"')\";\n      cell.notebook.kernel.execute(cmd_destroy);\n    }\n  }\n\n  /**\n   * Handle when a new output is added\n   */\n  function handleAddOutput(event, handle) {\n    const output_area = handle.output_area;\n    const output = handle.output;\n\n    // limit handleAddOutput to display_data with EXEC_MIME_TYPE content only\n    if ((output.output_type != \"display_data\") || (!Object.prototype.hasOwnProperty.call(output.data, EXEC_MIME_TYPE))) {\n      return\n    }\n\n    const toinsert = output_area.element.find(\".\" + CLASS_NAME.split(' ')[0]);\n\n    if (output.metadata[EXEC_MIME_TYPE][\"id\"] !== undefined) {\n      toinsert[toinsert.length - 1].firstChild.textContent = output.data[JS_MIME_TYPE];\n      // store reference to embed id on output_area\n      output_area._bokeh_element_id = output.metadata[EXEC_MIME_TYPE][\"id\"];\n    }\n    if (output.metadata[EXEC_MIME_TYPE][\"server_id\"] !== undefined) {\n      const bk_div = document.createElement(\"div\");\n      bk_div.innerHTML = output.data[HTML_MIME_TYPE];\n      const script_attrs = bk_div.children[0].attributes;\n      for (let i = 0; i < script_attrs.length; i++) {\n        toinsert[toinsert.length - 1].firstChild.setAttribute(script_attrs[i].name, script_attrs[i].value);\n        toinsert[toinsert.length - 1].firstChild.textContent = bk_div.children[0].textContent\n      }\n      // store reference to server id on output_area\n      output_area._bokeh_server_id = output.metadata[EXEC_MIME_TYPE][\"server_id\"];\n    }\n  }\n\n  function register_renderer(events, OutputArea) {\n\n    function append_mime(data, metadata, element) {\n      // create a DOM node to render to\n      const toinsert = this.create_output_subarea(\n        metadata,\n        CLASS_NAME,\n        EXEC_MIME_TYPE\n      );\n      this.keyboard_manager.register_events(toinsert);\n      // Render to node\n      const props = {data: data, metadata: metadata[EXEC_MIME_TYPE]};\n      render(props, toinsert[toinsert.length - 1]);\n      element.append(toinsert);\n      return toinsert\n    }\n\n    /* Handle when an output is cleared or removed */\n    events.on('clear_output.CodeCell', handleClearOutput);\n    events.on('delete.Cell', handleClearOutput);\n\n    /* Handle when a new output is added */\n    events.on('output_added.OutputArea', handleAddOutput);\n\n    /**\n     * Register the mime type and append_mime function with output_area\n     */\n    OutputArea.prototype.register_mime_type(EXEC_MIME_TYPE, append_mime, {\n      /* Is output safe? */\n      safe: true,\n      /* Index of renderer in `output_area.display_order` */\n      index: 0\n    });\n  }\n\n  // register the mime type if in Jupyter Notebook environment and previously unregistered\n  if (root.Jupyter !== undefined) {\n    const events = require('base/js/events');\n    const OutputArea = require('notebook/js/outputarea').OutputArea;\n\n    if (OutputArea.prototype.mime_types().indexOf(EXEC_MIME_TYPE) == -1) {\n      register_renderer(events, OutputArea);\n    }\n  }\n  if (typeof (root._bokeh_timeout) === \"undefined\" || force === true) {\n    root._bokeh_timeout = Date.now() + 5000;\n    root._bokeh_failed_load = false;\n  }\n\n  const NB_LOAD_WARNING = {'data': {'text/html':\n     \"<div style='background-color: #fdd'>\\n\"+\n     \"<p>\\n\"+\n     \"BokehJS does not appear to have successfully loaded. If loading BokehJS from CDN, this \\n\"+\n     \"may be due to a slow or bad network connection. Possible fixes:\\n\"+\n     \"</p>\\n\"+\n     \"<ul>\\n\"+\n     \"<li>re-rerun `output_notebook()` to attempt to load from CDN again, or</li>\\n\"+\n     \"<li>use INLINE resources instead, as so:</li>\\n\"+\n     \"</ul>\\n\"+\n     \"<code>\\n\"+\n     \"from bokeh.resources import INLINE\\n\"+\n     \"output_notebook(resources=INLINE)\\n\"+\n     \"</code>\\n\"+\n     \"</div>\"}};\n\n  function display_loaded(error = null) {\n    const el = document.getElementById(\"eb8ce79f-75c5-432f-b8e4-a8134a5aa560\");\n    if (el != null) {\n      const html = (() => {\n        if (typeof root.Bokeh === \"undefined\") {\n          if (error == null) {\n            return \"BokehJS is loading ...\";\n          } else {\n            return \"BokehJS failed to load.\";\n          }\n        } else {\n          const prefix = `BokehJS ${root.Bokeh.version}`;\n          if (error == null) {\n            return `${prefix} successfully loaded.`;\n          } else {\n            return `${prefix} <b>encountered errors</b> while loading and may not function as expected.`;\n          }\n        }\n      })();\n      el.innerHTML = html;\n\n      if (error != null) {\n        const wrapper = document.createElement(\"div\");\n        wrapper.style.overflow = \"auto\";\n        wrapper.style.height = \"5em\";\n        wrapper.style.resize = \"vertical\";\n        const content = document.createElement(\"div\");\n        content.style.fontFamily = \"monospace\";\n        content.style.whiteSpace = \"pre-wrap\";\n        content.style.backgroundColor = \"rgb(255, 221, 221)\";\n        content.textContent = error.stack ?? error.toString();\n        wrapper.append(content);\n        el.append(wrapper);\n      }\n    } else if (Date.now() < root._bokeh_timeout) {\n      setTimeout(() => display_loaded(error), 100);\n    }\n  }\n\n  function run_callbacks() {\n    try {\n      root._bokeh_onload_callbacks.forEach(function(callback) {\n        if (callback != null)\n          callback();\n      });\n    } finally {\n      delete root._bokeh_onload_callbacks\n    }\n    console.debug(\"Bokeh: all callbacks have finished\");\n  }\n\n  function load_libs(css_urls, js_urls, callback) {\n    if (css_urls == null) css_urls = [];\n    if (js_urls == null) js_urls = [];\n\n    root._bokeh_onload_callbacks.push(callback);\n    if (root._bokeh_is_loading > 0) {\n      console.debug(\"Bokeh: BokehJS is being loaded, scheduling callback at\", now());\n      return null;\n    }\n    if (js_urls == null || js_urls.length === 0) {\n      run_callbacks();\n      return null;\n    }\n    console.debug(\"Bokeh: BokehJS not loaded, scheduling load and callback at\", now());\n    root._bokeh_is_loading = css_urls.length + js_urls.length;\n\n    function on_load() {\n      root._bokeh_is_loading--;\n      if (root._bokeh_is_loading === 0) {\n        console.debug(\"Bokeh: all BokehJS libraries/stylesheets loaded\");\n        run_callbacks()\n      }\n    }\n\n    function on_error(url) {\n      console.error(\"failed to load \" + url);\n    }\n\n    for (let i = 0; i < css_urls.length; i++) {\n      const url = css_urls[i];\n      const element = document.createElement(\"link\");\n      element.onload = on_load;\n      element.onerror = on_error.bind(null, url);\n      element.rel = \"stylesheet\";\n      element.type = \"text/css\";\n      element.href = url;\n      console.debug(\"Bokeh: injecting link tag for BokehJS stylesheet: \", url);\n      document.body.appendChild(element);\n    }\n\n    for (let i = 0; i < js_urls.length; i++) {\n      const url = js_urls[i];\n      const element = document.createElement('script');\n      element.onload = on_load;\n      element.onerror = on_error.bind(null, url);\n      element.async = false;\n      element.src = url;\n      console.debug(\"Bokeh: injecting script tag for BokehJS library: \", url);\n      document.head.appendChild(element);\n    }\n  };\n\n  function inject_raw_css(css) {\n    const element = document.createElement(\"style\");\n    element.appendChild(document.createTextNode(css));\n    document.body.appendChild(element);\n  }\n\n  const js_urls = [\"https://cdn.bokeh.org/bokeh/release/bokeh-3.4.1.min.js\", \"https://cdn.bokeh.org/bokeh/release/bokeh-gl-3.4.1.min.js\", \"https://cdn.bokeh.org/bokeh/release/bokeh-widgets-3.4.1.min.js\", \"https://cdn.bokeh.org/bokeh/release/bokeh-tables-3.4.1.min.js\", \"https://cdn.bokeh.org/bokeh/release/bokeh-mathjax-3.4.1.min.js\"];\n  const css_urls = [];\n\n  const inline_js = [    function(Bokeh) {\n      Bokeh.set_log_level(\"info\");\n    },\nfunction(Bokeh) {\n    }\n  ];\n\n  function run_inline_js() {\n    if (root.Bokeh !== undefined || force === true) {\n      try {\n            for (let i = 0; i < inline_js.length; i++) {\n      inline_js[i].call(root, root.Bokeh);\n    }\n\n      } catch (error) {display_loaded(error);throw error;\n      }if (force === true) {\n        display_loaded();\n      }} else if (Date.now() < root._bokeh_timeout) {\n      setTimeout(run_inline_js, 100);\n    } else if (!root._bokeh_failed_load) {\n      console.log(\"Bokeh: BokehJS failed to load within specified timeout.\");\n      root._bokeh_failed_load = true;\n    } else if (force !== true) {\n      const cell = $(document.getElementById(\"eb8ce79f-75c5-432f-b8e4-a8134a5aa560\")).parents('.cell').data().cell;\n      cell.output_area.append_execute_result(NB_LOAD_WARNING)\n    }\n  }\n\n  if (root._bokeh_is_loading === 0) {\n    console.debug(\"Bokeh: BokehJS loaded, going straight to plotting\");\n    run_inline_js();\n  } else {\n    load_libs(css_urls, js_urls, function() {\n      console.debug(\"Bokeh: BokehJS plotting callback run at\", now());\n      run_inline_js();\n    });\n  }\n}(window));",
      "application/vnd.bokehjs_load.v0+json": ""
     },
     "metadata": {},
     "output_type": "display_data"
    }
   ],
   "source": [
    "import os\n",
    "import time\n",
    "import pandas as pd\n",
    "import numpy as np\n",
    "import networkx as nx\n",
    "import collections\n",
    "from scipy import sparse as sp\n",
    "from scipy.stats import rankdata\n",
    "\n",
    "import itertools\n",
    "from itertools import combinations, combinations_with_replacement, cycle\n",
    "from functools import reduce\n",
    "\n",
    "import seaborn as sns\n",
    "import matplotlib.pyplot as plt\n",
    "from matplotlib.colors import ListedColormap\n",
    "from util import *\n",
    "\n",
    "import colorcet as cc\n",
    "\n",
    "import bokeh\n",
    "from bokeh.io import output_notebook, output_file, show, save\n",
    "from bokeh.plotting import figure\n",
    "from bokeh.models import (Rect, MultiLine, Circle, Span, Label,\n",
    "                          GraphRenderer, StaticLayoutProvider,\n",
    "                          NodesAndLinkedEdges,\n",
    "                          HoverTool, TapTool, ColumnDataSource,\n",
    "                          LinearColorMapper, LogColorMapper, CategoricalColorMapper,\n",
    "                          CategoricalMarkerMapper,\n",
    "                          BoxSelectTool,\n",
    "                          ColorBar, BasicTicker, BoxZoomTool, FactorRange,\n",
    "                          Range1d)\n",
    "from bokeh.models import CategoricalTicker, FixedTicker, BoxAnnotation\n",
    "from bokeh.models import Arrow, NormalHead, OpenHead, VeeHead, LabelSet\n",
    "\n",
    "from bokeh.transform import transform, factor_cmap, linear_cmap, log_cmap\n",
    "from bokeh.layouts import row, column, gridplot\n",
    "output_notebook()"
   ]
  },
  {
   "cell_type": "code",
   "execution_count": 3,
   "metadata": {},
   "outputs": [],
   "source": [
    "def joint_marginal(df, c1, c2, include_fraction=False):\n",
    "    \"\"\"Given a dataframe and two columns, return a dataframe with the joint and marginal counts.\"\"\"\n",
    "    j = df.value_counts([c1, c2])\n",
    "    j.name = \"joint_count\"\n",
    "    j = j.reset_index()\n",
    "\n",
    "    m1 = df.value_counts(c1)\n",
    "    m1.name = f\"{c1}_count\"\n",
    "    j = j.merge(m1, left_on=c1, right_index=True)\n",
    "\n",
    "    m2 = df.value_counts(c2)\n",
    "    m2.name = f\"{c2}_count\"\n",
    "    j = j.merge(m2, left_on=c2, right_index=True)\n",
    "\n",
    "    if include_fraction:\n",
    "        j[\"joint_fraction\"] = j[\"joint_count\"] / j[\"joint_count\"].sum()\n",
    "        j[f\"{c1}_fraction\"] = j[\"joint_count\"] / j[f\"{c1}_count\"]\n",
    "        j[f\"{c2}_fraction\"] = j[\"joint_count\"] / j[f\"{c2}_count\"]\n",
    "    return j"
   ]
  },
  {
   "cell_type": "code",
   "execution_count": 4,
   "metadata": {},
   "outputs": [
    {
     "name": "stdout",
     "output_type": "stream",
     "text": [
      "2024 08 20 17:16:09  Hemibrain data set being used: v1.2.1\n"
     ]
    }
   ],
   "source": [
    "hemibrain_version = \"v1.2.1\"\n",
    "log_msg(\"Hemibrain data set being used:\", hemibrain_version)"
   ]
  },
  {
   "cell_type": "code",
   "execution_count": 6,
   "metadata": {},
   "outputs": [
    {
     "name": "stdout",
     "output_type": "stream",
     "text": [
      "2024 08 20 17:19:48  Set up directory info and useful lists\n",
      "2024 08 20 17:19:48  Hemibrain data set being used: v1.2.1\n",
      "2024 08 20 17:19:48  Set up directory info and useful lists\n",
      "2024 08 20 17:19:48  neuprint Client set up as `np_Client`, version 0.1.0\n",
      "2024 08 20 17:19:48  Loading node dataframe\n",
      "2024 08 20 17:19:48    (without centroids)\n",
      "2024 08 20 17:19:48  Adding 'type group'\n",
      "2024 08 20 17:19:48  Done!\n",
      "2024 08 20 17:19:48  Loading directed edges from csv\n",
      "2024 08 20 17:19:49  Done!\n",
      "2024 08 20 17:19:49  Merging in cell info to edge df\n",
      "2024 08 20 17:19:49  Done!\n"
     ]
    }
   ],
   "source": [
    "log_msg(\"Set up directory info and useful lists\")\n",
    "from neuprint import Client\n",
    "from neuprint import fetch_roi_hierarchy, fetch_neurons, NeuronCriteria as NC\n",
    "\n",
    "# Inputs\n",
    "hemibrain_version = \"v1.2.1\"\n",
    "log_msg(\"Hemibrain data set being used:\", hemibrain_version)\n",
    "\n",
    "preproc_dir = \"oviIN/preprocessed_inputs-\" + hemibrain_version\n",
    "preproc_nodes = \"preprocessed_nodes.csv\"\n",
    "preproc_centroids = \"x\"\n",
    "preproc_edges = \"preprocessed_undirected_edges.csv\"\n",
    "\n",
    "#hemibrain_dir = \"oviIN/clustering_inputs_\" + hemibrain_version\n",
    "hemibrain_nodes = \"only_inputs_key.txt\"\n",
    "hemibrain_edges = \"inputr.txt\"\n",
    "\n",
    "figure_dir = os.path.join(\"figures\",\"paper\")\n",
    "movie_dir = os.path.join(\"movies\")\n",
    "analysis_dir = os.path.join(\"analysis\",hemibrain_version)\n",
    "obj_dir = os.path.join(\"obj\",hemibrain_version)  # 3d objects from, e.g. fetch_roi_mesh\n",
    "skel_dir = os.path.join(\"skeleton\", hemibrain_version)  # skeleta of neurons in .csv format\n",
    "\n",
    "\n",
    "for d in [figure_dir, analysis_dir, obj_dir, movie_dir]:\n",
    "    if not os.path.isdir(d):\n",
    "        log_msg(\"Creating directory\", d)\n",
    "        os.makedirs(d)\n",
    "\n",
    "reneel_params = list(sorted(['0.05','0.1','0.5','0.75'], key=float))\n",
    "type_params = ['celltype','instance']\n",
    "list_of_params = reneel_params + type_params\n",
    "\n",
    "log_msg(\"Set up directory info and useful lists\")\n",
    "\n",
    "auth_token_file = open(\"flybrain.auth.txt\", 'r')\n",
    "auth_token = next(auth_token_file).strip()\n",
    "try:\n",
    "    np_client = Client('neuprint.janelia.org', dataset='hemibrain:' + hemibrain_version, token=auth_token)\n",
    "    log_msg(\"neuprint Client set up as `np_Client`, version\", np_client.fetch_version())\n",
    "except:\n",
    "    np_client = None\n",
    "    log_msg(\"neuprint Client set up failed!\")\n",
    "\n",
    "log_msg(\"Loading node dataframe\")\n",
    "if os.path.isfile(os.path.join(preproc_dir, preproc_centroids)):\n",
    "    log_msg(\"  (with centroids)\")\n",
    "    HB_node_df = pd.read_csv(os.path.join(preproc_dir, preproc_centroids), index_col=0)\n",
    "else:\n",
    "    log_msg(\"  (without centroids)\")\n",
    "    HB_node_df = pd.read_csv(os.path.join(preproc_dir, preproc_nodes), index_col=0)\n",
    "log_msg(\"Adding 'type group'\")\n",
    "HB_node_df[\"type_group\"] = HB_node_df[\"celltype\"]\n",
    "log_msg(\"Done!\")\n",
    "\n",
    "log_msg(\"Loading directed edges from csv\")\n",
    "HB_edge_df = pd.read_csv(hemibrain_edges, delimiter=',', header=None).rename(columns={0: \"pre\", 1:\"post\"})\n",
    "log_msg(\"Done!\")\n",
    "\n",
    "log_msg(\"Merging in cell info to edge df\")\n",
    "HB_edge_df = HB_edge_df.merge(HB_node_df[list_of_params + ['type_group']], left_on='pre', right_index=True)\n",
    "HB_edge_df = HB_edge_df.merge(HB_node_df[list_of_params + ['type_group']], left_on='post', right_index=True, suffixes=['pre', 'post'])\n",
    "log_msg(\"Done!\")"
   ]
  },
  {
   "cell_type": "code",
   "execution_count": 7,
   "metadata": {},
   "outputs": [],
   "source": [
    "# Pulled from Prof G's code on github (https://github.com/Gutierrez-lab/oviIN-analyses-gabrielle/blob/main/modular_sandbox.ipynb)\n",
    "def modularity_merge(df1,df2,suf1,suf2):\n",
    "    \"\"\"Given two modularity dataframes, merge them along shared body IDs. Pass in suffixes for the columns as strings.\"\"\"\n",
    "    merged_mod_df = df1.merge(df2, left_on='id', right_on='id', suffixes=[suf1, suf2])\n",
    "    #merged_mod_df = df1.merge(df2, left_on='id', right_on='id', suffixes=['_oviHB', '_wholeHB'])\n",
    "    return merged_mod_df\n",
    "\n",
    "# Defining path to whole brain data\n",
    "preproc_dir = \"hemibrain/preprocessed-\" + \"v1.2\"\n",
    "preproc_nodes = \"preprocessed_nodes.csv\"\n",
    "\n",
    "# Creating dataframe\n",
    "WB_node_df = pd.read_csv(os.path.join(preproc_dir, preproc_nodes), index_col=0)\n",
    "WB_node_df[\"type_group\"] = HB_node_df[\"celltype\"]\n",
    "\n",
    "# Defining base res and suffixes\n",
    "res = '0.0'\n",
    "df1_suf = '_oviHB'\n",
    "df2_suf = '_wholeHB'\n",
    "\n",
    "# Using merge function from code cell above\n",
    "mod_merge_df = modularity_merge(HB_node_df[[res]],WB_node_df[[res]],df1_suf,df2_suf)\n",
    "mod_merge_df\n",
    "chi1 = res + df1_suf\n",
    "chi2 = res + df2_suf"
   ]
  },
  {
   "cell_type": "code",
   "execution_count": 8,
   "metadata": {},
   "outputs": [
    {
     "data": {
      "text/html": [
       "\n",
       "  <div id=\"c1ed2615-7333-4573-ad51-e3256392899d\" data-root-id=\"p1003\" style=\"display: contents;\"></div>\n"
      ]
     },
     "metadata": {},
     "output_type": "display_data"
    },
    {
     "data": {
      "application/javascript": "(function(root) {\n  function embed_document(root) {\n  const docs_json = {\"341a55f4-19f6-42fe-a80e-5e7b1463a77e\":{\"version\":\"3.4.1\",\"title\":\"Bokeh Application\",\"roots\":[{\"type\":\"object\",\"name\":\"Figure\",\"id\":\"p1003\",\"attributes\":{\"height\":700,\"x_range\":{\"type\":\"object\",\"name\":\"FactorRange\",\"id\":\"p1001\",\"attributes\":{\"factors\":[\"1\",\"2\",\"3\",\"4\",\"5\"]}},\"y_range\":{\"type\":\"object\",\"name\":\"FactorRange\",\"id\":\"p1002\",\"attributes\":{\"factors\":[\"3\",\"1\",\"6\",\"2\",\"5\",\"4\"]}},\"x_scale\":{\"type\":\"object\",\"name\":\"CategoricalScale\",\"id\":\"p1013\"},\"y_scale\":{\"type\":\"object\",\"name\":\"CategoricalScale\",\"id\":\"p1014\"},\"title\":{\"type\":\"object\",\"name\":\"Title\",\"id\":\"p1006\",\"attributes\":{\"text\":\"Module at chi2 = 0.0_wholeHB vs. module at chi1 = 0.0_oviHB\"}},\"renderers\":[{\"type\":\"object\",\"name\":\"GlyphRenderer\",\"id\":\"p1045\",\"attributes\":{\"data_source\":{\"type\":\"object\",\"name\":\"ColumnDataSource\",\"id\":\"p1036\",\"attributes\":{\"selected\":{\"type\":\"object\",\"name\":\"Selection\",\"id\":\"p1037\",\"attributes\":{\"indices\":[],\"line_indices\":[]}},\"selection_policy\":{\"type\":\"object\",\"name\":\"UnionRenderers\",\"id\":\"p1038\"},\"data\":{\"type\":\"map\",\"entries\":[[\"index\",{\"type\":\"ndarray\",\"array\":{\"type\":\"bytes\",\"data\":\"AAAAAAEAAAACAAAAAwAAAAQAAAAFAAAABgAAAAcAAAAIAAAACQAAAAoAAAALAAAADAAAAA0AAAAOAAAADwAAABAAAAARAAAAEgAAABMAAAAUAAAAFQAAABYAAAA=\"},\"shape\":[23],\"dtype\":\"int32\",\"order\":\"little\"}],[\"0.0_oviHB\",{\"type\":\"ndarray\",\"array\":{\"type\":\"bytes\",\"data\":\"AQAAAAMAAAAFAAAAAgAAAAMAAAACAAAAAQAAAAQAAAAFAAAAAgAAAAIAAAADAAAABAAAAAMAAAAFAAAAAQAAAAIAAAAFAAAAAgAAAAMAAAAEAAAAAQAAAAUAAAA=\"},\"shape\":[23],\"dtype\":\"int32\",\"order\":\"little\"}],[\"0.0_wholeHB\",{\"type\":\"ndarray\",\"array\":{\"type\":\"bytes\",\"data\":\"AwAAAAMAAAADAAAAAwAAAAIAAAABAAAAAQAAAAMAAAAEAAAABgAAAAIAAAAFAAAAAQAAAAQAAAAFAAAABgAAAAQAAAAGAAAABQAAAAEAAAAFAAAABAAAAAEAAAA=\"},\"shape\":[23],\"dtype\":\"int32\",\"order\":\"little\"}],[\"joint_count\",{\"type\":\"ndarray\",\"array\":{\"type\":\"bytes\",\"data\":\"XQEAAB8BAAAPAQAA5QAAAMEAAAC0AAAAWQAAAFUAAAAsAAAAKgAAAA0AAAAKAAAABwAAAAYAAAAGAAAABQAAAAQAAAADAAAAAgAAAAIAAAACAAAAAgAAAAEAAAA=\"},\"shape\":[23],\"dtype\":\"int32\",\"order\":\"little\"}],[\"0.0_oviHB_count\",{\"type\":\"ndarray\",\"array\":{\"type\":\"bytes\",\"data\":\"vQEAAPIBAABFAQAA1gEAAPIBAADWAQAAvQEAAF4AAABFAQAA1gEAANYBAADyAQAAXgAAAPIBAABFAQAAvQEAANYBAABFAQAA1gEAAPIBAABeAAAAvQEAAEUBAAA=\"},\"shape\":[23],\"dtype\":\"int32\",\"order\":\"little\"}],[\"0.0_wholeHB_count\",{\"type\":\"ndarray\",\"array\":{\"type\":\"bytes\",\"data\":\"xQQAAMUEAADFBAAAxQQAAM4AAAAXAQAAFwEAAMUEAAA4AAAAMgAAAM4AAAAUAAAAFwEAADgAAAAUAAAAMgAAADgAAAAyAAAAFAAAABcBAAAUAAAAOAAAABcBAAA=\"},\"shape\":[23],\"dtype\":\"int32\",\"order\":\"little\"}],[\"joint_fraction\",{\"type\":\"ndarray\",\"array\":{\"type\":\"bytes\",\"data\":\"dt7FI2BiyD/Kb2wzag3EP0N0uD8778I/AAAAAAAAwD8fFFa3LPi6P2ObUWsgJ7k/gpxkrpTfqD/6oLC6ZcGnP6Cdd/EImJg/GaLD/dl5lz+9i0fAxBB9P5GmDwqrW3Y/y4KvpyJNbz+ulN/YZtRqP66U39hm1Go/kaYPCqtbZj90uD877+JhP66U39hm1Fo/dLg/O+/iUT90uD877+JRP3S4Pzvv4lE/dLg/O+/iUT90uD877+JBPw==\"},\"shape\":[23],\"dtype\":\"float64\",\"order\":\"little\"}],[\"0.0_oviHB_fraction\",{\"type\":\"ndarray\",\"array\":{\"type\":\"bytes\",\"data\":\"kr8vsbwY6T/HroalF3HiP4dEFSHeruo/luKQsdcu3z+Zg4Bbn83YP2JyBTG5gtg/mpmZmZmZyT+0Ud/ZqO/sP96uundIVME/jzcnlGjgtj+k+wufylKcP7j12Yzvj5Q/TK4gJlcQsz+q82sPuayIP61htN+U55I/cIELXOAChz95c0KJBm6BP61htN+U54I/eXNCiQZucT/G90cKJnNwP1cQkyuIyZU/JwHWfLNocj/mLJt/xjRpPw==\"},\"shape\":[23],\"dtype\":\"float64\",\"order\":\"little\"}],[\"0.0_wholeHB_fraction\",{\"type\":\"ndarray\",\"array\":{\"type\":\"bytes\",\"data\":\"gmo0Tg9L0j/Ysq9yORbOP7yA0gTVaMw/Mt1tZK0ByD/WxtB0B/vtP6WUUkoppeQ/wKlR8W9q1D9rNE4PS9KxP0mSJEmSJOk/4XoUrkfh6j9SyXlZxCewPwAAAAAAAOA/XMRm8BaxmT/btm3btm27PzMzMzMzM9M/mpmZmZmZuT+SJEmSJEmyP7gehetRuK4/mpmZmZmZuT+ycnWArFx9P5qZmZmZmbk/kiRJkiRJoj+ycnWArFxtPw==\"},\"shape\":[23],\"dtype\":\"float64\",\"order\":\"little\"}],[\"color\",{\"type\":\"ndarray\",\"array\":[\"#4477AA\",\"#228833\",\"#66CCEE\",\"#EE6677\",\"#228833\",\"#EE6677\",\"#4477AA\",\"#CCBB44\",\"#66CCEE\",\"#EE6677\",\"#EE6677\",\"#228833\",\"#CCBB44\",\"#228833\",\"#66CCEE\",\"#4477AA\",\"#EE6677\",\"#66CCEE\",\"#EE6677\",\"#228833\",\"#CCBB44\",\"#4477AA\",\"#66CCEE\"],\"shape\":[23],\"dtype\":\"object\",\"order\":\"little\"}],[\"x\",{\"type\":\"ndarray\",\"array\":[\"1\",\"3\",\"5\",\"2\",\"3\",\"2\",\"1\",\"4\",\"5\",\"2\",\"2\",\"3\",\"4\",\"3\",\"5\",\"1\",\"2\",\"5\",\"2\",\"3\",\"4\",\"1\",\"5\"],\"shape\":[23],\"dtype\":\"object\",\"order\":\"little\"}],[\"y\",{\"type\":\"ndarray\",\"array\":[\"3\",\"3\",\"3\",\"3\",\"2\",\"1\",\"1\",\"3\",\"4\",\"6\",\"2\",\"5\",\"1\",\"4\",\"5\",\"6\",\"4\",\"6\",\"5\",\"1\",\"5\",\"4\",\"1\"],\"shape\":[23],\"dtype\":\"object\",\"order\":\"little\"}]]}}},\"view\":{\"type\":\"object\",\"name\":\"CDSView\",\"id\":\"p1046\",\"attributes\":{\"filter\":{\"type\":\"object\",\"name\":\"AllIndices\",\"id\":\"p1047\"}}},\"glyph\":{\"type\":\"object\",\"name\":\"Rect\",\"id\":\"p1042\",\"attributes\":{\"x\":{\"type\":\"field\",\"field\":\"x\"},\"y\":{\"type\":\"field\",\"field\":\"y\"},\"width\":{\"type\":\"field\",\"field\":\"0.0_oviHB_fraction\"},\"height\":{\"type\":\"field\",\"field\":\"0.0_wholeHB_fraction\"},\"line_color\":{\"type\":\"field\",\"field\":\"color\"},\"fill_color\":{\"type\":\"field\",\"field\":\"color\"}}},\"nonselection_glyph\":{\"type\":\"object\",\"name\":\"Rect\",\"id\":\"p1043\",\"attributes\":{\"x\":{\"type\":\"field\",\"field\":\"x\"},\"y\":{\"type\":\"field\",\"field\":\"y\"},\"width\":{\"type\":\"field\",\"field\":\"0.0_oviHB_fraction\"},\"height\":{\"type\":\"field\",\"field\":\"0.0_wholeHB_fraction\"},\"line_color\":{\"type\":\"field\",\"field\":\"color\"},\"line_alpha\":{\"type\":\"value\",\"value\":0.1},\"fill_color\":{\"type\":\"field\",\"field\":\"color\"},\"fill_alpha\":{\"type\":\"value\",\"value\":0.1},\"hatch_alpha\":{\"type\":\"value\",\"value\":0.1}}},\"muted_glyph\":{\"type\":\"object\",\"name\":\"Rect\",\"id\":\"p1044\",\"attributes\":{\"x\":{\"type\":\"field\",\"field\":\"x\"},\"y\":{\"type\":\"field\",\"field\":\"y\"},\"width\":{\"type\":\"field\",\"field\":\"0.0_oviHB_fraction\"},\"height\":{\"type\":\"field\",\"field\":\"0.0_wholeHB_fraction\"},\"line_color\":{\"type\":\"field\",\"field\":\"color\"},\"line_alpha\":{\"type\":\"value\",\"value\":0.2},\"fill_color\":{\"type\":\"field\",\"field\":\"color\"},\"fill_alpha\":{\"type\":\"value\",\"value\":0.2},\"hatch_alpha\":{\"type\":\"value\",\"value\":0.2}}}}}],\"toolbar\":{\"type\":\"object\",\"name\":\"Toolbar\",\"id\":\"p1012\",\"attributes\":{\"tools\":[{\"type\":\"object\",\"name\":\"PanTool\",\"id\":\"p1025\"},{\"type\":\"object\",\"name\":\"WheelZoomTool\",\"id\":\"p1026\",\"attributes\":{\"renderers\":\"auto\"}},{\"type\":\"object\",\"name\":\"BoxZoomTool\",\"id\":\"p1027\",\"attributes\":{\"overlay\":{\"type\":\"object\",\"name\":\"BoxAnnotation\",\"id\":\"p1028\",\"attributes\":{\"syncable\":false,\"level\":\"overlay\",\"visible\":false,\"left\":{\"type\":\"number\",\"value\":\"nan\"},\"right\":{\"type\":\"number\",\"value\":\"nan\"},\"top\":{\"type\":\"number\",\"value\":\"nan\"},\"bottom\":{\"type\":\"number\",\"value\":\"nan\"},\"left_units\":\"canvas\",\"right_units\":\"canvas\",\"top_units\":\"canvas\",\"bottom_units\":\"canvas\",\"line_color\":\"black\",\"line_alpha\":1.0,\"line_width\":2,\"line_dash\":[4,4],\"fill_color\":\"lightgrey\",\"fill_alpha\":0.5}}}},{\"type\":\"object\",\"name\":\"SaveTool\",\"id\":\"p1033\"},{\"type\":\"object\",\"name\":\"ResetTool\",\"id\":\"p1034\"},{\"type\":\"object\",\"name\":\"HelpTool\",\"id\":\"p1035\"},{\"type\":\"object\",\"name\":\"HoverTool\",\"id\":\"p1048\",\"attributes\":{\"renderers\":\"auto\",\"tooltips\":[[\"Neurons\",\"@joint_count (@joint_fraction{%%} of Hemibrain)\"],[\"Fraction of 0.0_wholeHB\",\"@{0.0_wholeHB_fraction}{2.%%}\"],[\"Fraction of 0.0_oviHB\",\"@{0.0_oviHB_fraction}{2.%%}\"]]}}]}},\"left\":[{\"type\":\"object\",\"name\":\"CategoricalAxis\",\"id\":\"p1020\",\"attributes\":{\"ticker\":{\"type\":\"object\",\"name\":\"CategoricalTicker\",\"id\":\"p1021\"},\"formatter\":{\"type\":\"object\",\"name\":\"CategoricalTickFormatter\",\"id\":\"p1022\"},\"axis_label\":\"Module in 0.0_wholeHB\",\"major_label_policy\":{\"type\":\"object\",\"name\":\"AllLabels\",\"id\":\"p1023\"}}}],\"below\":[{\"type\":\"object\",\"name\":\"CategoricalAxis\",\"id\":\"p1015\",\"attributes\":{\"ticker\":{\"type\":\"object\",\"name\":\"CategoricalTicker\",\"id\":\"p1016\"},\"formatter\":{\"type\":\"object\",\"name\":\"CategoricalTickFormatter\",\"id\":\"p1017\"},\"axis_label\":\"Module in 0.0_oviHB\",\"major_label_policy\":{\"type\":\"object\",\"name\":\"AllLabels\",\"id\":\"p1018\"}}}],\"center\":[{\"type\":\"object\",\"name\":\"Grid\",\"id\":\"p1019\",\"attributes\":{\"axis\":{\"id\":\"p1015\"}}},{\"type\":\"object\",\"name\":\"Grid\",\"id\":\"p1024\",\"attributes\":{\"dimension\":1,\"axis\":{\"id\":\"p1020\"}}}]}}]}};\n  const render_items = [{\"docid\":\"341a55f4-19f6-42fe-a80e-5e7b1463a77e\",\"roots\":{\"p1003\":\"c1ed2615-7333-4573-ad51-e3256392899d\"},\"root_ids\":[\"p1003\"]}];\n  void root.Bokeh.embed.embed_items_notebook(docs_json, render_items);\n  }\n  if (root.Bokeh !== undefined) {\n    embed_document(root);\n  } else {\n    let attempts = 0;\n    const timer = setInterval(function(root) {\n      if (root.Bokeh !== undefined) {\n        clearInterval(timer);\n        embed_document(root);\n      } else {\n        attempts++;\n        if (attempts > 100) {\n          clearInterval(timer);\n          console.log(\"Bokeh: ERROR: Unable to run BokehJS code because BokehJS library is missing\");\n        }\n      }\n    }, 10, root)\n  }\n})(window);",
      "application/vnd.bokehjs_exec.v0+json": ""
     },
     "metadata": {
      "application/vnd.bokehjs_exec.v0+json": {
       "id": "p1003"
      }
     },
     "output_type": "display_data"
    }
   ],
   "source": [
    "# defining colors for oviHB clusters\n",
    "import bokeh.palettes\n",
    "cmap = bokeh.palettes.tol['Bright'][5]\n",
    "\n",
    "#create dictionary\n",
    "color_dict = dict(zip(mod_merge_df[res + df1_suf].unique(), cmap))\n",
    "color_dict\n",
    "\n",
    "# create joint marginal dataframe\n",
    "jm = joint_marginal(mod_merge_df, chi1, chi2, include_fraction=True)\n",
    "\n",
    "# map colors into the dataframe\n",
    "jm['color']=jm['0.0_oviHB'].map(color_dict)\n",
    "\n",
    "# sort the clusters on the y axis to get a more \"diagonal\" plot\n",
    "yrange = jm.sort_values([f\"{chi2}_fraction\"], ascending=False).groupby(chi2).agg({chi1: \"first\", f\"{chi2}_fraction\": \"first\", \"joint_count\": \"first\"}).sort_values([chi1, \"joint_count\"], ascending=[True, False]).index\n",
    "\n",
    "# make a bokeh figure\n",
    "f = figure(title=f\"Module at chi2 = {chi2} vs. module at chi1 = {chi1}\",\n",
    "x_range=FactorRange(factors=[str(i + 1) for i in range(jm[chi1].max())]),\n",
    "y_range=FactorRange(factors=[str(y) for y in yrange]),\n",
    "width=600, height=700)\n",
    "jm[\"x\"] = jm[chi1].apply(str)  # bokeh factor range has to have strings, so we have to convert these\n",
    "jm[\"y\"] = jm[chi2].apply(str)\n",
    "\n",
    "f.rect(x=\"x\", y=\"y\", width=f\"{chi1}_fraction\", height=f\"{chi2}_fraction\", source=jm, fill_color='color', line_color='color')\n",
    "f.add_tools(HoverTool(tooltips={\"Neurons\": \"@joint_count (@joint_fraction{%%} of Hemibrain)\",\n",
    "                                f\"Fraction of {chi2}\": f\"@{{{chi2}_fraction}}{{2.%%}}\",\n",
    "                                f\"Fraction of {chi1}\": f\"@{{{chi1}_fraction}}{{2.%%}}\"}))\n",
    "f.xaxis.axis_label = 'Module in ' +chi1\n",
    "f.yaxis.axis_label = 'Module in ' +chi2\n",
    "\n",
    "show(f)"
   ]
  },
  {
   "cell_type": "code",
   "execution_count": null,
   "metadata": {},
   "outputs": [],
   "source": [
    "# save f as a svg file\n",
    "from bokeh.io import export_svgs\n",
    "\n",
    "# option 1\n",
    "f.output_backend = \"svg\"\n",
    "\n",
    "# option 2\n",
    "export_svgs(f, filename='manuscript_figs/Figure5B_jointmarginal.svg')\n",
    "from reportlab.graphics import renderPDF\n",
    "from svglib.svglib import svg2rlg\n",
    "\n",
    "# read in svg file\n",
    "drawing = svg2rlg('manuscript_figs/Figure5B_jointmarginal.svg')\n",
    "\n",
    "# save as pdf\n",
    "renderPDF.drawToFile(drawing, 'manuscript_figs/Figure5B_jointmarginal.pdf')"
   ]
  }
 ],
 "metadata": {
  "kernelspec": {
   "display_name": "fbl",
   "language": "python",
   "name": "python3"
  },
  "language_info": {
   "codemirror_mode": {
    "name": "ipython",
    "version": 3
   },
   "file_extension": ".py",
   "mimetype": "text/x-python",
   "name": "python",
   "nbconvert_exporter": "python",
   "pygments_lexer": "ipython3",
   "version": "3.12.4"
  }
 },
 "nbformat": 4,
 "nbformat_minor": 2
}
