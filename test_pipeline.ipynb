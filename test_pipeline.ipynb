{
 "cells": [
  {
   "cell_type": "code",
   "execution_count": 1,
   "metadata": {},
   "outputs": [
    {
     "name": "stdout",
     "output_type": "stream",
     "text": [
      "Intel MKL WARNING: Support of Intel(R) Streaming SIMD Extensions 4.2 (Intel(R) SSE4.2) enabled only processors has been deprecated. Intel oneAPI Math Kernel Library 2025.0 will require Intel(R) Advanced Vector Extensions (Intel(R) AVX) instructions.\n",
      "Intel MKL WARNING: Support of Intel(R) Streaming SIMD Extensions 4.2 (Intel(R) SSE4.2) enabled only processors has been deprecated. Intel oneAPI Math Kernel Library 2025.0 will require Intel(R) Advanced Vector Extensions (Intel(R) AVX) instructions.\n"
     ]
    }
   ],
   "source": [
    "from util import *\n",
    "import numpy as np\n",
    "import matplotlib.pyplot as plt\n",
    "from get_connectome import get_connectome, create_undirected\n",
    "hemibrain_version = 'v1.2.1'"
   ]
  },
  {
   "cell_type": "code",
   "execution_count": 2,
   "metadata": {},
   "outputs": [
    {
     "name": "stdout",
     "output_type": "stream",
     "text": [
      "2024 03 07 17:36:23  neuprint Client set up as `np_Client`, version 0.1.0\n"
     ]
    }
   ],
   "source": [
    "from neuprint import Client\n",
    "from neuprint import fetch_neurons, NeuronCriteria as NC, fetch_roi_hierarchy, fetch_primary_rois, fetch_all_rois\n",
    "\n",
    "\n",
    "auth_token_file = open(\"flybrain.auth.txt\", 'r')\n",
    "auth_token = next(auth_token_file).strip()\n",
    "try:\n",
    "    np_client = Client('neuprint.janelia.org', dataset='hemibrain:' + hemibrain_version, token=auth_token)\n",
    "    log_msg(\"neuprint Client set up as `np_Client`, version\", np_client.fetch_version())\n",
    "except:\n",
    "    np_client = None\n",
    "    log_msg(\"neuprint Client set up failed!\")"
   ]
  },
  {
   "cell_type": "code",
   "execution_count": 3,
   "metadata": {},
   "outputs": [
    {
     "name": "stdout",
     "output_type": "stream",
     "text": [
      "2024 03 07 17:36:28  Getting full connectome\n",
      "2024 03 07 17:36:28  Fetching connections among neurons using the bodyIds from partners\n"
     ]
    },
    {
     "data": {
      "application/vnd.jupyter.widget-view+json": {
       "model_id": "e2d3f06b81694185ada40d66c1e2cfe6",
       "version_major": 2,
       "version_minor": 0
      },
      "text/plain": [
       "  0%|          | 0/23 [00:00<?, ?it/s]"
      ]
     },
     "metadata": {},
     "output_type": "display_data"
    },
    {
     "name": "stdout",
     "output_type": "stream",
     "text": [
      "2024 03 07 17:37:24  Checking weight threshold\n"
     ]
    }
   ],
   "source": [
    "oviIN_r = 423101189\n",
    "connectome = get_connectome(oviIN_r)"
   ]
  },
  {
   "cell_type": "code",
   "execution_count": 4,
   "metadata": {},
   "outputs": [
    {
     "data": {
      "text/html": [
       "<div>\n",
       "<style scoped>\n",
       "    .dataframe tbody tr th:only-of-type {\n",
       "        vertical-align: middle;\n",
       "    }\n",
       "\n",
       "    .dataframe tbody tr th {\n",
       "        vertical-align: top;\n",
       "    }\n",
       "\n",
       "    .dataframe thead th {\n",
       "        text-align: right;\n",
       "    }\n",
       "</style>\n",
       "<table border=\"1\" class=\"dataframe\">\n",
       "  <thead>\n",
       "    <tr style=\"text-align: right;\">\n",
       "      <th></th>\n",
       "      <th>bodyId_pre</th>\n",
       "      <th>bodyId_post</th>\n",
       "      <th>weight</th>\n",
       "    </tr>\n",
       "  </thead>\n",
       "  <tbody>\n",
       "    <tr>\n",
       "      <th>0</th>\n",
       "      <td>203253253</td>\n",
       "      <td>203594164</td>\n",
       "      <td>2</td>\n",
       "    </tr>\n",
       "    <tr>\n",
       "      <th>1</th>\n",
       "      <td>203253253</td>\n",
       "      <td>295802733</td>\n",
       "      <td>1</td>\n",
       "    </tr>\n",
       "    <tr>\n",
       "      <th>2</th>\n",
       "      <td>203253253</td>\n",
       "      <td>296194535</td>\n",
       "      <td>1</td>\n",
       "    </tr>\n",
       "    <tr>\n",
       "      <th>3</th>\n",
       "      <td>203253253</td>\n",
       "      <td>296509709</td>\n",
       "      <td>7</td>\n",
       "    </tr>\n",
       "    <tr>\n",
       "      <th>4</th>\n",
       "      <td>203253253</td>\n",
       "      <td>296838079</td>\n",
       "      <td>35</td>\n",
       "    </tr>\n",
       "    <tr>\n",
       "      <th>...</th>\n",
       "      <td>...</td>\n",
       "      <td>...</td>\n",
       "      <td>...</td>\n",
       "    </tr>\n",
       "    <tr>\n",
       "      <th>537211</th>\n",
       "      <td>7112625282</td>\n",
       "      <td>674882250</td>\n",
       "      <td>1</td>\n",
       "    </tr>\n",
       "    <tr>\n",
       "      <th>537212</th>\n",
       "      <td>7112625282</td>\n",
       "      <td>769377106</td>\n",
       "      <td>1</td>\n",
       "    </tr>\n",
       "    <tr>\n",
       "      <th>537213</th>\n",
       "      <td>7112625282</td>\n",
       "      <td>800373114</td>\n",
       "      <td>1</td>\n",
       "    </tr>\n",
       "    <tr>\n",
       "      <th>537214</th>\n",
       "      <td>7112625282</td>\n",
       "      <td>1163199311</td>\n",
       "      <td>1</td>\n",
       "    </tr>\n",
       "    <tr>\n",
       "      <th>537215</th>\n",
       "      <td>7112625282</td>\n",
       "      <td>5813062838</td>\n",
       "      <td>1</td>\n",
       "    </tr>\n",
       "  </tbody>\n",
       "</table>\n",
       "<p>537216 rows × 3 columns</p>\n",
       "</div>"
      ],
      "text/plain": [
       "        bodyId_pre  bodyId_post  weight\n",
       "0        203253253    203594164       2\n",
       "1        203253253    295802733       1\n",
       "2        203253253    296194535       1\n",
       "3        203253253    296509709       7\n",
       "4        203253253    296838079      35\n",
       "...            ...          ...     ...\n",
       "537211  7112625282    674882250       1\n",
       "537212  7112625282    769377106       1\n",
       "537213  7112625282    800373114       1\n",
       "537214  7112625282   1163199311       1\n",
       "537215  7112625282   5813062838       1\n",
       "\n",
       "[537216 rows x 3 columns]"
      ]
     },
     "execution_count": 4,
     "metadata": {},
     "output_type": "execute_result"
    }
   ],
   "source": [
    "connectome"
   ]
  },
  {
   "cell_type": "code",
   "execution_count": 5,
   "metadata": {},
   "outputs": [],
   "source": [
    "# Get undireced list\n",
    "connectome_undirected = create_undirected(connectome)"
   ]
  },
  {
   "cell_type": "code",
   "execution_count": 6,
   "metadata": {},
   "outputs": [],
   "source": [
    "connectome_undirected.to_csv('ovi_rtest_undirected.txt', index=False, header=False)"
   ]
  },
  {
   "cell_type": "code",
   "execution_count": 16,
   "metadata": {},
   "outputs": [],
   "source": [
    "from format_edgelist import read_graph, write_edges\n",
    "from pathlib import Path\n",
    "import sys\n",
    "from sys import *\n",
    "myfile = Path('ovi_rtest_undirected.txt')\n",
    "nodes, degrees, edges = read_graph(myfile, sep=',')\n",
    "out = Path('ovi_rtest_formatted.txt')\n",
    "write_edges(out, edges, nodes)"
   ]
  },
  {
   "cell_type": "code",
   "execution_count": null,
   "metadata": {},
   "outputs": [],
   "source": []
  }
 ],
 "metadata": {
  "kernelspec": {
   "display_name": "fbl",
   "language": "python",
   "name": "python3"
  },
  "language_info": {
   "codemirror_mode": {
    "name": "ipython",
    "version": 3
   },
   "file_extension": ".py",
   "mimetype": "text/x-python",
   "name": "python",
   "nbconvert_exporter": "python",
   "pygments_lexer": "ipython3",
   "version": "3.11.7"
  }
 },
 "nbformat": 4,
 "nbformat_minor": 2
}
