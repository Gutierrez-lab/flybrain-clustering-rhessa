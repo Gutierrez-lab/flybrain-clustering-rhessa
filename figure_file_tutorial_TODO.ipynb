{
 "cells": [
  {
   "cell_type": "markdown",
   "metadata": {},
   "source": [
    "# TO DO: \" Insert Briefest Description of file/Figure\"\n",
    "This notebook goes through the steps of creating \"a figure that visualizes....\".  \n",
    "TO DO: \"Insert a description here of what data was used and how you manipulated that data to create the figure\"\n",
    "\n",
    "Create a step by step of how you pulled the data into the file and how you processed it.\\\n",
    "For example:\n",
    "1. Finds the top traced and non-cropped connections to oviEN_r\n",
    "2. Merges the neuron and connection data on the bodyId_pre column\n",
    "3. Groups the dataframe by celltype while adding up the weights if they need to\n",
    "4. Dataframe is sorted so top connections appear at the top of dataframe\n",
    "5. Data is plotted and quick analysis is written\n",
    "\n",
    "Always write who wrote the file and if you had any inspiration, cite it here. \\\n",
    "To Do: Written by \"Insert name here\""
   ]
  },
  {
   "cell_type": "markdown",
   "metadata": {},
   "source": [
    "## First Step: Imports\n",
    "Keep imports at the top of your code. This keeps a clean working file and keeps you organized as well."
   ]
  },
  {
   "cell_type": "code",
   "execution_count": 1,
   "metadata": {},
   "outputs": [],
   "source": [
    "import pandas as pd\n",
    "import numpy as np\n",
    "import matplotlib.pyplot as plt\n",
    "plt.rcParams[\"pdf.fonttype\"] = 42\n",
    "plt.rcParams[\"font.sans-serif\"] = \"Helvetica\"\n",
    "import bokeh.palettes\n",
    "from neuprint import Client, fetch_simple_connections, fetch_adjacencies, NeuronCriteria as NC, SynapseCriteria as SC\n",
    "\n",
    "# TO DO: Load in your authentication token"
   ]
  },
  {
   "cell_type": "markdown",
   "metadata": {},
   "source": [
    "## Second Step: Importing or querying data\n",
    "This will be the data you process and work with to create the figure. It is always good save data to descriptive variables. This step will look different for each task but should be labelled well. "
   ]
  },
  {
   "cell_type": "code",
   "execution_count": 2,
   "metadata": {},
   "outputs": [],
   "source": [
    "#To do\n",
    "# save the oviEN_r neuron bodyId to a variable\n",
    "\n",
    "# Create a neuron criteria that only queries neurons that are Traced and non-cropped\n"
   ]
  },
  {
   "cell_type": "code",
   "execution_count": 3,
   "metadata": {},
   "outputs": [],
   "source": [
    "# Always describe what you are doing in each cell within context to help readers follow your train of thought\n",
    "# Query in all inputs for the oviEN using the neuron criteria and a neuprint fetch function (we have used this before)\n",
    "# This should produce a neuron_df and a connection_df\n",
    "\n"
   ]
  },
  {
   "cell_type": "code",
   "execution_count": 4,
   "metadata": {},
   "outputs": [],
   "source": [
    "# print out neuron df \n"
   ]
  },
  {
   "cell_type": "code",
   "execution_count": 5,
   "metadata": {},
   "outputs": [],
   "source": [
    "# Print out connection df \n"
   ]
  },
  {
   "cell_type": "markdown",
   "metadata": {},
   "source": [
    "## Third Step: Processing Data\n",
    "This step will vary based on the data processing required to create the figure you are hoping for. Your documentation should describe your motivation for doing certain processing.  \n",
    "In this example, I would like to see the inputs of the oviEN sorted by type and plotted in a bar graph. I will need to merge the data I queried from Neuprint as the connections and type data are in seperate dataframes."
   ]
  },
  {
   "cell_type": "code",
   "execution_count": 6,
   "metadata": {},
   "outputs": [],
   "source": [
    "# Merge the connections_df with the neurons_df on the bodyID_pre column to get the types of all the presynaptic neurons\n"
   ]
  },
  {
   "cell_type": "code",
   "execution_count": 7,
   "metadata": {},
   "outputs": [],
   "source": [
    "# Group the data by type and count the number of synapses for each type based on the weight column\n",
    "# This code is a little more complex and I would recommend seaarching how to \"groupby\" and how to \"sum up a column\" at the same on a pandas dataframe\n",
    "\n"
   ]
  },
  {
   "cell_type": "code",
   "execution_count": 8,
   "metadata": {},
   "outputs": [],
   "source": [
    "# Sort that data with the strongest input to the oviEN at the top \n",
    "\n"
   ]
  },
  {
   "cell_type": "markdown",
   "metadata": {},
   "source": [
    "## Plotting data\n",
    "This will also look a bit different each time but the important parts of the plot are always the axis labels, the title and the legend if there is one. I would also recommend screenshoting and sending plots you make to your mentor before finalizing. A fresh set of eyes or correcting what the plot shows is much more fun at the moment than down the line."
   ]
  },
  {
   "cell_type": "code",
   "execution_count": 9,
   "metadata": {},
   "outputs": [],
   "source": [
    "# TO DO: Plot the data adding a title and x and y labels\n",
    "\n",
    "\n",
    "\n",
    "# Special to do: Try rotating the x labels to make them more readable (try 65 degrees)"
   ]
  }
 ],
 "metadata": {
  "kernelspec": {
   "display_name": "fbl",
   "language": "python",
   "name": "python3"
  },
  "language_info": {
   "codemirror_mode": {
    "name": "ipython",
    "version": 3
   },
   "file_extension": ".py",
   "mimetype": "text/x-python",
   "name": "python",
   "nbconvert_exporter": "python",
   "pygments_lexer": "ipython3",
   "version": "3.12.4"
  }
 },
 "nbformat": 4,
 "nbformat_minor": 2
}
